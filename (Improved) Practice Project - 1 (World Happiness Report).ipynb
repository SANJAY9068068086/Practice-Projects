{
 "cells": [
  {
   "cell_type": "markdown",
   "metadata": {},
   "source": [
    "# Practice Project - 1 (World Happiness Report)"
   ]
  },
  {
   "cell_type": "code",
   "execution_count": 1,
   "metadata": {},
   "outputs": [],
   "source": [
    "# Importing some necessary libraries\n",
    "\n",
    "\n",
    "import numpy as np\n",
    "import pandas as pd\n",
    "import seaborn as sns\n",
    "import matplotlib.pyplot as plt\n",
    "import warnings\n",
    "warnings.filterwarnings(\"ignore\")"
   ]
  },
  {
   "cell_type": "code",
   "execution_count": 2,
   "metadata": {},
   "outputs": [
    {
     "data": {
      "text/html": [
       "<div>\n",
       "<style scoped>\n",
       "    .dataframe tbody tr th:only-of-type {\n",
       "        vertical-align: middle;\n",
       "    }\n",
       "\n",
       "    .dataframe tbody tr th {\n",
       "        vertical-align: top;\n",
       "    }\n",
       "\n",
       "    .dataframe thead th {\n",
       "        text-align: right;\n",
       "    }\n",
       "</style>\n",
       "<table border=\"1\" class=\"dataframe\">\n",
       "  <thead>\n",
       "    <tr style=\"text-align: right;\">\n",
       "      <th></th>\n",
       "      <th>Country</th>\n",
       "      <th>Region</th>\n",
       "      <th>Happiness Rank</th>\n",
       "      <th>Happiness Score</th>\n",
       "      <th>Standard Error</th>\n",
       "      <th>Economy (GDP per Capita)</th>\n",
       "      <th>Family</th>\n",
       "      <th>Health (Life Expectancy)</th>\n",
       "      <th>Freedom</th>\n",
       "      <th>Trust (Government Corruption)</th>\n",
       "      <th>Generosity</th>\n",
       "      <th>Dystopia Residual</th>\n",
       "    </tr>\n",
       "  </thead>\n",
       "  <tbody>\n",
       "    <tr>\n",
       "      <th>0</th>\n",
       "      <td>Switzerland</td>\n",
       "      <td>Western Europe</td>\n",
       "      <td>1</td>\n",
       "      <td>7.587</td>\n",
       "      <td>0.03411</td>\n",
       "      <td>1.39651</td>\n",
       "      <td>1.34951</td>\n",
       "      <td>0.94143</td>\n",
       "      <td>0.66557</td>\n",
       "      <td>0.41978</td>\n",
       "      <td>0.29678</td>\n",
       "      <td>2.51738</td>\n",
       "    </tr>\n",
       "    <tr>\n",
       "      <th>1</th>\n",
       "      <td>Iceland</td>\n",
       "      <td>Western Europe</td>\n",
       "      <td>2</td>\n",
       "      <td>7.561</td>\n",
       "      <td>0.04884</td>\n",
       "      <td>1.30232</td>\n",
       "      <td>1.40223</td>\n",
       "      <td>0.94784</td>\n",
       "      <td>0.62877</td>\n",
       "      <td>0.14145</td>\n",
       "      <td>0.43630</td>\n",
       "      <td>2.70201</td>\n",
       "    </tr>\n",
       "    <tr>\n",
       "      <th>2</th>\n",
       "      <td>Denmark</td>\n",
       "      <td>Western Europe</td>\n",
       "      <td>3</td>\n",
       "      <td>7.527</td>\n",
       "      <td>0.03328</td>\n",
       "      <td>1.32548</td>\n",
       "      <td>1.36058</td>\n",
       "      <td>0.87464</td>\n",
       "      <td>0.64938</td>\n",
       "      <td>0.48357</td>\n",
       "      <td>0.34139</td>\n",
       "      <td>2.49204</td>\n",
       "    </tr>\n",
       "    <tr>\n",
       "      <th>3</th>\n",
       "      <td>Norway</td>\n",
       "      <td>Western Europe</td>\n",
       "      <td>4</td>\n",
       "      <td>7.522</td>\n",
       "      <td>0.03880</td>\n",
       "      <td>1.45900</td>\n",
       "      <td>1.33095</td>\n",
       "      <td>0.88521</td>\n",
       "      <td>0.66973</td>\n",
       "      <td>0.36503</td>\n",
       "      <td>0.34699</td>\n",
       "      <td>2.46531</td>\n",
       "    </tr>\n",
       "    <tr>\n",
       "      <th>4</th>\n",
       "      <td>Canada</td>\n",
       "      <td>North America</td>\n",
       "      <td>5</td>\n",
       "      <td>7.427</td>\n",
       "      <td>0.03553</td>\n",
       "      <td>1.32629</td>\n",
       "      <td>1.32261</td>\n",
       "      <td>0.90563</td>\n",
       "      <td>0.63297</td>\n",
       "      <td>0.32957</td>\n",
       "      <td>0.45811</td>\n",
       "      <td>2.45176</td>\n",
       "    </tr>\n",
       "  </tbody>\n",
       "</table>\n",
       "</div>"
      ],
      "text/plain": [
       "       Country          Region  Happiness Rank  Happiness Score  \\\n",
       "0  Switzerland  Western Europe               1            7.587   \n",
       "1      Iceland  Western Europe               2            7.561   \n",
       "2      Denmark  Western Europe               3            7.527   \n",
       "3       Norway  Western Europe               4            7.522   \n",
       "4       Canada   North America               5            7.427   \n",
       "\n",
       "   Standard Error  Economy (GDP per Capita)   Family  \\\n",
       "0         0.03411                   1.39651  1.34951   \n",
       "1         0.04884                   1.30232  1.40223   \n",
       "2         0.03328                   1.32548  1.36058   \n",
       "3         0.03880                   1.45900  1.33095   \n",
       "4         0.03553                   1.32629  1.32261   \n",
       "\n",
       "   Health (Life Expectancy)  Freedom  Trust (Government Corruption)  \\\n",
       "0                   0.94143  0.66557                        0.41978   \n",
       "1                   0.94784  0.62877                        0.14145   \n",
       "2                   0.87464  0.64938                        0.48357   \n",
       "3                   0.88521  0.66973                        0.36503   \n",
       "4                   0.90563  0.63297                        0.32957   \n",
       "\n",
       "   Generosity  Dystopia Residual  \n",
       "0     0.29678            2.51738  \n",
       "1     0.43630            2.70201  \n",
       "2     0.34139            2.49204  \n",
       "3     0.34699            2.46531  \n",
       "4     0.45811            2.45176  "
      ]
     },
     "execution_count": 2,
     "metadata": {},
     "output_type": "execute_result"
    }
   ],
   "source": [
    "# Import the dataset\n",
    "\n",
    "project_1 = pd.read_csv(r\"D:\\Data Trained Projects\\happiness_score_dataset.csv\")\n",
    "project_1.head()"
   ]
  },
  {
   "cell_type": "code",
   "execution_count": 3,
   "metadata": {},
   "outputs": [
    {
     "name": "stdout",
     "output_type": "stream",
     "text": [
      "Shape of the dataset is :  (158, 12)\n"
     ]
    }
   ],
   "source": [
    "# Check the shape of the dataset\n",
    "\n",
    "print(\"Shape of the dataset is : \",project_1.shape)"
   ]
  },
  {
   "cell_type": "code",
   "execution_count": 4,
   "metadata": {
    "scrolled": false
   },
   "outputs": [
    {
     "data": {
      "text/html": [
       "<div>\n",
       "<style scoped>\n",
       "    .dataframe tbody tr th:only-of-type {\n",
       "        vertical-align: middle;\n",
       "    }\n",
       "\n",
       "    .dataframe tbody tr th {\n",
       "        vertical-align: top;\n",
       "    }\n",
       "\n",
       "    .dataframe thead th {\n",
       "        text-align: right;\n",
       "    }\n",
       "</style>\n",
       "<table border=\"1\" class=\"dataframe\">\n",
       "  <thead>\n",
       "    <tr style=\"text-align: right;\">\n",
       "      <th></th>\n",
       "      <th>Happiness Rank</th>\n",
       "      <th>Happiness Score</th>\n",
       "      <th>Standard Error</th>\n",
       "      <th>Economy (GDP per Capita)</th>\n",
       "      <th>Family</th>\n",
       "      <th>Health (Life Expectancy)</th>\n",
       "      <th>Freedom</th>\n",
       "      <th>Trust (Government Corruption)</th>\n",
       "      <th>Generosity</th>\n",
       "      <th>Dystopia Residual</th>\n",
       "    </tr>\n",
       "  </thead>\n",
       "  <tbody>\n",
       "    <tr>\n",
       "      <th>count</th>\n",
       "      <td>158.000000</td>\n",
       "      <td>158.000000</td>\n",
       "      <td>158.000000</td>\n",
       "      <td>158.000000</td>\n",
       "      <td>158.000000</td>\n",
       "      <td>158.000000</td>\n",
       "      <td>158.000000</td>\n",
       "      <td>158.000000</td>\n",
       "      <td>158.000000</td>\n",
       "      <td>158.000000</td>\n",
       "    </tr>\n",
       "    <tr>\n",
       "      <th>mean</th>\n",
       "      <td>79.493671</td>\n",
       "      <td>5.375734</td>\n",
       "      <td>0.047885</td>\n",
       "      <td>0.846137</td>\n",
       "      <td>0.991046</td>\n",
       "      <td>0.630259</td>\n",
       "      <td>0.428615</td>\n",
       "      <td>0.143422</td>\n",
       "      <td>0.237296</td>\n",
       "      <td>2.098977</td>\n",
       "    </tr>\n",
       "    <tr>\n",
       "      <th>std</th>\n",
       "      <td>45.754363</td>\n",
       "      <td>1.145010</td>\n",
       "      <td>0.017146</td>\n",
       "      <td>0.403121</td>\n",
       "      <td>0.272369</td>\n",
       "      <td>0.247078</td>\n",
       "      <td>0.150693</td>\n",
       "      <td>0.120034</td>\n",
       "      <td>0.126685</td>\n",
       "      <td>0.553550</td>\n",
       "    </tr>\n",
       "    <tr>\n",
       "      <th>min</th>\n",
       "      <td>1.000000</td>\n",
       "      <td>2.839000</td>\n",
       "      <td>0.018480</td>\n",
       "      <td>0.000000</td>\n",
       "      <td>0.000000</td>\n",
       "      <td>0.000000</td>\n",
       "      <td>0.000000</td>\n",
       "      <td>0.000000</td>\n",
       "      <td>0.000000</td>\n",
       "      <td>0.328580</td>\n",
       "    </tr>\n",
       "    <tr>\n",
       "      <th>25%</th>\n",
       "      <td>40.250000</td>\n",
       "      <td>4.526000</td>\n",
       "      <td>0.037268</td>\n",
       "      <td>0.545808</td>\n",
       "      <td>0.856823</td>\n",
       "      <td>0.439185</td>\n",
       "      <td>0.328330</td>\n",
       "      <td>0.061675</td>\n",
       "      <td>0.150553</td>\n",
       "      <td>1.759410</td>\n",
       "    </tr>\n",
       "    <tr>\n",
       "      <th>50%</th>\n",
       "      <td>79.500000</td>\n",
       "      <td>5.232500</td>\n",
       "      <td>0.043940</td>\n",
       "      <td>0.910245</td>\n",
       "      <td>1.029510</td>\n",
       "      <td>0.696705</td>\n",
       "      <td>0.435515</td>\n",
       "      <td>0.107220</td>\n",
       "      <td>0.216130</td>\n",
       "      <td>2.095415</td>\n",
       "    </tr>\n",
       "    <tr>\n",
       "      <th>75%</th>\n",
       "      <td>118.750000</td>\n",
       "      <td>6.243750</td>\n",
       "      <td>0.052300</td>\n",
       "      <td>1.158448</td>\n",
       "      <td>1.214405</td>\n",
       "      <td>0.811013</td>\n",
       "      <td>0.549092</td>\n",
       "      <td>0.180255</td>\n",
       "      <td>0.309883</td>\n",
       "      <td>2.462415</td>\n",
       "    </tr>\n",
       "    <tr>\n",
       "      <th>max</th>\n",
       "      <td>158.000000</td>\n",
       "      <td>7.587000</td>\n",
       "      <td>0.136930</td>\n",
       "      <td>1.690420</td>\n",
       "      <td>1.402230</td>\n",
       "      <td>1.025250</td>\n",
       "      <td>0.669730</td>\n",
       "      <td>0.551910</td>\n",
       "      <td>0.795880</td>\n",
       "      <td>3.602140</td>\n",
       "    </tr>\n",
       "  </tbody>\n",
       "</table>\n",
       "</div>"
      ],
      "text/plain": [
       "       Happiness Rank  Happiness Score  Standard Error  \\\n",
       "count      158.000000       158.000000      158.000000   \n",
       "mean        79.493671         5.375734        0.047885   \n",
       "std         45.754363         1.145010        0.017146   \n",
       "min          1.000000         2.839000        0.018480   \n",
       "25%         40.250000         4.526000        0.037268   \n",
       "50%         79.500000         5.232500        0.043940   \n",
       "75%        118.750000         6.243750        0.052300   \n",
       "max        158.000000         7.587000        0.136930   \n",
       "\n",
       "       Economy (GDP per Capita)      Family  Health (Life Expectancy)  \\\n",
       "count                158.000000  158.000000                158.000000   \n",
       "mean                   0.846137    0.991046                  0.630259   \n",
       "std                    0.403121    0.272369                  0.247078   \n",
       "min                    0.000000    0.000000                  0.000000   \n",
       "25%                    0.545808    0.856823                  0.439185   \n",
       "50%                    0.910245    1.029510                  0.696705   \n",
       "75%                    1.158448    1.214405                  0.811013   \n",
       "max                    1.690420    1.402230                  1.025250   \n",
       "\n",
       "          Freedom  Trust (Government Corruption)  Generosity  \\\n",
       "count  158.000000                     158.000000  158.000000   \n",
       "mean     0.428615                       0.143422    0.237296   \n",
       "std      0.150693                       0.120034    0.126685   \n",
       "min      0.000000                       0.000000    0.000000   \n",
       "25%      0.328330                       0.061675    0.150553   \n",
       "50%      0.435515                       0.107220    0.216130   \n",
       "75%      0.549092                       0.180255    0.309883   \n",
       "max      0.669730                       0.551910    0.795880   \n",
       "\n",
       "       Dystopia Residual  \n",
       "count         158.000000  \n",
       "mean            2.098977  \n",
       "std             0.553550  \n",
       "min             0.328580  \n",
       "25%             1.759410  \n",
       "50%             2.095415  \n",
       "75%             2.462415  \n",
       "max             3.602140  "
      ]
     },
     "execution_count": 4,
     "metadata": {},
     "output_type": "execute_result"
    }
   ],
   "source": [
    "# Let's describe the dataset for deep analysis\n",
    "\n",
    "project_1.describe()"
   ]
  },
  {
   "cell_type": "markdown",
   "metadata": {},
   "source": [
    "## Missing Values Treatment"
   ]
  },
  {
   "cell_type": "code",
   "execution_count": 5,
   "metadata": {},
   "outputs": [],
   "source": [
    "project_1[\"Economy (GDP per Capita)\"]=project_1[\"Economy (GDP per Capita)\"].replace(0,project_1[\"Economy (GDP per Capita)\"].mean())\n",
    "\n",
    "project_1[\"Family\"]=project_1[\"Family\"].replace(0,project_1[\"Family\"].mean())\n",
    "\n",
    "project_1[\"Health (Life Expectancy)\"]=project_1[\"Health (Life Expectancy)\"].replace(0,project_1[\"Health (Life Expectancy)\"].mean())\n",
    "\n",
    "project_1[\"Freedom\"]=project_1[\"Freedom\"].replace(0,project_1[\"Freedom\"].mean())\n",
    "\n",
    "project_1[\"Trust (Government Corruption)\"]=project_1[\"Trust (Government Corruption)\"].replace(0,project_1[\"Trust (Government Corruption)\"].mean())\n",
    "\n",
    "project_1[\"Generosity\"]=project_1[\"Generosity\"].replace(0,project_1[\"Generosity\"].mean())\n",
    "\n",
    "project_1[\"Dystopia Residual\"]=project_1[\"Dystopia Residual\"].replace(0,project_1[\"Dystopia Residual\"].mean())"
   ]
  },
  {
   "cell_type": "code",
   "execution_count": 6,
   "metadata": {
    "scrolled": true
   },
   "outputs": [
    {
     "data": {
      "text/html": [
       "<div>\n",
       "<style scoped>\n",
       "    .dataframe tbody tr th:only-of-type {\n",
       "        vertical-align: middle;\n",
       "    }\n",
       "\n",
       "    .dataframe tbody tr th {\n",
       "        vertical-align: top;\n",
       "    }\n",
       "\n",
       "    .dataframe thead th {\n",
       "        text-align: right;\n",
       "    }\n",
       "</style>\n",
       "<table border=\"1\" class=\"dataframe\">\n",
       "  <thead>\n",
       "    <tr style=\"text-align: right;\">\n",
       "      <th></th>\n",
       "      <th>Happiness Rank</th>\n",
       "      <th>Happiness Score</th>\n",
       "      <th>Standard Error</th>\n",
       "      <th>Economy (GDP per Capita)</th>\n",
       "      <th>Family</th>\n",
       "      <th>Health (Life Expectancy)</th>\n",
       "      <th>Freedom</th>\n",
       "      <th>Trust (Government Corruption)</th>\n",
       "      <th>Generosity</th>\n",
       "      <th>Dystopia Residual</th>\n",
       "    </tr>\n",
       "  </thead>\n",
       "  <tbody>\n",
       "    <tr>\n",
       "      <th>count</th>\n",
       "      <td>158.000000</td>\n",
       "      <td>158.000000</td>\n",
       "      <td>158.000000</td>\n",
       "      <td>158.000000</td>\n",
       "      <td>158.000000</td>\n",
       "      <td>158.000000</td>\n",
       "      <td>158.000000</td>\n",
       "      <td>158.000000</td>\n",
       "      <td>158.000000</td>\n",
       "      <td>158.000000</td>\n",
       "    </tr>\n",
       "    <tr>\n",
       "      <th>mean</th>\n",
       "      <td>79.493671</td>\n",
       "      <td>5.375734</td>\n",
       "      <td>0.047885</td>\n",
       "      <td>0.851493</td>\n",
       "      <td>0.997318</td>\n",
       "      <td>0.634248</td>\n",
       "      <td>0.431328</td>\n",
       "      <td>0.144330</td>\n",
       "      <td>0.238797</td>\n",
       "      <td>2.098977</td>\n",
       "    </tr>\n",
       "    <tr>\n",
       "      <th>std</th>\n",
       "      <td>45.754363</td>\n",
       "      <td>1.145010</td>\n",
       "      <td>0.017146</td>\n",
       "      <td>0.397388</td>\n",
       "      <td>0.260556</td>\n",
       "      <td>0.241870</td>\n",
       "      <td>0.146734</td>\n",
       "      <td>0.119484</td>\n",
       "      <td>0.125252</td>\n",
       "      <td>0.553550</td>\n",
       "    </tr>\n",
       "    <tr>\n",
       "      <th>min</th>\n",
       "      <td>1.000000</td>\n",
       "      <td>2.839000</td>\n",
       "      <td>0.018480</td>\n",
       "      <td>0.015300</td>\n",
       "      <td>0.139950</td>\n",
       "      <td>0.047760</td>\n",
       "      <td>0.076990</td>\n",
       "      <td>0.002270</td>\n",
       "      <td>0.001990</td>\n",
       "      <td>0.328580</td>\n",
       "    </tr>\n",
       "    <tr>\n",
       "      <th>25%</th>\n",
       "      <td>40.250000</td>\n",
       "      <td>4.526000</td>\n",
       "      <td>0.037268</td>\n",
       "      <td>0.557532</td>\n",
       "      <td>0.861422</td>\n",
       "      <td>0.447215</td>\n",
       "      <td>0.329603</td>\n",
       "      <td>0.062550</td>\n",
       "      <td>0.154913</td>\n",
       "      <td>1.759410</td>\n",
       "    </tr>\n",
       "    <tr>\n",
       "      <th>50%</th>\n",
       "      <td>79.500000</td>\n",
       "      <td>5.232500</td>\n",
       "      <td>0.043940</td>\n",
       "      <td>0.910245</td>\n",
       "      <td>1.029510</td>\n",
       "      <td>0.696705</td>\n",
       "      <td>0.435515</td>\n",
       "      <td>0.108770</td>\n",
       "      <td>0.217155</td>\n",
       "      <td>2.095415</td>\n",
       "    </tr>\n",
       "    <tr>\n",
       "      <th>75%</th>\n",
       "      <td>118.750000</td>\n",
       "      <td>6.243750</td>\n",
       "      <td>0.052300</td>\n",
       "      <td>1.158448</td>\n",
       "      <td>1.214405</td>\n",
       "      <td>0.811013</td>\n",
       "      <td>0.549092</td>\n",
       "      <td>0.180255</td>\n",
       "      <td>0.309883</td>\n",
       "      <td>2.462415</td>\n",
       "    </tr>\n",
       "    <tr>\n",
       "      <th>max</th>\n",
       "      <td>158.000000</td>\n",
       "      <td>7.587000</td>\n",
       "      <td>0.136930</td>\n",
       "      <td>1.690420</td>\n",
       "      <td>1.402230</td>\n",
       "      <td>1.025250</td>\n",
       "      <td>0.669730</td>\n",
       "      <td>0.551910</td>\n",
       "      <td>0.795880</td>\n",
       "      <td>3.602140</td>\n",
       "    </tr>\n",
       "  </tbody>\n",
       "</table>\n",
       "</div>"
      ],
      "text/plain": [
       "       Happiness Rank  Happiness Score  Standard Error  \\\n",
       "count      158.000000       158.000000      158.000000   \n",
       "mean        79.493671         5.375734        0.047885   \n",
       "std         45.754363         1.145010        0.017146   \n",
       "min          1.000000         2.839000        0.018480   \n",
       "25%         40.250000         4.526000        0.037268   \n",
       "50%         79.500000         5.232500        0.043940   \n",
       "75%        118.750000         6.243750        0.052300   \n",
       "max        158.000000         7.587000        0.136930   \n",
       "\n",
       "       Economy (GDP per Capita)      Family  Health (Life Expectancy)  \\\n",
       "count                158.000000  158.000000                158.000000   \n",
       "mean                   0.851493    0.997318                  0.634248   \n",
       "std                    0.397388    0.260556                  0.241870   \n",
       "min                    0.015300    0.139950                  0.047760   \n",
       "25%                    0.557532    0.861422                  0.447215   \n",
       "50%                    0.910245    1.029510                  0.696705   \n",
       "75%                    1.158448    1.214405                  0.811013   \n",
       "max                    1.690420    1.402230                  1.025250   \n",
       "\n",
       "          Freedom  Trust (Government Corruption)  Generosity  \\\n",
       "count  158.000000                     158.000000  158.000000   \n",
       "mean     0.431328                       0.144330    0.238797   \n",
       "std      0.146734                       0.119484    0.125252   \n",
       "min      0.076990                       0.002270    0.001990   \n",
       "25%      0.329603                       0.062550    0.154913   \n",
       "50%      0.435515                       0.108770    0.217155   \n",
       "75%      0.549092                       0.180255    0.309883   \n",
       "max      0.669730                       0.551910    0.795880   \n",
       "\n",
       "       Dystopia Residual  \n",
       "count         158.000000  \n",
       "mean            2.098977  \n",
       "std             0.553550  \n",
       "min             0.328580  \n",
       "25%             1.759410  \n",
       "50%             2.095415  \n",
       "75%             2.462415  \n",
       "max             3.602140  "
      ]
     },
     "execution_count": 6,
     "metadata": {},
     "output_type": "execute_result"
    }
   ],
   "source": [
    "# So, Let's describe the dataset again\n",
    "\n",
    "project_1.describe()"
   ]
  },
  {
   "cell_type": "code",
   "execution_count": 7,
   "metadata": {
    "scrolled": true
   },
   "outputs": [
    {
     "data": {
      "text/plain": [
       "Country                          0\n",
       "Region                           0\n",
       "Happiness Rank                   0\n",
       "Happiness Score                  0\n",
       "Standard Error                   0\n",
       "Economy (GDP per Capita)         0\n",
       "Family                           0\n",
       "Health (Life Expectancy)         0\n",
       "Freedom                          0\n",
       "Trust (Government Corruption)    0\n",
       "Generosity                       0\n",
       "Dystopia Residual                0\n",
       "dtype: int64"
      ]
     },
     "execution_count": 7,
     "metadata": {},
     "output_type": "execute_result"
    }
   ],
   "source": [
    "# finding the null values if any...\n",
    "\n",
    "project_1.isnull().sum()"
   ]
  },
  {
   "cell_type": "markdown",
   "metadata": {},
   "source": [
    "#### Machine Learning Model understand only numerical values. So, let's separate the numerical features"
   ]
  },
  {
   "cell_type": "code",
   "execution_count": 8,
   "metadata": {
    "scrolled": false
   },
   "outputs": [
    {
     "data": {
      "text/html": [
       "<div>\n",
       "<style scoped>\n",
       "    .dataframe tbody tr th:only-of-type {\n",
       "        vertical-align: middle;\n",
       "    }\n",
       "\n",
       "    .dataframe tbody tr th {\n",
       "        vertical-align: top;\n",
       "    }\n",
       "\n",
       "    .dataframe thead th {\n",
       "        text-align: right;\n",
       "    }\n",
       "</style>\n",
       "<table border=\"1\" class=\"dataframe\">\n",
       "  <thead>\n",
       "    <tr style=\"text-align: right;\">\n",
       "      <th></th>\n",
       "      <th>Happiness Rank</th>\n",
       "      <th>Happiness Score</th>\n",
       "      <th>Standard Error</th>\n",
       "      <th>Economy (GDP per Capita)</th>\n",
       "      <th>Family</th>\n",
       "      <th>Health (Life Expectancy)</th>\n",
       "      <th>Freedom</th>\n",
       "      <th>Trust (Government Corruption)</th>\n",
       "      <th>Generosity</th>\n",
       "      <th>Dystopia Residual</th>\n",
       "    </tr>\n",
       "  </thead>\n",
       "  <tbody>\n",
       "    <tr>\n",
       "      <th>0</th>\n",
       "      <td>1</td>\n",
       "      <td>7.587</td>\n",
       "      <td>0.03411</td>\n",
       "      <td>1.39651</td>\n",
       "      <td>1.34951</td>\n",
       "      <td>0.94143</td>\n",
       "      <td>0.66557</td>\n",
       "      <td>0.41978</td>\n",
       "      <td>0.29678</td>\n",
       "      <td>2.51738</td>\n",
       "    </tr>\n",
       "    <tr>\n",
       "      <th>1</th>\n",
       "      <td>2</td>\n",
       "      <td>7.561</td>\n",
       "      <td>0.04884</td>\n",
       "      <td>1.30232</td>\n",
       "      <td>1.40223</td>\n",
       "      <td>0.94784</td>\n",
       "      <td>0.62877</td>\n",
       "      <td>0.14145</td>\n",
       "      <td>0.43630</td>\n",
       "      <td>2.70201</td>\n",
       "    </tr>\n",
       "    <tr>\n",
       "      <th>2</th>\n",
       "      <td>3</td>\n",
       "      <td>7.527</td>\n",
       "      <td>0.03328</td>\n",
       "      <td>1.32548</td>\n",
       "      <td>1.36058</td>\n",
       "      <td>0.87464</td>\n",
       "      <td>0.64938</td>\n",
       "      <td>0.48357</td>\n",
       "      <td>0.34139</td>\n",
       "      <td>2.49204</td>\n",
       "    </tr>\n",
       "    <tr>\n",
       "      <th>3</th>\n",
       "      <td>4</td>\n",
       "      <td>7.522</td>\n",
       "      <td>0.03880</td>\n",
       "      <td>1.45900</td>\n",
       "      <td>1.33095</td>\n",
       "      <td>0.88521</td>\n",
       "      <td>0.66973</td>\n",
       "      <td>0.36503</td>\n",
       "      <td>0.34699</td>\n",
       "      <td>2.46531</td>\n",
       "    </tr>\n",
       "    <tr>\n",
       "      <th>4</th>\n",
       "      <td>5</td>\n",
       "      <td>7.427</td>\n",
       "      <td>0.03553</td>\n",
       "      <td>1.32629</td>\n",
       "      <td>1.32261</td>\n",
       "      <td>0.90563</td>\n",
       "      <td>0.63297</td>\n",
       "      <td>0.32957</td>\n",
       "      <td>0.45811</td>\n",
       "      <td>2.45176</td>\n",
       "    </tr>\n",
       "  </tbody>\n",
       "</table>\n",
       "</div>"
      ],
      "text/plain": [
       "   Happiness Rank  Happiness Score  Standard Error  Economy (GDP per Capita)  \\\n",
       "0               1            7.587         0.03411                   1.39651   \n",
       "1               2            7.561         0.04884                   1.30232   \n",
       "2               3            7.527         0.03328                   1.32548   \n",
       "3               4            7.522         0.03880                   1.45900   \n",
       "4               5            7.427         0.03553                   1.32629   \n",
       "\n",
       "    Family  Health (Life Expectancy)  Freedom  Trust (Government Corruption)  \\\n",
       "0  1.34951                   0.94143  0.66557                        0.41978   \n",
       "1  1.40223                   0.94784  0.62877                        0.14145   \n",
       "2  1.36058                   0.87464  0.64938                        0.48357   \n",
       "3  1.33095                   0.88521  0.66973                        0.36503   \n",
       "4  1.32261                   0.90563  0.63297                        0.32957   \n",
       "\n",
       "   Generosity  Dystopia Residual  \n",
       "0     0.29678            2.51738  \n",
       "1     0.43630            2.70201  \n",
       "2     0.34139            2.49204  \n",
       "3     0.34699            2.46531  \n",
       "4     0.45811            2.45176  "
      ]
     },
     "execution_count": 8,
     "metadata": {},
     "output_type": "execute_result"
    }
   ],
   "source": [
    "# Separate the categorical features, numerical features and label\n",
    "\n",
    "alphabet_columns=project_1[[\"Country\",\"Region\"]]\n",
    "numeric_columns=project_1.drop([\"Country\", \"Region\"], axis=1)\n",
    "numeric_columns.head()"
   ]
  },
  {
   "cell_type": "markdown",
   "metadata": {},
   "source": [
    "### Visualizing the outliers using boxplot"
   ]
  },
  {
   "cell_type": "code",
   "execution_count": 9,
   "metadata": {
    "scrolled": true
   },
   "outputs": [
    {
     "data": {
      "image/png": "[encoded data removed]",
      "text/plain": [
       "<Figure size 1440x1800 with 10 Axes>"
      ]
     },
     "metadata": {},
     "output_type": "display_data"
    }
   ],
   "source": [
    "# Visualizing the outliers using boxplot\n",
    "\n",
    "plt.figure(figsize = (20,25), facecolor='white')\n",
    "graphplot = 1\n",
    "for column in numeric_columns:\n",
    "    if graphplot <=10:\n",
    "        ax=plt.subplot(4,3,graphplot)\n",
    "        sns.boxplot(numeric_columns[column])\n",
    "        plt.xlabel(column, fontsize = 15)\n",
    "    graphplot +=1\n",
    "plt.show()"
   ]
  },
  {
   "cell_type": "code",
   "execution_count": 10,
   "metadata": {
    "scrolled": false
   },
   "outputs": [
    {
     "data": {
      "text/plain": [
       "Happiness Rank                   0.000418\n",
       "Happiness Score                  0.097769\n",
       "Standard Error                   1.983439\n",
       "Economy (GDP per Capita)        -0.310193\n",
       "Family                          -0.868321\n",
       "Health (Life Expectancy)        -0.687847\n",
       "Freedom                         -0.343236\n",
       "Trust (Government Corruption)    1.392773\n",
       "Generosity                       1.044168\n",
       "Dystopia Residual               -0.238911\n",
       "dtype: float64"
      ]
     },
     "execution_count": 10,
     "metadata": {},
     "output_type": "execute_result"
    }
   ],
   "source": [
    "project_1.skew()"
   ]
  },
  {
   "cell_type": "markdown",
   "metadata": {},
   "source": [
    "### Considring the range -0.05 to +0.05 as the range for skewness.  Now I am going to use the outlier Removal method to lie the features between this range."
   ]
  },
  {
   "cell_type": "markdown",
   "metadata": {},
   "source": [
    "## Outlier Removal"
   ]
  },
  {
   "cell_type": "code",
   "execution_count": 11,
   "metadata": {},
   "outputs": [],
   "source": [
    "feature = [\"Standard Error\", \"Family\", \"Trust (Government Corruption)\", \"Generosity\", \"Health (Life Expectancy)\"]"
   ]
  },
  {
   "cell_type": "code",
   "execution_count": 12,
   "metadata": {},
   "outputs": [
    {
     "data": {
      "text/plain": [
       "(158, 5)"
      ]
     },
     "execution_count": 12,
     "metadata": {},
     "output_type": "execute_result"
    }
   ],
   "source": [
    "project_1[feature].shape"
   ]
  },
  {
   "cell_type": "code",
   "execution_count": 13,
   "metadata": {},
   "outputs": [],
   "source": [
    "from sklearn.preprocessing import PowerTransformer"
   ]
  },
  {
   "cell_type": "code",
   "execution_count": 14,
   "metadata": {},
   "outputs": [],
   "source": [
    "scaler = PowerTransformer(method = 'yeo-johnson')\n",
    "project_1[feature] = scaler.fit_transform(project_1[feature].values)"
   ]
  },
  {
   "cell_type": "code",
   "execution_count": 15,
   "metadata": {},
   "outputs": [
    {
     "data": {
      "text/html": [
       "<div>\n",
       "<style scoped>\n",
       "    .dataframe tbody tr th:only-of-type {\n",
       "        vertical-align: middle;\n",
       "    }\n",
       "\n",
       "    .dataframe tbody tr th {\n",
       "        vertical-align: top;\n",
       "    }\n",
       "\n",
       "    .dataframe thead th {\n",
       "        text-align: right;\n",
       "    }\n",
       "</style>\n",
       "<table border=\"1\" class=\"dataframe\">\n",
       "  <thead>\n",
       "    <tr style=\"text-align: right;\">\n",
       "      <th></th>\n",
       "      <th>Happiness Rank</th>\n",
       "      <th>Happiness Score</th>\n",
       "      <th>Standard Error</th>\n",
       "      <th>Economy (GDP per Capita)</th>\n",
       "      <th>Family</th>\n",
       "      <th>Health (Life Expectancy)</th>\n",
       "      <th>Freedom</th>\n",
       "      <th>Trust (Government Corruption)</th>\n",
       "      <th>Generosity</th>\n",
       "      <th>Dystopia Residual</th>\n",
       "    </tr>\n",
       "  </thead>\n",
       "  <tbody>\n",
       "    <tr>\n",
       "      <th>count</th>\n",
       "      <td>158.000000</td>\n",
       "      <td>158.000000</td>\n",
       "      <td>1.580000e+02</td>\n",
       "      <td>158.000000</td>\n",
       "      <td>1.580000e+02</td>\n",
       "      <td>1.580000e+02</td>\n",
       "      <td>158.000000</td>\n",
       "      <td>1.580000e+02</td>\n",
       "      <td>1.580000e+02</td>\n",
       "      <td>158.000000</td>\n",
       "    </tr>\n",
       "    <tr>\n",
       "      <th>mean</th>\n",
       "      <td>79.493671</td>\n",
       "      <td>5.375734</td>\n",
       "      <td>7.364011e-16</td>\n",
       "      <td>0.851493</td>\n",
       "      <td>1.011849e-16</td>\n",
       "      <td>3.091760e-17</td>\n",
       "      <td>0.431328</td>\n",
       "      <td>-3.408841e-16</td>\n",
       "      <td>-2.775558e-16</td>\n",
       "      <td>2.098977</td>\n",
       "    </tr>\n",
       "    <tr>\n",
       "      <th>std</th>\n",
       "      <td>45.754363</td>\n",
       "      <td>1.145010</td>\n",
       "      <td>1.003180e+00</td>\n",
       "      <td>0.397388</td>\n",
       "      <td>1.003180e+00</td>\n",
       "      <td>1.003180e+00</td>\n",
       "      <td>0.146734</td>\n",
       "      <td>1.003180e+00</td>\n",
       "      <td>1.003180e+00</td>\n",
       "      <td>0.553550</td>\n",
       "    </tr>\n",
       "    <tr>\n",
       "      <th>min</th>\n",
       "      <td>1.000000</td>\n",
       "      <td>2.839000</td>\n",
       "      <td>-3.090112e+00</td>\n",
       "      <td>0.015300</td>\n",
       "      <td>-2.229652e+00</td>\n",
       "      <td>-1.926945e+00</td>\n",
       "      <td>0.076990</td>\n",
       "      <td>-1.944968e+00</td>\n",
       "      <td>-2.769280e+00</td>\n",
       "      <td>0.328580</td>\n",
       "    </tr>\n",
       "    <tr>\n",
       "      <th>25%</th>\n",
       "      <td>40.250000</td>\n",
       "      <td>4.526000</td>\n",
       "      <td>-6.497765e-01</td>\n",
       "      <td>0.557532</td>\n",
       "      <td>-6.960706e-01</td>\n",
       "      <td>-8.988163e-01</td>\n",
       "      <td>0.329603</td>\n",
       "      <td>-7.272944e-01</td>\n",
       "      <td>-6.398819e-01</td>\n",
       "      <td>1.759410</td>\n",
       "    </tr>\n",
       "    <tr>\n",
       "      <th>50%</th>\n",
       "      <td>79.500000</td>\n",
       "      <td>5.232500</td>\n",
       "      <td>-5.810529e-02</td>\n",
       "      <td>0.910245</td>\n",
       "      <td>-3.172820e-02</td>\n",
       "      <td>1.310609e-01</td>\n",
       "      <td>0.435515</td>\n",
       "      <td>-6.203099e-02</td>\n",
       "      <td>-2.110115e-02</td>\n",
       "      <td>2.095415</td>\n",
       "    </tr>\n",
       "    <tr>\n",
       "      <th>75%</th>\n",
       "      <td>118.750000</td>\n",
       "      <td>6.243750</td>\n",
       "      <td>5.393874e-01</td>\n",
       "      <td>1.158448</td>\n",
       "      <td>8.781814e-01</td>\n",
       "      <td>7.224490e-01</td>\n",
       "      <td>0.549092</td>\n",
       "      <td>6.648982e-01</td>\n",
       "      <td>7.216871e-01</td>\n",
       "      <td>2.462415</td>\n",
       "    </tr>\n",
       "    <tr>\n",
       "      <th>max</th>\n",
       "      <td>158.000000</td>\n",
       "      <td>7.587000</td>\n",
       "      <td>2.586272e+00</td>\n",
       "      <td>1.690420</td>\n",
       "      <td>2.021196e+00</td>\n",
       "      <td>2.058386e+00</td>\n",
       "      <td>0.669730</td>\n",
       "      <td>2.012668e+00</td>\n",
       "      <td>2.757439e+00</td>\n",
       "      <td>3.602140</td>\n",
       "    </tr>\n",
       "  </tbody>\n",
       "</table>\n",
       "</div>"
      ],
      "text/plain": [
       "       Happiness Rank  Happiness Score  Standard Error  \\\n",
       "count      158.000000       158.000000    1.580000e+02   \n",
       "mean        79.493671         5.375734    7.364011e-16   \n",
       "std         45.754363         1.145010    1.003180e+00   \n",
       "min          1.000000         2.839000   -3.090112e+00   \n",
       "25%         40.250000         4.526000   -6.497765e-01   \n",
       "50%         79.500000         5.232500   -5.810529e-02   \n",
       "75%        118.750000         6.243750    5.393874e-01   \n",
       "max        158.000000         7.587000    2.586272e+00   \n",
       "\n",
       "       Economy (GDP per Capita)        Family  Health (Life Expectancy)  \\\n",
       "count                158.000000  1.580000e+02              1.580000e+02   \n",
       "mean                   0.851493  1.011849e-16              3.091760e-17   \n",
       "std                    0.397388  1.003180e+00              1.003180e+00   \n",
       "min                    0.015300 -2.229652e+00             -1.926945e+00   \n",
       "25%                    0.557532 -6.960706e-01             -8.988163e-01   \n",
       "50%                    0.910245 -3.172820e-02              1.310609e-01   \n",
       "75%                    1.158448  8.781814e-01              7.224490e-01   \n",
       "max                    1.690420  2.021196e+00              2.058386e+00   \n",
       "\n",
       "          Freedom  Trust (Government Corruption)    Generosity  \\\n",
       "count  158.000000                   1.580000e+02  1.580000e+02   \n",
       "mean     0.431328                  -3.408841e-16 -2.775558e-16   \n",
       "std      0.146734                   1.003180e+00  1.003180e+00   \n",
       "min      0.076990                  -1.944968e+00 -2.769280e+00   \n",
       "25%      0.329603                  -7.272944e-01 -6.398819e-01   \n",
       "50%      0.435515                  -6.203099e-02 -2.110115e-02   \n",
       "75%      0.549092                   6.648982e-01  7.216871e-01   \n",
       "max      0.669730                   2.012668e+00  2.757439e+00   \n",
       "\n",
       "       Dystopia Residual  \n",
       "count         158.000000  \n",
       "mean            2.098977  \n",
       "std             0.553550  \n",
       "min             0.328580  \n",
       "25%             1.759410  \n",
       "50%             2.095415  \n",
       "75%             2.462415  \n",
       "max             3.602140  "
      ]
     },
     "execution_count": 15,
     "metadata": {},
     "output_type": "execute_result"
    }
   ],
   "source": [
    "project_1.describe()"
   ]
  },
  {
   "cell_type": "markdown",
   "metadata": {},
   "source": [
    "## Skewness"
   ]
  },
  {
   "cell_type": "code",
   "execution_count": 16,
   "metadata": {
    "scrolled": false
   },
   "outputs": [
    {
     "data": {
      "text/plain": [
       "Happiness Rank                   0.000418\n",
       "Happiness Score                  0.097769\n",
       "Standard Error                  -0.020092\n",
       "Economy (GDP per Capita)        -0.310193\n",
       "Family                          -0.154187\n",
       "Health (Life Expectancy)        -0.174836\n",
       "Freedom                         -0.343236\n",
       "Trust (Government Corruption)    0.188019\n",
       "Generosity                       0.022109\n",
       "Dystopia Residual               -0.238911\n",
       "dtype: float64"
      ]
     },
     "execution_count": 16,
     "metadata": {},
     "output_type": "execute_result"
    }
   ],
   "source": [
    "project_1.skew()"
   ]
  },
  {
   "cell_type": "markdown",
   "metadata": {},
   "source": [
    "### Now I can see that the range of skewness of all the features are between -0.5 to +0.5 . It seems that all the outliers are adjusted. So, Now I can for the further process."
   ]
  },
  {
   "cell_type": "code",
   "execution_count": 17,
   "metadata": {},
   "outputs": [
    {
     "data": {
      "text/plain": [
       "(158, 12)"
      ]
     },
     "execution_count": 17,
     "metadata": {},
     "output_type": "execute_result"
    }
   ],
   "source": [
    "project_1.shape"
   ]
  },
  {
   "cell_type": "code",
   "execution_count": 18,
   "metadata": {},
   "outputs": [],
   "source": [
    "numeric_columns = project_1.drop([\"Country\",\"Region\"],axis=1)"
   ]
  },
  {
   "cell_type": "code",
   "execution_count": 19,
   "metadata": {},
   "outputs": [
    {
     "data": {
      "image/png": "[encoded data removed]",
      "text/plain": [
       "<Figure size 1440x1800 with 10 Axes>"
      ]
     },
     "metadata": {},
     "output_type": "display_data"
    }
   ],
   "source": [
    "plt.figure(figsize = (20,25), facecolor ='white')\n",
    "graphplot = 1\n",
    "for column in numeric_columns:\n",
    "    if graphplot <=10:\n",
    "        plt.subplot(4,3,graphplot)\n",
    "        sns.distplot(numeric_columns[column])\n",
    "        plt.xlabel(column, fontsize = 15)\n",
    "    graphplot+=1\n",
    "plt.show()"
   ]
  },
  {
   "cell_type": "markdown",
   "metadata": {},
   "source": [
    "## Visualize the Correlation"
   ]
  },
  {
   "cell_type": "code",
   "execution_count": 20,
   "metadata": {},
   "outputs": [
    {
     "data": {
      "text/plain": [
       "Happiness Rank                  -0.992105\n",
       "Standard Error                  -0.222188\n",
       "Economy (GDP per Capita)         0.782060\n",
       "Family                           0.766559\n",
       "Health (Life Expectancy)         0.750450\n",
       "Freedom                          0.572188\n",
       "Trust (Government Corruption)    0.342096\n",
       "Generosity                       0.173513\n",
       "Dystopia Residual                0.530474\n",
       "dtype: float64"
      ]
     },
     "execution_count": 20,
     "metadata": {},
     "output_type": "execute_result"
    }
   ],
   "source": [
    "# Just find the correlation of feature vs targer using corrwith\n",
    "\n",
    "project_1.drop('Happiness Score',axis=1).corrwith(project_1[\"Happiness Score\"])"
   ]
  },
  {
   "cell_type": "code",
   "execution_count": 21,
   "metadata": {
    "scrolled": true
   },
   "outputs": [
    {
     "data": {
      "text/plain": [
       "<AxesSubplot:title={'center':'Correlation With Happiness Score'}>"
      ]
     },
     "execution_count": 21,
     "metadata": {},
     "output_type": "execute_result"
    },
    {
     "data": {
      "image/png": "[encoded data removed]",
      "text/plain": [
       "<Figure size 720x504 with 1 Axes>"
      ]
     },
     "metadata": {
      "needs_background": "light"
     },
     "output_type": "display_data"
    }
   ],
   "source": [
    "project_1.drop('Happiness Score',axis=1).corrwith(project_1[\"Happiness Score\"]).plot(kind='bar', grid=True, figsize=(10,7), rot=60,\n",
    "                                                                      title=\"Correlation With Happiness Score\")"
   ]
  },
  {
   "cell_type": "markdown",
   "metadata": {},
   "source": [
    "#### It seems that feature 'Happiness Rank' is Rank & this is not the right feature for this dataset. So, I am going to delete it."
   ]
  },
  {
   "cell_type": "code",
   "execution_count": 22,
   "metadata": {},
   "outputs": [],
   "source": [
    "project_1.drop([\"Happiness Rank\"],axis=1,inplace=True)"
   ]
  },
  {
   "cell_type": "code",
   "execution_count": 23,
   "metadata": {},
   "outputs": [
    {
     "data": {
      "text/plain": [
       "(158, 11)"
      ]
     },
     "execution_count": 23,
     "metadata": {},
     "output_type": "execute_result"
    }
   ],
   "source": [
    "project_1.shape"
   ]
  },
  {
   "cell_type": "code",
   "execution_count": 24,
   "metadata": {},
   "outputs": [
    {
     "data": {
      "text/plain": [
       "(9, 9)"
      ]
     },
     "execution_count": 24,
     "metadata": {},
     "output_type": "execute_result"
    }
   ],
   "source": [
    "# Finding out the correlation between features\n",
    "\n",
    "cor=project_1.corr()\n",
    "cor.shape"
   ]
  },
  {
   "cell_type": "markdown",
   "metadata": {},
   "source": [
    "## Visualize the correlation between features"
   ]
  },
  {
   "cell_type": "code",
   "execution_count": 25,
   "metadata": {
    "scrolled": true
   },
   "outputs": [
    {
     "data": {
      "image/png": "[encoded data removed]",
      "text/plain": [
       "<Figure size 864x864 with 2 Axes>"
      ]
     },
     "metadata": {
      "needs_background": "light"
     },
     "output_type": "display_data"
    }
   ],
   "source": [
    "plt.figure(figsize = (12,12))\n",
    "sns.heatmap(cor, cbar=True, square=True, cbar_kws={\"shrink\": .82},\n",
    "            fmt='.2f', annot=True, annot_kws={\"size\":10}, linewidths=.2,\n",
    "           )\n",
    "plt.xlabel(\"Visualizing the Correlation between features\", fontsize = 20)\n",
    "plt.show()"
   ]
  },
  {
   "cell_type": "markdown",
   "metadata": {},
   "source": [
    "#### Let's check with another correlation methon : variance_inflation_factor"
   ]
  },
  {
   "cell_type": "code",
   "execution_count": 26,
   "metadata": {},
   "outputs": [],
   "source": [
    "from sklearn.preprocessing import StandardScaler\n",
    "from statsmodels.stats.outliers_influence import variance_inflation_factor"
   ]
  },
  {
   "cell_type": "code",
   "execution_count": 27,
   "metadata": {},
   "outputs": [],
   "source": [
    "X_numeric = project_1.drop(columns = [\"Happiness Score\",\"Country\",\"Region\"], axis=1)\n",
    "Y_ = project_1[\"Happiness Score\"]"
   ]
  },
  {
   "cell_type": "code",
   "execution_count": 28,
   "metadata": {},
   "outputs": [],
   "source": [
    "scaler = StandardScaler()\n",
    "X_scaled = scaler.fit_transform(X_numeric)"
   ]
  },
  {
   "cell_type": "code",
   "execution_count": 29,
   "metadata": {},
   "outputs": [
    {
     "data": {
      "text/plain": [
       "array([[-0.9722262 ,  1.37586008,  1.67645893, ...,  1.77501753,\n",
       "         0.62768115,  0.75825809],\n",
       "       [ 0.30934971,  1.13808374,  2.02119648, ...,  0.30805702,\n",
       "         1.48444454,  1.09285682],\n",
       "       [-1.06201663,  1.19654961,  1.74724932, ...,  1.90731381,\n",
       "         0.93513852,  0.71233526],\n",
       "       ...,\n",
       "       [ 0.39913743, -0.47533182, -1.73984722, ...,  0.73546463,\n",
       "         1.6594685 , -3.20843049],\n",
       "       [ 1.92690191, -2.1109119 , -1.84990605, ..., -0.16603798,\n",
       "        -0.20677346, -0.48198451],\n",
       "       [ 1.31032295, -1.62273707, -2.2296524 , ..., -0.08022306,\n",
       "        -0.51259976, -0.96361241]])"
      ]
     },
     "execution_count": 29,
     "metadata": {},
     "output_type": "execute_result"
    }
   ],
   "source": [
    "X_scaled"
   ]
  },
  {
   "cell_type": "code",
   "execution_count": 30,
   "metadata": {},
   "outputs": [
    {
     "data": {
      "text/html": [
       "<div>\n",
       "<style scoped>\n",
       "    .dataframe tbody tr th:only-of-type {\n",
       "        vertical-align: middle;\n",
       "    }\n",
       "\n",
       "    .dataframe tbody tr th {\n",
       "        vertical-align: top;\n",
       "    }\n",
       "\n",
       "    .dataframe thead th {\n",
       "        text-align: right;\n",
       "    }\n",
       "</style>\n",
       "<table border=\"1\" class=\"dataframe\">\n",
       "  <thead>\n",
       "    <tr style=\"text-align: right;\">\n",
       "      <th></th>\n",
       "      <th>VIF Score</th>\n",
       "      <th>Features</th>\n",
       "    </tr>\n",
       "  </thead>\n",
       "  <tbody>\n",
       "    <tr>\n",
       "      <th>0</th>\n",
       "      <td>1.130713</td>\n",
       "      <td>Standard Error</td>\n",
       "    </tr>\n",
       "    <tr>\n",
       "      <th>1</th>\n",
       "      <td>4.043074</td>\n",
       "      <td>Economy (GDP per Capita)</td>\n",
       "    </tr>\n",
       "    <tr>\n",
       "      <th>2</th>\n",
       "      <td>2.187064</td>\n",
       "      <td>Family</td>\n",
       "    </tr>\n",
       "    <tr>\n",
       "      <th>3</th>\n",
       "      <td>3.425662</td>\n",
       "      <td>Health (Life Expectancy)</td>\n",
       "    </tr>\n",
       "    <tr>\n",
       "      <th>4</th>\n",
       "      <td>1.901040</td>\n",
       "      <td>Freedom</td>\n",
       "    </tr>\n",
       "    <tr>\n",
       "      <th>5</th>\n",
       "      <td>1.395342</td>\n",
       "      <td>Trust (Government Corruption)</td>\n",
       "    </tr>\n",
       "    <tr>\n",
       "      <th>6</th>\n",
       "      <td>1.283385</td>\n",
       "      <td>Generosity</td>\n",
       "    </tr>\n",
       "    <tr>\n",
       "      <th>7</th>\n",
       "      <td>1.064728</td>\n",
       "      <td>Dystopia Residual</td>\n",
       "    </tr>\n",
       "  </tbody>\n",
       "</table>\n",
       "</div>"
      ],
      "text/plain": [
       "   VIF Score                       Features\n",
       "0   1.130713                 Standard Error\n",
       "1   4.043074       Economy (GDP per Capita)\n",
       "2   2.187064                         Family\n",
       "3   3.425662       Health (Life Expectancy)\n",
       "4   1.901040                        Freedom\n",
       "5   1.395342  Trust (Government Corruption)\n",
       "6   1.283385                     Generosity\n",
       "7   1.064728              Dystopia Residual"
      ]
     },
     "execution_count": 30,
     "metadata": {},
     "output_type": "execute_result"
    }
   ],
   "source": [
    "vif = pd.DataFrame()\n",
    "\n",
    "vif[\"VIF Score\"] = [variance_inflation_factor(X_scaled,i) for i in range(X_scaled.shape[1])]\n",
    "vif[\"Features\"] = X_numeric.columns\n",
    "vif"
   ]
  },
  {
   "cell_type": "markdown",
   "metadata": {},
   "source": [
    "#### All the VIF values are less than 5 and are very low, That means no multicollinearity, Now I can go with the next step."
   ]
  },
  {
   "cell_type": "code",
   "execution_count": 31,
   "metadata": {},
   "outputs": [],
   "source": [
    "X = project_1.drop([\"Happiness Score\"],axis=1)\n",
    "Y = project_1[\"Happiness Score\"]"
   ]
  },
  {
   "cell_type": "code",
   "execution_count": 32,
   "metadata": {},
   "outputs": [],
   "source": [
    "from category_encoders import BinaryEncoder"
   ]
  },
  {
   "cell_type": "code",
   "execution_count": 33,
   "metadata": {
    "scrolled": true
   },
   "outputs": [
    {
     "data": {
      "text/html": [
       "<div>\n",
       "<style scoped>\n",
       "    .dataframe tbody tr th:only-of-type {\n",
       "        vertical-align: middle;\n",
       "    }\n",
       "\n",
       "    .dataframe tbody tr th {\n",
       "        vertical-align: top;\n",
       "    }\n",
       "\n",
       "    .dataframe thead th {\n",
       "        text-align: right;\n",
       "    }\n",
       "</style>\n",
       "<table border=\"1\" class=\"dataframe\">\n",
       "  <thead>\n",
       "    <tr style=\"text-align: right;\">\n",
       "      <th></th>\n",
       "      <th>Country_0</th>\n",
       "      <th>Country_1</th>\n",
       "      <th>Country_2</th>\n",
       "      <th>Country_3</th>\n",
       "      <th>Country_4</th>\n",
       "      <th>Country_5</th>\n",
       "      <th>Country_6</th>\n",
       "      <th>Country_7</th>\n",
       "      <th>Country_8</th>\n",
       "      <th>Region_0</th>\n",
       "      <th>...</th>\n",
       "      <th>Region_3</th>\n",
       "      <th>Region_4</th>\n",
       "      <th>Standard Error</th>\n",
       "      <th>Economy (GDP per Capita)</th>\n",
       "      <th>Family</th>\n",
       "      <th>Health (Life Expectancy)</th>\n",
       "      <th>Freedom</th>\n",
       "      <th>Trust (Government Corruption)</th>\n",
       "      <th>Generosity</th>\n",
       "      <th>Dystopia Residual</th>\n",
       "    </tr>\n",
       "  </thead>\n",
       "  <tbody>\n",
       "    <tr>\n",
       "      <th>0</th>\n",
       "      <td>0</td>\n",
       "      <td>0</td>\n",
       "      <td>0</td>\n",
       "      <td>0</td>\n",
       "      <td>0</td>\n",
       "      <td>0</td>\n",
       "      <td>0</td>\n",
       "      <td>0</td>\n",
       "      <td>1</td>\n",
       "      <td>0</td>\n",
       "      <td>...</td>\n",
       "      <td>0</td>\n",
       "      <td>1</td>\n",
       "      <td>-0.972226</td>\n",
       "      <td>1.39651</td>\n",
       "      <td>1.676459</td>\n",
       "      <td>1.498676</td>\n",
       "      <td>0.66557</td>\n",
       "      <td>1.775018</td>\n",
       "      <td>0.627681</td>\n",
       "      <td>2.51738</td>\n",
       "    </tr>\n",
       "    <tr>\n",
       "      <th>1</th>\n",
       "      <td>0</td>\n",
       "      <td>0</td>\n",
       "      <td>0</td>\n",
       "      <td>0</td>\n",
       "      <td>0</td>\n",
       "      <td>0</td>\n",
       "      <td>0</td>\n",
       "      <td>1</td>\n",
       "      <td>0</td>\n",
       "      <td>0</td>\n",
       "      <td>...</td>\n",
       "      <td>0</td>\n",
       "      <td>1</td>\n",
       "      <td>0.309350</td>\n",
       "      <td>1.30232</td>\n",
       "      <td>2.021196</td>\n",
       "      <td>1.539755</td>\n",
       "      <td>0.62877</td>\n",
       "      <td>0.308057</td>\n",
       "      <td>1.484445</td>\n",
       "      <td>2.70201</td>\n",
       "    </tr>\n",
       "    <tr>\n",
       "      <th>2</th>\n",
       "      <td>0</td>\n",
       "      <td>0</td>\n",
       "      <td>0</td>\n",
       "      <td>0</td>\n",
       "      <td>0</td>\n",
       "      <td>0</td>\n",
       "      <td>0</td>\n",
       "      <td>1</td>\n",
       "      <td>1</td>\n",
       "      <td>0</td>\n",
       "      <td>...</td>\n",
       "      <td>0</td>\n",
       "      <td>1</td>\n",
       "      <td>-1.062017</td>\n",
       "      <td>1.32548</td>\n",
       "      <td>1.747249</td>\n",
       "      <td>1.087159</td>\n",
       "      <td>0.64938</td>\n",
       "      <td>1.907314</td>\n",
       "      <td>0.935139</td>\n",
       "      <td>2.49204</td>\n",
       "    </tr>\n",
       "    <tr>\n",
       "      <th>3</th>\n",
       "      <td>0</td>\n",
       "      <td>0</td>\n",
       "      <td>0</td>\n",
       "      <td>0</td>\n",
       "      <td>0</td>\n",
       "      <td>0</td>\n",
       "      <td>1</td>\n",
       "      <td>0</td>\n",
       "      <td>0</td>\n",
       "      <td>0</td>\n",
       "      <td>...</td>\n",
       "      <td>0</td>\n",
       "      <td>1</td>\n",
       "      <td>-0.503610</td>\n",
       "      <td>1.45900</td>\n",
       "      <td>1.559647</td>\n",
       "      <td>1.150301</td>\n",
       "      <td>0.66973</td>\n",
       "      <td>1.625199</td>\n",
       "      <td>0.971290</td>\n",
       "      <td>2.46531</td>\n",
       "    </tr>\n",
       "    <tr>\n",
       "      <th>4</th>\n",
       "      <td>0</td>\n",
       "      <td>0</td>\n",
       "      <td>0</td>\n",
       "      <td>0</td>\n",
       "      <td>0</td>\n",
       "      <td>0</td>\n",
       "      <td>1</td>\n",
       "      <td>0</td>\n",
       "      <td>1</td>\n",
       "      <td>0</td>\n",
       "      <td>...</td>\n",
       "      <td>1</td>\n",
       "      <td>0</td>\n",
       "      <td>-0.823548</td>\n",
       "      <td>1.32629</td>\n",
       "      <td>1.507916</td>\n",
       "      <td>1.274381</td>\n",
       "      <td>0.63297</td>\n",
       "      <td>1.504553</td>\n",
       "      <td>1.593733</td>\n",
       "      <td>2.45176</td>\n",
       "    </tr>\n",
       "    <tr>\n",
       "      <th>...</th>\n",
       "      <td>...</td>\n",
       "      <td>...</td>\n",
       "      <td>...</td>\n",
       "      <td>...</td>\n",
       "      <td>...</td>\n",
       "      <td>...</td>\n",
       "      <td>...</td>\n",
       "      <td>...</td>\n",
       "      <td>...</td>\n",
       "      <td>...</td>\n",
       "      <td>...</td>\n",
       "      <td>...</td>\n",
       "      <td>...</td>\n",
       "      <td>...</td>\n",
       "      <td>...</td>\n",
       "      <td>...</td>\n",
       "      <td>...</td>\n",
       "      <td>...</td>\n",
       "      <td>...</td>\n",
       "      <td>...</td>\n",
       "      <td>...</td>\n",
       "    </tr>\n",
       "    <tr>\n",
       "      <th>153</th>\n",
       "      <td>0</td>\n",
       "      <td>1</td>\n",
       "      <td>0</td>\n",
       "      <td>0</td>\n",
       "      <td>1</td>\n",
       "      <td>1</td>\n",
       "      <td>0</td>\n",
       "      <td>1</td>\n",
       "      <td>0</td>\n",
       "      <td>0</td>\n",
       "      <td>...</td>\n",
       "      <td>0</td>\n",
       "      <td>1</td>\n",
       "      <td>-0.916014</td>\n",
       "      <td>0.22208</td>\n",
       "      <td>-0.987838</td>\n",
       "      <td>-0.962741</td>\n",
       "      <td>0.59201</td>\n",
       "      <td>2.012668</td>\n",
       "      <td>0.060670</td>\n",
       "      <td>0.67042</td>\n",
       "    </tr>\n",
       "    <tr>\n",
       "      <th>154</th>\n",
       "      <td>0</td>\n",
       "      <td>1</td>\n",
       "      <td>0</td>\n",
       "      <td>0</td>\n",
       "      <td>1</td>\n",
       "      <td>1</td>\n",
       "      <td>0</td>\n",
       "      <td>1</td>\n",
       "      <td>1</td>\n",
       "      <td>0</td>\n",
       "      <td>...</td>\n",
       "      <td>0</td>\n",
       "      <td>1</td>\n",
       "      <td>-0.719479</td>\n",
       "      <td>0.28665</td>\n",
       "      <td>-1.953710</td>\n",
       "      <td>-1.304080</td>\n",
       "      <td>0.48450</td>\n",
       "      <td>-0.452143</td>\n",
       "      <td>-0.350690</td>\n",
       "      <td>1.63328</td>\n",
       "    </tr>\n",
       "    <tr>\n",
       "      <th>155</th>\n",
       "      <td>0</td>\n",
       "      <td>1</td>\n",
       "      <td>0</td>\n",
       "      <td>0</td>\n",
       "      <td>1</td>\n",
       "      <td>1</td>\n",
       "      <td>1</td>\n",
       "      <td>0</td>\n",
       "      <td>0</td>\n",
       "      <td>0</td>\n",
       "      <td>...</td>\n",
       "      <td>0</td>\n",
       "      <td>0</td>\n",
       "      <td>0.399137</td>\n",
       "      <td>0.66320</td>\n",
       "      <td>-1.739847</td>\n",
       "      <td>0.254729</td>\n",
       "      <td>0.15684</td>\n",
       "      <td>0.735465</td>\n",
       "      <td>1.659468</td>\n",
       "      <td>0.32858</td>\n",
       "    </tr>\n",
       "    <tr>\n",
       "      <th>156</th>\n",
       "      <td>0</td>\n",
       "      <td>1</td>\n",
       "      <td>0</td>\n",
       "      <td>0</td>\n",
       "      <td>1</td>\n",
       "      <td>1</td>\n",
       "      <td>1</td>\n",
       "      <td>0</td>\n",
       "      <td>1</td>\n",
       "      <td>0</td>\n",
       "      <td>...</td>\n",
       "      <td>0</td>\n",
       "      <td>1</td>\n",
       "      <td>1.926902</td>\n",
       "      <td>0.01530</td>\n",
       "      <td>-1.849906</td>\n",
       "      <td>-1.556496</td>\n",
       "      <td>0.11850</td>\n",
       "      <td>-0.166038</td>\n",
       "      <td>-0.206773</td>\n",
       "      <td>1.83302</td>\n",
       "    </tr>\n",
       "    <tr>\n",
       "      <th>157</th>\n",
       "      <td>0</td>\n",
       "      <td>1</td>\n",
       "      <td>0</td>\n",
       "      <td>0</td>\n",
       "      <td>1</td>\n",
       "      <td>1</td>\n",
       "      <td>1</td>\n",
       "      <td>1</td>\n",
       "      <td>0</td>\n",
       "      <td>0</td>\n",
       "      <td>...</td>\n",
       "      <td>0</td>\n",
       "      <td>1</td>\n",
       "      <td>1.310323</td>\n",
       "      <td>0.20868</td>\n",
       "      <td>-2.229652</td>\n",
       "      <td>-1.400620</td>\n",
       "      <td>0.36453</td>\n",
       "      <td>-0.080223</td>\n",
       "      <td>-0.512600</td>\n",
       "      <td>1.56726</td>\n",
       "    </tr>\n",
       "  </tbody>\n",
       "</table>\n",
       "<p>158 rows × 22 columns</p>\n",
       "</div>"
      ],
      "text/plain": [
       "     Country_0  Country_1  Country_2  Country_3  Country_4  Country_5  \\\n",
       "0            0          0          0          0          0          0   \n",
       "1            0          0          0          0          0          0   \n",
       "2            0          0          0          0          0          0   \n",
       "3            0          0          0          0          0          0   \n",
       "4            0          0          0          0          0          0   \n",
       "..         ...        ...        ...        ...        ...        ...   \n",
       "153          0          1          0          0          1          1   \n",
       "154          0          1          0          0          1          1   \n",
       "155          0          1          0          0          1          1   \n",
       "156          0          1          0          0          1          1   \n",
       "157          0          1          0          0          1          1   \n",
       "\n",
       "     Country_6  Country_7  Country_8  Region_0  ...  Region_3  Region_4  \\\n",
       "0            0          0          1         0  ...         0         1   \n",
       "1            0          1          0         0  ...         0         1   \n",
       "2            0          1          1         0  ...         0         1   \n",
       "3            1          0          0         0  ...         0         1   \n",
       "4            1          0          1         0  ...         1         0   \n",
       "..         ...        ...        ...       ...  ...       ...       ...   \n",
       "153          0          1          0         0  ...         0         1   \n",
       "154          0          1          1         0  ...         0         1   \n",
       "155          1          0          0         0  ...         0         0   \n",
       "156          1          0          1         0  ...         0         1   \n",
       "157          1          1          0         0  ...         0         1   \n",
       "\n",
       "     Standard Error  Economy (GDP per Capita)    Family  \\\n",
       "0         -0.972226                   1.39651  1.676459   \n",
       "1          0.309350                   1.30232  2.021196   \n",
       "2         -1.062017                   1.32548  1.747249   \n",
       "3         -0.503610                   1.45900  1.559647   \n",
       "4         -0.823548                   1.32629  1.507916   \n",
       "..              ...                       ...       ...   \n",
       "153       -0.916014                   0.22208 -0.987838   \n",
       "154       -0.719479                   0.28665 -1.953710   \n",
       "155        0.399137                   0.66320 -1.739847   \n",
       "156        1.926902                   0.01530 -1.849906   \n",
       "157        1.310323                   0.20868 -2.229652   \n",
       "\n",
       "     Health (Life Expectancy)  Freedom  Trust (Government Corruption)  \\\n",
       "0                    1.498676  0.66557                       1.775018   \n",
       "1                    1.539755  0.62877                       0.308057   \n",
       "2                    1.087159  0.64938                       1.907314   \n",
       "3                    1.150301  0.66973                       1.625199   \n",
       "4                    1.274381  0.63297                       1.504553   \n",
       "..                        ...      ...                            ...   \n",
       "153                 -0.962741  0.59201                       2.012668   \n",
       "154                 -1.304080  0.48450                      -0.452143   \n",
       "155                  0.254729  0.15684                       0.735465   \n",
       "156                 -1.556496  0.11850                      -0.166038   \n",
       "157                 -1.400620  0.36453                      -0.080223   \n",
       "\n",
       "     Generosity  Dystopia Residual  \n",
       "0      0.627681            2.51738  \n",
       "1      1.484445            2.70201  \n",
       "2      0.935139            2.49204  \n",
       "3      0.971290            2.46531  \n",
       "4      1.593733            2.45176  \n",
       "..          ...                ...  \n",
       "153    0.060670            0.67042  \n",
       "154   -0.350690            1.63328  \n",
       "155    1.659468            0.32858  \n",
       "156   -0.206773            1.83302  \n",
       "157   -0.512600            1.56726  \n",
       "\n",
       "[158 rows x 22 columns]"
      ]
     },
     "execution_count": 33,
     "metadata": {},
     "output_type": "execute_result"
    }
   ],
   "source": [
    "bin_enc = BinaryEncoder()\n",
    "X = bin_enc.fit_transform(X)\n",
    "X"
   ]
  },
  {
   "cell_type": "markdown",
   "metadata": {},
   "source": [
    "## Model Building Start :-"
   ]
  },
  {
   "cell_type": "code",
   "execution_count": 34,
   "metadata": {},
   "outputs": [],
   "source": [
    "scale = StandardScaler()\n",
    "X_scale = scale.fit_transform(X)"
   ]
  },
  {
   "cell_type": "code",
   "execution_count": 35,
   "metadata": {},
   "outputs": [],
   "source": [
    "from sklearn.model_selection import train_test_split\n",
    "from sklearn.tree import DecisionTreeRegressor\n",
    "from sklearn.linear_model import LinearRegression\n",
    "from sklearn.ensemble import RandomForestRegressor\n",
    "from sklearn.ensemble import GradientBoostingRegressor\n",
    "from sklearn.ensemble import AdaBoostRegressor\n",
    "from sklearn.ensemble import BaggingRegressor\n",
    "from sklearn.metrics import r2_score, mean_squared_error, mean_absolute_error\n",
    "from sklearn.linear_model import Lasso"
   ]
  },
  {
   "cell_type": "code",
   "execution_count": 36,
   "metadata": {},
   "outputs": [
    {
     "name": "stdout",
     "output_type": "stream",
     "text": [
      "Best R2_Score is -->  0.9874545319925605 on Random State -->  167\n"
     ]
    }
   ],
   "source": [
    "r2score=0\n",
    "maxRS = 0\n",
    "\n",
    "for i in range(1,200):\n",
    "    X_scale_train, X_scale_test, Y_train, Y_test = train_test_split(X_scale, Y, test_size=0.25, random_state=i)\n",
    "    LR = LinearRegression()\n",
    "    LR.fit(X_scale_train,Y_train)\n",
    "    y_pred = LR.predict(X_scale_test)\n",
    "    r2 = r2_score(Y_test, y_pred)\n",
    "    if r2 > r2score:\n",
    "        r2score=r2\n",
    "        maxRS=i\n",
    "\n",
    "print(\"Best R2_Score is --> \",r2,\"on Random State --> \",maxRS)"
   ]
  },
  {
   "cell_type": "code",
   "execution_count": 37,
   "metadata": {},
   "outputs": [],
   "source": [
    "X_scale_train, X_scale_test, Y_train, Y_test = train_test_split(X_scale, Y, test_size=0.25, random_state=i)"
   ]
  },
  {
   "cell_type": "code",
   "execution_count": 38,
   "metadata": {},
   "outputs": [
    {
     "name": "stdout",
     "output_type": "stream",
     "text": [
      "Best R2_Score is -->  0.9387283795904063 on Random State -->  167\n"
     ]
    }
   ],
   "source": [
    "RFR = RandomForestRegressor()\n",
    "RFR.fit(X_scale_train,Y_train)\n",
    "y_pred = RFR.predict(X_scale_test)\n",
    "r2 = r2_score(Y_test, y_pred)\n",
    "if r2 > r2score:\n",
    "    r2score=r2\n",
    "    maxRS=i\n",
    "\n",
    "print(\"Best R2_Score is --> \",r2,\"on Random State --> \",maxRS)"
   ]
  },
  {
   "cell_type": "code",
   "execution_count": 39,
   "metadata": {},
   "outputs": [
    {
     "name": "stdout",
     "output_type": "stream",
     "text": [
      "Best R2_Score is -->  0.6721586735918861 on Random State -->  167\n"
     ]
    }
   ],
   "source": [
    "# Decision Tree Regressor\n",
    "\n",
    "DTR = DecisionTreeRegressor()\n",
    "DTR.fit(X_scale_train,Y_train)\n",
    "y_pred = DTR.predict(X_scale_test)\n",
    "r2 = r2_score(Y_test, y_pred)\n",
    "\n",
    "print(\"Best R2_Score is --> \",r2,\"on Random State --> \",maxRS)"
   ]
  },
  {
   "cell_type": "code",
   "execution_count": 40,
   "metadata": {},
   "outputs": [
    {
     "name": "stdout",
     "output_type": "stream",
     "text": [
      "Best R2_Score is -->  0.9110251123796694 on Random State -->  167\n"
     ]
    }
   ],
   "source": [
    "# Gradient Boosting Regressor\n",
    "\n",
    "GBR = GradientBoostingRegressor()\n",
    "GBR.fit(X_scale_train,Y_train)\n",
    "y_pred = GBR.predict(X_scale_test)\n",
    "r2 = r2_score(Y_test, y_pred)\n",
    "\n",
    "print(\"Best R2_Score is --> \",r2,\"on Random State --> \",maxRS)"
   ]
  },
  {
   "cell_type": "code",
   "execution_count": 41,
   "metadata": {},
   "outputs": [
    {
     "name": "stdout",
     "output_type": "stream",
     "text": [
      "Best R2_Score is -->  0.9249061915283537 on Random State -->  167\n"
     ]
    }
   ],
   "source": [
    "# Ada Boost Regressor\n",
    "\n",
    "ABR = AdaBoostRegressor()\n",
    "ABR.fit(X_scale_train,Y_train)\n",
    "y_pred = ABR.predict(X_scale_test)\n",
    "r2 = r2_score(Y_test, y_pred)\n",
    "\n",
    "print(\"Best R2_Score is --> \",r2,\"on Random State --> \",maxRS)"
   ]
  },
  {
   "cell_type": "code",
   "execution_count": 42,
   "metadata": {},
   "outputs": [
    {
     "name": "stdout",
     "output_type": "stream",
     "text": [
      "Best R2_Score is -->  0.9391693014381646 on Random State -->  167\n"
     ]
    }
   ],
   "source": [
    "# Bagging Regressor\n",
    "\n",
    "BR = BaggingRegressor()\n",
    "BR.fit(X_scale_train,Y_train)\n",
    "y_pred = BR.predict(X_scale_test)\n",
    "r2 = r2_score(Y_test, y_pred)\n",
    "\n",
    "print(\"Best R2_Score is --> \",r2,\"on Random State --> \",maxRS)"
   ]
  },
  {
   "cell_type": "code",
   "execution_count": 43,
   "metadata": {},
   "outputs": [],
   "source": [
    "from sklearn.model_selection import cross_val_score"
   ]
  },
  {
   "cell_type": "code",
   "execution_count": 44,
   "metadata": {
    "scrolled": true
   },
   "outputs": [
    {
     "name": "stdout",
     "output_type": "stream",
     "text": [
      "Decision Tree Regressor 'Cross Validation Score' -->  -6.854068605142596e+21\n",
      "Decision Tree Regressor 'Cross Validation Score' -->  -21.72387463494015\n",
      "Random Forest Regressor 'Cross Validation Score' -->  -18.074006232590108\n",
      "Ada Boost Regressor 'Cross Validation Score' -->  -20.169609466030344\n",
      "Gradient Boost Regressor 'Cross Validation Score' -->  -16.16806412314119\n",
      "Bagging Regressor 'Cross Validation Score' -->  -18.7310688561656\n"
     ]
    }
   ],
   "source": [
    "print(\"Decision Tree Regressor 'Cross Validation Score' --> \",cross_val_score(LR, X_scale, Y, cv=5).mean())\n",
    "print(\"Decision Tree Regressor 'Cross Validation Score' --> \",cross_val_score(DTR, X_scale, Y, cv=5).mean())\n",
    "print(\"Random Forest Regressor 'Cross Validation Score' --> \",cross_val_score(RFR, X_scale, Y, cv=5).mean())\n",
    "print(\"Ada Boost Regressor 'Cross Validation Score' --> \",cross_val_score(ABR, X_scale, Y, cv=5).mean())\n",
    "print(\"Gradient Boost Regressor 'Cross Validation Score' --> \",cross_val_score(GBR, X_scale, Y, cv=5).mean())\n",
    "print(\"Bagging Regressor 'Cross Validation Score' --> \",cross_val_score(BR, X_scale, Y, cv=5).mean())"
   ]
  },
  {
   "cell_type": "markdown",
   "metadata": {},
   "source": [
    "#### cross_val_score is not working properly, maybe I made some mistakes..."
   ]
  },
  {
   "cell_type": "markdown",
   "metadata": {},
   "source": [
    "### Now I am going to cross validate our model using Lasso"
   ]
  },
  {
   "cell_type": "code",
   "execution_count": 45,
   "metadata": {},
   "outputs": [],
   "source": [
    "from sklearn.model_selection import GridSearchCV"
   ]
  },
  {
   "cell_type": "code",
   "execution_count": 46,
   "metadata": {},
   "outputs": [],
   "source": [
    "param_grid = {\"alpha\" : [0.001,0.01,0.1,1.0,2.0,3.0],\n",
    "             \"random_state\" : range(1,10)}"
   ]
  },
  {
   "cell_type": "code",
   "execution_count": 47,
   "metadata": {},
   "outputs": [
    {
     "data": {
      "text/plain": [
       "{'alpha': 0.001, 'random_state': 1}"
      ]
     },
     "execution_count": 47,
     "metadata": {},
     "output_type": "execute_result"
    }
   ],
   "source": [
    "lassocv = Lasso()\n",
    "grid_sr = GridSearchCV(lassocv,param_grid=param_grid)\n",
    "grid_sr.fit(X_scale_train, Y_train)\n",
    "grid_sr.best_params_"
   ]
  },
  {
   "cell_type": "code",
   "execution_count": 48,
   "metadata": {},
   "outputs": [
    {
     "name": "stdout",
     "output_type": "stream",
     "text": [
      "0.987053776680813\n"
     ]
    }
   ],
   "source": [
    "lass = Lasso(alpha = 0.001, random_state = 1)\n",
    "lass.fit(X_scale_train, Y_train)\n",
    "Y_pre = lass.predict(X_scale_test)\n",
    "r2= r2_score(Y_test, Y_pre)\n",
    "print(r2)"
   ]
  },
  {
   "cell_type": "markdown",
   "metadata": {},
   "source": [
    "### It's seems that Linear Regression and Lasso both are giving 0.987 accuracy."
   ]
  },
  {
   "cell_type": "markdown",
   "metadata": {},
   "source": [
    "###  But I didn't find the best parameters of Linear Regression  for Hyperparams for best score. So, I am going to use  the Hyper Parameter with Random Forest Regressor."
   ]
  },
  {
   "cell_type": "code",
   "execution_count": 54,
   "metadata": {},
   "outputs": [],
   "source": [
    "param_grid = {\"n_estimators\": [3,5,7,9,11,13,15,17,19,21],\n",
    "             \"max_depth\" : [8,10,12,14,16,18],\n",
    "             \"max_features\" : [\"auto\", \"sqrt\", \"log2\"],\n",
    "             \"criterion\" : [\"mse\",\"mae\"]}"
   ]
  },
  {
   "cell_type": "code",
   "execution_count": 55,
   "metadata": {},
   "outputs": [],
   "source": [
    "grid_search = GridSearchCV(RFR,param_grid=param_grid)"
   ]
  },
  {
   "cell_type": "code",
   "execution_count": 56,
   "metadata": {},
   "outputs": [
    {
     "data": {
      "text/plain": [
       "GridSearchCV(estimator=RandomForestRegressor(),\n",
       "             param_grid={'criterion': ['mse', 'mae'],\n",
       "                         'max_depth': [8, 10, 12, 14, 16, 18],\n",
       "                         'max_features': ['auto', 'sqrt', 'log2'],\n",
       "                         'n_estimators': [3, 5, 7, 9, 11, 13, 15, 17, 19, 21]})"
      ]
     },
     "execution_count": 56,
     "metadata": {},
     "output_type": "execute_result"
    }
   ],
   "source": [
    "grid_search.fit(X_scale_train,Y_train)"
   ]
  },
  {
   "cell_type": "code",
   "execution_count": 57,
   "metadata": {},
   "outputs": [
    {
     "data": {
      "text/plain": [
       "{'criterion': 'mae',\n",
       " 'max_depth': 8,\n",
       " 'max_features': 'auto',\n",
       " 'n_estimators': 19}"
      ]
     },
     "execution_count": 57,
     "metadata": {},
     "output_type": "execute_result"
    }
   ],
   "source": [
    "grid_search.best_params_"
   ]
  },
  {
   "cell_type": "code",
   "execution_count": 58,
   "metadata": {},
   "outputs": [
    {
     "name": "stdout",
     "output_type": "stream",
     "text": [
      "92.44263009195062\n"
     ]
    }
   ],
   "source": [
    "Final_Project = RandomForestRegressor(criterion='mse',max_depth=8,max_features='auto',n_estimators=19)\n",
    "Final_Project.fit(X_scale_train, Y_train)\n",
    "y_pred = Final_Project.predict(X_scale_test)\n",
    "r2score = r2_score(Y_test,y_pred)\n",
    "print(r2score*100)"
   ]
  },
  {
   "cell_type": "markdown",
   "metadata": {},
   "source": [
    "## Saving The Model"
   ]
  },
  {
   "cell_type": "code",
   "execution_count": 59,
   "metadata": {},
   "outputs": [
    {
     "data": {
      "text/plain": [
       "['Final_Project.pkl']"
      ]
     },
     "execution_count": 59,
     "metadata": {},
     "output_type": "execute_result"
    }
   ],
   "source": [
    "import joblib\n",
    "joblib.dump(Final_Project,\"Final_Project.pkl\")"
   ]
  },
  {
   "cell_type": "markdown",
   "metadata": {},
   "source": [
    "## Loading The Model"
   ]
  },
  {
   "cell_type": "code",
   "execution_count": 60,
   "metadata": {},
   "outputs": [
    {
     "data": {
      "text/plain": [
       "array([7.53805263, 7.43126316, 7.48268421, 7.45878947, 7.3862    ,\n",
       "       7.36563158, 7.30984912, 7.31221053, 7.19065614, 7.16746316,\n",
       "       7.2435614 , 7.01236842, 7.25847368, 6.50831579, 7.1722    ,\n",
       "       6.80343421, 6.90393421, 6.94588158, 6.88667105, 6.84411404,\n",
       "       6.81982456, 6.37279825, 6.76078947, 6.55084211, 6.63797368,\n",
       "       6.76332895, 6.64839474, 6.43585088, 6.59571053, 6.62365789,\n",
       "       6.49327193, 6.37001316, 6.39689474, 6.49852632, 6.15893421,\n",
       "       6.29910526, 6.40170175, 6.32595175, 6.27935526, 5.97005263,\n",
       "       6.09605263, 6.09568421, 6.07831579, 6.12847368, 5.9818396 ,\n",
       "       6.22614035, 6.13092982, 5.98168421, 6.0592782 , 6.03269925,\n",
       "       5.83921053, 5.81552632, 6.00646053, 5.95135526, 5.88568421,\n",
       "       5.89347368, 5.87679737, 5.84298158, 5.84107895, 5.86705263,\n",
       "       5.83246053, 5.91432895, 5.80363158, 5.76036842, 5.644     ,\n",
       "       5.81301754, 5.56021053, 5.39246491, 5.49895614, 5.66942982,\n",
       "       5.47115789, 5.64752632, 5.5       , 5.436     , 5.4007193 ,\n",
       "       5.31335088, 5.39814474, 5.33836842, 5.40915789, 5.22953801,\n",
       "       5.14231579, 5.20111696, 5.16960819, 5.25674854, 5.05182456,\n",
       "       5.14223977, 5.14097661, 5.30378947, 5.12401754, 5.13642105,\n",
       "       5.00521053, 5.08563158, 5.09257895, 4.96689474, 5.23364912,\n",
       "       4.86573684, 4.87968421, 4.87605263, 4.91021053, 5.18447368,\n",
       "       4.87634211, 4.97507895, 4.87436842, 4.82931579, 4.77457895,\n",
       "       4.76915789, 4.74094737, 4.74034211, 4.72074561, 4.83921053,\n",
       "       4.71427193, 4.63821053, 4.81353947, 4.53034211, 4.59868182,\n",
       "       4.56443182, 4.60550199, 4.54924761, 4.5536862 , 4.52752392,\n",
       "       4.50895088, 4.5014134 , 4.52301754, 4.47272807, 4.44176667,\n",
       "       4.40678947, 4.5967193 , 4.88192982, 4.18689474, 4.52314035,\n",
       "       4.21689474, 4.38482456, 4.18926316, 4.67173684, 4.11526316,\n",
       "       4.032     , 3.96947368, 4.02205263, 4.20661404, 3.92694737,\n",
       "       4.61247368, 3.96184211, 4.64310526, 3.74868421, 3.82036842,\n",
       "       3.76931579, 3.47326316, 3.699     , 3.67636842, 3.64742105,\n",
       "       3.68989474, 3.564     , 3.55268421, 3.48194737, 3.50894737,\n",
       "       3.28468421, 3.26015789, 3.56168421])"
      ]
     },
     "execution_count": 60,
     "metadata": {},
     "output_type": "execute_result"
    }
   ],
   "source": [
    "model = joblib.load(\"Final_Project.pkl\")\n",
    "model.predict(X_scale)"
   ]
  },
  {
   "cell_type": "code",
   "execution_count": null,
   "metadata": {},
   "outputs": [],
   "source": []
  }
 ],
 "metadata": {
  "celltoolbar": "Raw Cell Format",
  "kernelspec": {
   "display_name": "Python 3",
   "language": "python",
   "name": "python3"
  },
  "language_info": {
   "codemirror_mode": {
    "name": "ipython",
    "version": 3
   },
   "file_extension": ".py",
   "mimetype": "text/x-python",
   "name": "python",
   "nbconvert_exporter": "python",
   "pygments_lexer": "ipython3",
   "version": "3.8.5"
  }
 },
 "nbformat": 4,
 "nbformat_minor": 4
}
