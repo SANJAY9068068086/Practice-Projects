{
 "cells": [
  {
   "cell_type": "markdown",
   "metadata": {},
   "source": [
    "# Flight Price Prediction (Evaluation Project - 7)"
   ]
  },
  {
   "cell_type": "markdown",
   "metadata": {},
   "source": [
    "### Problem Statement:\n",
    "\n",
    "Flight ticket prices can be something hard to guess, today we might see a price, check out the price of the same flight tomorrow, it will be a different story. We might have often heard travellers saying that flight ticket prices are so unpredictable. Here you will be provided with prices of flight tickets for various airlines between the months of March and June of 2019 and between various cities.\n",
    "\n",
    "Size of training set: 10683 records\n",
    "\n",
    "Size of test set: 2671 records\n",
    "\n",
    "#### FEATURES:\n",
    "\n",
    "Airline: The name of the airline.\n",
    "\n",
    "Date_of_Journey: The date of the journey\n",
    "\n",
    "Source: The source from which the service begins.\n",
    "\n",
    "Destination: The destination where the service ends.\n",
    "\n",
    "Route: The route taken by the flight to reach the destination.\n",
    "\n",
    "Dep_Time: The time when the journey starts from the source.\n",
    "\n",
    "Arrival_Time: Time of arrival at the destination.\n",
    "\n",
    "Duration: Total duration of the flight.\n",
    "\n",
    "Total_Stops: Total stops between the source and destination.\n",
    "\n",
    "Additional_Info: Additional information about the flight\n",
    "\n",
    "Price: The price of the ticket\n",
    "\n",
    " \n",
    "\n",
    "#### You have to use your skills as a data scientist and build a machine learning model to predict the price of the flight ticket. \n",
    "\n",
    "#### To download the dataset, use the link given below :\n",
    "\n",
    "https://github.com/SANJAY9068068086/Machine-Learning-DataSets/blob/431000f9afc023256e3648cf34103fff7c553666/Flight_Ticket_Participant_Datasets.zip"
   ]
  },
  {
   "cell_type": "code",
   "execution_count": 1,
   "metadata": {},
   "outputs": [],
   "source": [
    "# Let's import some necessary libraries\n",
    "\n",
    "import numpy as np\n",
    "import pandas as pd\n",
    "import seaborn as sns\n",
    "import matplotlib.pyplot as plt\n",
    "import warnings\n",
    "warnings.filterwarnings(\"ignore\")"
   ]
  },
  {
   "cell_type": "code",
   "execution_count": 2,
   "metadata": {},
   "outputs": [],
   "source": [
    "# Let's import the datasets\n",
    "\n",
    "train_data = pd.read_excel(\"Train_set.xlsx\")\n",
    "test_data = pd.read_excel(\"Test_set.xlsx\")"
   ]
  },
  {
   "cell_type": "code",
   "execution_count": 3,
   "metadata": {
    "scrolled": true
   },
   "outputs": [
    {
     "data": {
      "text/html": [
       "<div>\n",
       "<style scoped>\n",
       "    .dataframe tbody tr th:only-of-type {\n",
       "        vertical-align: middle;\n",
       "    }\n",
       "\n",
       "    .dataframe tbody tr th {\n",
       "        vertical-align: top;\n",
       "    }\n",
       "\n",
       "    .dataframe thead th {\n",
       "        text-align: right;\n",
       "    }\n",
       "</style>\n",
       "<table border=\"1\" class=\"dataframe\">\n",
       "  <thead>\n",
       "    <tr style=\"text-align: right;\">\n",
       "      <th></th>\n",
       "      <th>Airline</th>\n",
       "      <th>Date_of_Journey</th>\n",
       "      <th>Source</th>\n",
       "      <th>Destination</th>\n",
       "      <th>Route</th>\n",
       "      <th>Dep_Time</th>\n",
       "      <th>Arrival_Time</th>\n",
       "      <th>Duration</th>\n",
       "      <th>Total_Stops</th>\n",
       "      <th>Additional_Info</th>\n",
       "      <th>Price</th>\n",
       "      <th>Demo_Data</th>\n",
       "    </tr>\n",
       "  </thead>\n",
       "  <tbody>\n",
       "    <tr>\n",
       "      <th>0</th>\n",
       "      <td>IndiGo</td>\n",
       "      <td>24/03/2019</td>\n",
       "      <td>Banglore</td>\n",
       "      <td>New Delhi</td>\n",
       "      <td>BLR → DEL</td>\n",
       "      <td>22:20</td>\n",
       "      <td>01:10 22 Mar</td>\n",
       "      <td>2h 50m</td>\n",
       "      <td>non-stop</td>\n",
       "      <td>No info</td>\n",
       "      <td>3897.0</td>\n",
       "      <td>1111</td>\n",
       "    </tr>\n",
       "    <tr>\n",
       "      <th>1</th>\n",
       "      <td>Air India</td>\n",
       "      <td>1/05/2019</td>\n",
       "      <td>Kolkata</td>\n",
       "      <td>Banglore</td>\n",
       "      <td>CCU → IXR → BBI → BLR</td>\n",
       "      <td>05:50</td>\n",
       "      <td>13:15</td>\n",
       "      <td>7h 25m</td>\n",
       "      <td>2 stops</td>\n",
       "      <td>No info</td>\n",
       "      <td>7662.0</td>\n",
       "      <td>1111</td>\n",
       "    </tr>\n",
       "    <tr>\n",
       "      <th>2</th>\n",
       "      <td>Jet Airways</td>\n",
       "      <td>9/06/2019</td>\n",
       "      <td>Delhi</td>\n",
       "      <td>Cochin</td>\n",
       "      <td>DEL → LKO → BOM → COK</td>\n",
       "      <td>09:25</td>\n",
       "      <td>04:25 10 Jun</td>\n",
       "      <td>19h</td>\n",
       "      <td>2 stops</td>\n",
       "      <td>No info</td>\n",
       "      <td>13882.0</td>\n",
       "      <td>1111</td>\n",
       "    </tr>\n",
       "    <tr>\n",
       "      <th>3</th>\n",
       "      <td>IndiGo</td>\n",
       "      <td>12/05/2019</td>\n",
       "      <td>Kolkata</td>\n",
       "      <td>Banglore</td>\n",
       "      <td>CCU → NAG → BLR</td>\n",
       "      <td>18:05</td>\n",
       "      <td>23:30</td>\n",
       "      <td>5h 25m</td>\n",
       "      <td>1 stop</td>\n",
       "      <td>No info</td>\n",
       "      <td>6218.0</td>\n",
       "      <td>1111</td>\n",
       "    </tr>\n",
       "    <tr>\n",
       "      <th>4</th>\n",
       "      <td>IndiGo</td>\n",
       "      <td>01/03/2019</td>\n",
       "      <td>Banglore</td>\n",
       "      <td>New Delhi</td>\n",
       "      <td>BLR → NAG → DEL</td>\n",
       "      <td>16:50</td>\n",
       "      <td>21:35</td>\n",
       "      <td>4h 45m</td>\n",
       "      <td>1 stop</td>\n",
       "      <td>No info</td>\n",
       "      <td>13302.0</td>\n",
       "      <td>1111</td>\n",
       "    </tr>\n",
       "  </tbody>\n",
       "</table>\n",
       "</div>"
      ],
      "text/plain": [
       "       Airline Date_of_Journey    Source Destination                  Route  \\\n",
       "0       IndiGo      24/03/2019  Banglore   New Delhi              BLR → DEL   \n",
       "1    Air India       1/05/2019   Kolkata    Banglore  CCU → IXR → BBI → BLR   \n",
       "2  Jet Airways       9/06/2019     Delhi      Cochin  DEL → LKO → BOM → COK   \n",
       "3       IndiGo      12/05/2019   Kolkata    Banglore        CCU → NAG → BLR   \n",
       "4       IndiGo      01/03/2019  Banglore   New Delhi        BLR → NAG → DEL   \n",
       "\n",
       "  Dep_Time  Arrival_Time Duration Total_Stops Additional_Info    Price  \\\n",
       "0    22:20  01:10 22 Mar   2h 50m    non-stop         No info   3897.0   \n",
       "1    05:50         13:15   7h 25m     2 stops         No info   7662.0   \n",
       "2    09:25  04:25 10 Jun      19h     2 stops         No info  13882.0   \n",
       "3    18:05         23:30   5h 25m      1 stop         No info   6218.0   \n",
       "4    16:50         21:35   4h 45m      1 stop         No info  13302.0   \n",
       "\n",
       "   Demo_Data  \n",
       "0       1111  \n",
       "1       1111  \n",
       "2       1111  \n",
       "3       1111  \n",
       "4       1111  "
      ]
     },
     "execution_count": 3,
     "metadata": {},
     "output_type": "execute_result"
    }
   ],
   "source": [
    "# Let's merge the both datasets\n",
    "\n",
    "train_data[\"Demo_Data\"] = 1111\n",
    "test_data[\"Demo_Data\"] = 2222\n",
    "\n",
    "data = pd.concat([train_data, test_data], ignore_index=True)\n",
    "data.head()"
   ]
  },
  {
   "cell_type": "code",
   "execution_count": 4,
   "metadata": {},
   "outputs": [],
   "source": [
    "# We are going to delete the columns Arrial_Time and Dep_Time because we have Duration Column\n",
    "\n",
    "data.drop(columns = [\"Arrival_Time\",\"Dep_Time\"], axis=1, inplace=True)"
   ]
  },
  {
   "cell_type": "code",
   "execution_count": 5,
   "metadata": {},
   "outputs": [
    {
     "name": "stdout",
     "output_type": "stream",
     "text": [
      "Shape of Train Dataset :  (13354, 10)\n"
     ]
    }
   ],
   "source": [
    "# Shape of both datasets\n",
    "\n",
    "print(\"Shape of Train Dataset : \",data.shape)"
   ]
  },
  {
   "cell_type": "code",
   "execution_count": 6,
   "metadata": {
    "scrolled": true
   },
   "outputs": [
    {
     "name": "stdout",
     "output_type": "stream",
     "text": [
      "\n",
      "Information about Dataset\n",
      "================================\n",
      "\n",
      "<class 'pandas.core.frame.DataFrame'>\n",
      "RangeIndex: 13354 entries, 0 to 13353\n",
      "Data columns (total 10 columns):\n",
      " #   Column           Non-Null Count  Dtype  \n",
      "---  ------           --------------  -----  \n",
      " 0   Airline          13354 non-null  object \n",
      " 1   Date_of_Journey  13354 non-null  object \n",
      " 2   Source           13354 non-null  object \n",
      " 3   Destination      13354 non-null  object \n",
      " 4   Route            13353 non-null  object \n",
      " 5   Duration         13354 non-null  object \n",
      " 6   Total_Stops      13353 non-null  object \n",
      " 7   Additional_Info  13354 non-null  object \n",
      " 8   Price            10683 non-null  float64\n",
      " 9   Demo_Data        13354 non-null  int64  \n",
      "dtypes: float64(1), int64(1), object(8)\n",
      "memory usage: 1.0+ MB\n"
     ]
    }
   ],
   "source": [
    "# Quick information about datasets\n",
    "\n",
    "print(\"\\nInformation about Dataset\\n================================\\n\")\n",
    "data.info()"
   ]
  },
  {
   "cell_type": "markdown",
   "metadata": {},
   "source": [
    "All columns are in object form so that skewness issue is not exists....."
   ]
  },
  {
   "cell_type": "code",
   "execution_count": 7,
   "metadata": {
    "scrolled": true
   },
   "outputs": [
    {
     "name": "stdout",
     "output_type": "stream",
     "text": [
      "\n",
      "Null Values of Dataset\n",
      "============================\n"
     ]
    },
    {
     "data": {
      "text/plain": [
       "Airline               0\n",
       "Date_of_Journey       0\n",
       "Source                0\n",
       "Destination           0\n",
       "Route                 1\n",
       "Duration              0\n",
       "Total_Stops           1\n",
       "Additional_Info       0\n",
       "Price              2671\n",
       "Demo_Data             0\n",
       "dtype: int64"
      ]
     },
     "execution_count": 7,
     "metadata": {},
     "output_type": "execute_result"
    }
   ],
   "source": [
    "# Null value of Train Dataset\n",
    "\n",
    "print(\"\\nNull Values of Dataset\\n============================\")\n",
    "data.isnull().sum()"
   ]
  },
  {
   "cell_type": "markdown",
   "metadata": {},
   "source": [
    "Route and Total_Stopes each have only 1 null value. we will fill it with their mode() values."
   ]
  },
  {
   "cell_type": "code",
   "execution_count": 8,
   "metadata": {
    "scrolled": false
   },
   "outputs": [
    {
     "name": "stdout",
     "output_type": "stream",
     "text": [
      "Jet Airways                          4746\n",
      "IndiGo                               2564\n",
      "Air India                            2192\n",
      "Multiple carriers                    1543\n",
      "SpiceJet                             1026\n",
      "Vistara                               608\n",
      "Air Asia                              405\n",
      "GoAir                                 240\n",
      "Multiple carriers Premium economy      16\n",
      "Jet Airways Business                    8\n",
      "Vistara Premium economy                 5\n",
      "Trujet                                  1\n",
      "Name: Airline, dtype: int64\n",
      "\n",
      "18/05/2019    633\n",
      "6/06/2019     630\n",
      "9/05/2019     628\n",
      "12/06/2019    628\n",
      "21/05/2019    615\n",
      "9/06/2019     614\n",
      "21/03/2019    516\n",
      "15/05/2019    511\n",
      "27/05/2019    447\n",
      "24/06/2019    436\n",
      "15/06/2019    433\n",
      "27/06/2019    430\n",
      "1/06/2019     430\n",
      "3/06/2019     425\n",
      "6/03/2019     405\n",
      "24/03/2019    401\n",
      "27/03/2019    364\n",
      "24/05/2019    357\n",
      "6/05/2019     355\n",
      "1/05/2019     339\n",
      "1/04/2019     335\n",
      "12/05/2019    327\n",
      "3/03/2019     280\n",
      "9/03/2019     255\n",
      "18/03/2019    197\n",
      "15/03/2019    195\n",
      "01/03/2019    186\n",
      "12/03/2019    185\n",
      "9/04/2019     149\n",
      "3/04/2019     138\n",
      "21/06/2019    133\n",
      "18/06/2019    127\n",
      "09/03/2019    123\n",
      "03/03/2019    123\n",
      "06/03/2019    123\n",
      "3/05/2019     117\n",
      "6/04/2019     114\n",
      "24/04/2019    113\n",
      "15/04/2019    112\n",
      "27/04/2019    109\n",
      "21/04/2019    104\n",
      "18/04/2019     79\n",
      "12/04/2019     74\n",
      "1/03/2019      59\n",
      "Name: Date_of_Journey, dtype: int64\n",
      "\n",
      "Delhi       5682\n",
      "Kolkata     3581\n",
      "Banglore    2752\n",
      "Mumbai       883\n",
      "Chennai      456\n",
      "Name: Source, dtype: int64\n",
      "\n",
      "Cochin       5682\n",
      "Banglore     3581\n",
      "Delhi        1582\n",
      "New Delhi    1170\n",
      "Hyderabad     883\n",
      "Kolkata       456\n",
      "Name: Destination, dtype: int64\n",
      "\n",
      "DEL → BOM → COK                3000\n",
      "BLR → DEL                      1941\n",
      "CCU → BOM → BLR                1232\n",
      "CCU → BLR                       896\n",
      "BOM → HYD                       785\n",
      "                               ... \n",
      "BOM → JLR → HYD                   1\n",
      "BOM → JDH → JAI → DEL → HYD       1\n",
      "BOM → CCU → HYD                   1\n",
      "BOM → DED → DEL → HYD             1\n",
      "BOM → NDC → HYD                   1\n",
      "Name: Route, Length: 132, dtype: int64\n",
      "\n",
      "2h 50m     672\n",
      "1h 30m     493\n",
      "2h 45m     432\n",
      "2h 55m     418\n",
      "2h 35m     399\n",
      "          ... \n",
      "35h 20m      1\n",
      "30h 15m      1\n",
      "32h 55m      1\n",
      "47h 40m      1\n",
      "37h 10m      1\n",
      "Name: Duration, Length: 374, dtype: int64\n",
      "\n",
      "1 stop      7056\n",
      "non-stop    4340\n",
      "2 stops     1899\n",
      "3 stops       56\n",
      "4 stops        2\n",
      "Name: Total_Stops, dtype: int64\n",
      "\n",
      "No info                         10493\n",
      "In-flight meal not included      2426\n",
      "No check-in baggage included      396\n",
      "1 Long layover                     20\n",
      "Change airports                     8\n",
      "Business class                      5\n",
      "No Info                             3\n",
      "2 Long layover                      1\n",
      "1 Short layover                     1\n",
      "Red-eye flight                      1\n",
      "Name: Additional_Info, dtype: int64\n",
      "\n"
     ]
    }
   ],
   "source": [
    "# Let's check the value counts of each object column for train dataset\n",
    "\n",
    "for col in data.columns:\n",
    "    if data[col].dtype=='object':\n",
    "        print(data[col].value_counts())\n",
    "        print()"
   ]
  },
  {
   "cell_type": "markdown",
   "metadata": {},
   "source": [
    "Jet Airways and Jet Airways Business are same\n",
    "\n",
    "Multiple carriers Premium economy and Multiple carriers are same\n",
    "\n",
    "Vistara Premium economy and Vistara are same\n",
    "\n",
    "No info and No Info are same\n",
    "\n",
    "Let's replace them..."
   ]
  },
  {
   "cell_type": "code",
   "execution_count": 9,
   "metadata": {},
   "outputs": [],
   "source": [
    "# Let's solve the above problem\n",
    "\n",
    "data[\"Airline\"].replace(\"Jet Airways Business\", \"Jet Airways\", inplace=True)\n",
    "data[\"Airline\"].replace(\"Multiple carriers Premium economy\", \"Multiple carriers\", inplace=True)\n",
    "data[\"Airline\"].replace(\"Vistara Premium economy\", \"Vistara\", inplace=True)"
   ]
  },
  {
   "cell_type": "code",
   "execution_count": 10,
   "metadata": {
    "scrolled": true
   },
   "outputs": [
    {
     "name": "stdout",
     "output_type": "stream",
     "text": [
      "\n",
      "Null Values of Train Dataset\n",
      "============================\n"
     ]
    },
    {
     "data": {
      "text/plain": [
       "Airline               0\n",
       "Date_of_Journey       0\n",
       "Source                0\n",
       "Destination           0\n",
       "Route                 0\n",
       "Duration              0\n",
       "Total_Stops           0\n",
       "Additional_Info       0\n",
       "Price              2671\n",
       "Demo_Data             0\n",
       "dtype: int64"
      ]
     },
     "execution_count": 10,
     "metadata": {},
     "output_type": "execute_result"
    }
   ],
   "source": [
    "# Filling Null Values\n",
    "\n",
    "data[\"Route\"] = data[\"Route\"].fillna(data[\"Route\"].mode()[0])\n",
    "data[\"Total_Stops\"] = data[\"Total_Stops\"].fillna(data[\"Total_Stops\"].mode()[0])\n",
    "\n",
    "# Let' again check the null values\n",
    "\n",
    "print(\"\\nNull Values of Train Dataset\\n============================\")\n",
    "data.isnull().sum()"
   ]
  },
  {
   "cell_type": "markdown",
   "metadata": {},
   "source": [
    "All null values of Train Dataset has been fixed. Now let's check the test dataset.."
   ]
  },
  {
   "cell_type": "code",
   "execution_count": 11,
   "metadata": {},
   "outputs": [
    {
     "data": {
      "text/plain": [
       "Jet Airways          4754\n",
       "IndiGo               2564\n",
       "Air India            2192\n",
       "Multiple carriers    1559\n",
       "SpiceJet             1026\n",
       "Vistara               613\n",
       "Air Asia              405\n",
       "GoAir                 240\n",
       "Trujet                  1\n",
       "Name: Airline, dtype: int64"
      ]
     },
     "execution_count": 11,
     "metadata": {},
     "output_type": "execute_result"
    }
   ],
   "source": [
    "# Let's check the Airlies data in Dataset\n",
    "\n",
    "data[\"Airline\"].value_counts()"
   ]
  },
  {
   "cell_type": "code",
   "execution_count": 12,
   "metadata": {},
   "outputs": [
    {
     "data": {
      "text/plain": [
       "<AxesSubplot:xlabel='Airline', ylabel='Price'>"
      ]
     },
     "execution_count": 12,
     "metadata": {},
     "output_type": "execute_result"
    },
    {
     "data": {
      "image/png": "[encoded data removed]",
      "text/plain": [
       "<Figure size 1800x432 with 1 Axes>"
      ]
     },
     "metadata": {
      "needs_background": "light"
     },
     "output_type": "display_data"
    }
   ],
   "source": [
    "# Let's check the Airline Business\n",
    "\n",
    "plt.figure(figsize=(25,6))\n",
    "sns.barplot(x=\"Airline\", y=\"Price\", data=data)"
   ]
  },
  {
   "cell_type": "code",
   "execution_count": 13,
   "metadata": {
    "scrolled": true
   },
   "outputs": [
    {
     "data": {
      "text/plain": [
       "<AxesSubplot:xlabel='Source', ylabel='count'>"
      ]
     },
     "execution_count": 13,
     "metadata": {},
     "output_type": "execute_result"
    },
    {
     "data": {
      "image/png": "[encoded data removed]",
      "text/plain": [
       "<Figure size 1800x432 with 1 Axes>"
      ]
     },
     "metadata": {
      "needs_background": "light"
     },
     "output_type": "display_data"
    }
   ],
   "source": [
    "# Let's check the most popular flight region wise\n",
    "\n",
    "plt.figure(figsize=(25,6))\n",
    "sns.countplot(x=\"Source\", data=data, hue=\"Airline\")"
   ]
  },
  {
   "cell_type": "code",
   "execution_count": 14,
   "metadata": {
    "scrolled": true
   },
   "outputs": [
    {
     "name": "stdout",
     "output_type": "stream",
     "text": [
      "Shape before converting the object column to numerical :  (13354, 10)\n",
      "Shape after converting the object column to numerical  :  (13354, 579)\n"
     ]
    }
   ],
   "source": [
    "# Let's use the one hot encoding technique on Train Dataset and transfer the object columns to numerical \n",
    "\n",
    "print(\"Shape before converting the object column to numerical : \",data.shape)\n",
    "data = pd.get_dummies(data, drop_first=True)\n",
    "print(\"Shape after converting the object column to numerical  : \",data.shape)"
   ]
  },
  {
   "cell_type": "code",
   "execution_count": 16,
   "metadata": {},
   "outputs": [],
   "source": [
    "# Let's separate the train data and test data\n",
    "\n",
    "df_test = data.loc[data[\"Demo_Data\"]==2222]\n",
    "df_train = data.loc[data[\"Demo_Data\"]==1111]"
   ]
  },
  {
   "cell_type": "code",
   "execution_count": 19,
   "metadata": {
    "scrolled": true
   },
   "outputs": [
    {
     "name": "stdout",
     "output_type": "stream",
     "text": [
      "Shape of Train Dataset :  (10683, 579)\n",
      "Shape of Test Dataset  :  (2671, 579)\n"
     ]
    }
   ],
   "source": [
    "# Reseting the indexes\n",
    "\n",
    "df_train.reset_index(drop=True)\n",
    "df_test.reset_index(drop=True)\n",
    "\n",
    "print(\"Shape of Train Dataset : \",df_train.shape)\n",
    "print(\"Shape of Test Dataset  : \",df_test.shape)"
   ]
  },
  {
   "cell_type": "code",
   "execution_count": 38,
   "metadata": {},
   "outputs": [],
   "source": [
    "# Let's drop the Demo Data column from the test dataset as that is the  output variable to be predict\n",
    "\n",
    "df_test.drop(columns = [\"Demo_Data\", \"Price\"], axis=1, inplace=True)"
   ]
  },
  {
   "cell_type": "code",
   "execution_count": 21,
   "metadata": {},
   "outputs": [],
   "source": [
    "# Let's separate input and target column from the train dataset\n",
    "\n",
    "x = df_train.drop(columns = [\"Price\", \"Demo_Data\"], axis=1)\n",
    "y = df_train[\"Price\"]"
   ]
  },
  {
   "cell_type": "code",
   "execution_count": 22,
   "metadata": {},
   "outputs": [
    {
     "name": "stdout",
     "output_type": "stream",
     "text": [
      "Number of components explained 95% variance :  209\n"
     ]
    },
    {
     "data": {
      "image/png": "[encoded data removed]",
      "text/plain": [
       "<Figure size 432x288 with 1 Axes>"
      ]
     },
     "metadata": {
      "needs_background": "light"
     },
     "output_type": "display_data"
    }
   ],
   "source": [
    "# Let' use th PCA technique\n",
    "\n",
    "from sklearn.preprocessing import StandardScaler\n",
    "from sklearn.decomposition import PCA\n",
    "\n",
    "scaler = StandardScaler()\n",
    "x_scaled = scaler.fit_transform(x)\n",
    "\n",
    "x_pca = PCA()\n",
    "x_pca.fit(x)\n",
    "\n",
    "var_cumu = np.cumsum(x_pca.explained_variance_ratio_)*100\n",
    "k = np.argmax(var_cumu>95)\n",
    "\n",
    "print(\"Number of components explained 95% variance : \",k)\n",
    "plt.xlabel(\"Principle Components\", fontsize=15)\n",
    "plt.ylabel(\"Cumulative Explained Variance\", fontsize=14)\n",
    "plt.axvline(x=k, color='k', linestyle='--')\n",
    "plt.axhline(y=95, color='r', linestyle='--')\n",
    "plt.plot(var_cumu)\n",
    "plt.show()"
   ]
  },
  {
   "cell_type": "markdown",
   "metadata": {},
   "source": [
    "Out of 579, 209 features is giving the 95% variance. So, let's use the PCA Scaling for model building..."
   ]
  },
  {
   "cell_type": "code",
   "execution_count": 23,
   "metadata": {
    "scrolled": true
   },
   "outputs": [],
   "source": [
    "# Let's use the PCA Scaling\n",
    "\n",
    "pca = PCA(n_components=209)\n",
    "df_x = pca.fit_transform(x)"
   ]
  },
  {
   "cell_type": "code",
   "execution_count": 24,
   "metadata": {},
   "outputs": [],
   "source": [
    "# Let's import the necessary libraries for model building\n",
    "\n",
    "from sklearn.model_selection import train_test_split, cross_val_score\n",
    "from sklearn.metrics import r2_score\n",
    "from time import time"
   ]
  },
  {
   "cell_type": "code",
   "execution_count": 25,
   "metadata": {},
   "outputs": [],
   "source": [
    "# Let's find the best random state\n",
    "\n",
    "def randomstate(mod):\n",
    "    max_score = 0\n",
    "    max_state = 0\n",
    "    start = time()\n",
    "    for i in range(1,6):\n",
    "        x_train, x_test, y_train, y_test = train_test_split(df_x, y, test_size=0.22, random_state=i)\n",
    "        mod.fit(x_train, y_train)\n",
    "        y_pre = mod.predict(x_test)\n",
    "        score = r2_score(y_test, y_pre)\n",
    "        if score > max_score:\n",
    "            max_score = score\n",
    "            max_state = i\n",
    "    print(\"Best Random State is      : \",max_state)\n",
    "    print(\"Beset R2_Score is         : \",max_score)\n",
    "    print(\"Cross Validation score is : \",cross_val_score(mod, df_x, y, cv=5, scoring='r2').mean())\n",
    "    end = time()\n",
    "    print(\"Time taken by model for prediction : {:.4f} seconds\".format(end-start))"
   ]
  },
  {
   "cell_type": "code",
   "execution_count": 26,
   "metadata": {
    "scrolled": true
   },
   "outputs": [
    {
     "name": "stdout",
     "output_type": "stream",
     "text": [
      "Best Random State is      :  2\n",
      "Beset R2_Score is         :  0.7790117764923644\n",
      "Cross Validation score is :  0.7313904001519199\n",
      "Time taken by model for prediction : 1.4506 seconds\n"
     ]
    }
   ],
   "source": [
    "# Linear Regression\n",
    "\n",
    "from sklearn.linear_model import LinearRegression\n",
    "LR = LinearRegression()\n",
    "randomstate(LR)"
   ]
  },
  {
   "cell_type": "code",
   "execution_count": 27,
   "metadata": {},
   "outputs": [],
   "source": [
    "# Format for all models\n",
    "\n",
    "def bestmodel(model):\n",
    "    start = time()\n",
    "    x_train, x_test, y_train, y_test = train_test_split(df_x, y, test_size=0.22, random_state=2)\n",
    "    model.fit(x_train, y_train)\n",
    "    y_pred = model.predict(x_test)\n",
    "    score = r2_score(y_test, y_pred)\n",
    "    print(\"Best R2_Score is : \",score)\n",
    "    print(\"Cross Validation Score is : \",cross_val_score(model, df_x, y, cv=5, scoring='r2').mean())\n",
    "    end = time()\n",
    "    print(\"Time taken by model for prediction : {:.4f} seconds\".format(end-start))"
   ]
  },
  {
   "cell_type": "code",
   "execution_count": 28,
   "metadata": {},
   "outputs": [
    {
     "name": "stdout",
     "output_type": "stream",
     "text": [
      "Best R2_Score is :  0.7421015389313347\n",
      "Cross Validation Score is :  0.7362057833976563\n",
      "Time taken by model for prediction : 24.6779 seconds\n"
     ]
    }
   ],
   "source": [
    "# Decision Tree Regressor\n",
    "\n",
    "from sklearn.tree import DecisionTreeRegressor\n",
    "DTR = DecisionTreeRegressor()\n",
    "bestmodel(DTR)"
   ]
  },
  {
   "cell_type": "code",
   "execution_count": 29,
   "metadata": {},
   "outputs": [
    {
     "name": "stdout",
     "output_type": "stream",
     "text": [
      "Best R2_Score is :  0.8160337351968967\n",
      "Cross Validation Score is :  0.7795085397909247\n",
      "Time taken by model for prediction : 6.3334 seconds\n"
     ]
    }
   ],
   "source": [
    "# K-Neighbors Regressor\n",
    "\n",
    "from sklearn.neighbors import KNeighborsRegressor\n",
    "KNR = KNeighborsRegressor()\n",
    "bestmodel(KNR)"
   ]
  },
  {
   "cell_type": "code",
   "execution_count": 31,
   "metadata": {},
   "outputs": [
    {
     "name": "stdout",
     "output_type": "stream",
     "text": [
      "Best R2_Score is :  0.8694854631562586\n",
      "Cross Validation Score is :  0.8436250282873459\n",
      "Time taken by model for prediction : 1326.4042 seconds\n"
     ]
    }
   ],
   "source": [
    "# Random Forest Regressor\n",
    "\n",
    "from sklearn.ensemble import RandomForestRegressor\n",
    "RFR = RandomForestRegressor()\n",
    "bestmodel(RFR)"
   ]
  },
  {
   "cell_type": "markdown",
   "metadata": {},
   "source": [
    "#### After analyzing the scores and cross validation scores of above 4 models. Now it is clear that random forest regressor is giving the best score. So, let's try to increase the score using hyperparameter tuning..."
   ]
  },
  {
   "cell_type": "code",
   "execution_count": 33,
   "metadata": {},
   "outputs": [
    {
     "data": {
      "text/plain": [
       "0.8695269224253188"
      ]
     },
     "execution_count": 33,
     "metadata": {},
     "output_type": "execute_result"
    }
   ],
   "source": [
    "# Final Model With HyperParameter Tuning\n",
    "\n",
    "x_train, x_test, y_train, y_test = train_test_split(df_x, y, test_size=0.22, random_state=2)\n",
    "\n",
    "from sklearn.model_selection import GridSearchCV\n",
    "\n",
    "param_grid = {\"n_estimators\":[100,200], \"criterion\": [\"mse\", \"mae\"],\n",
    "             \"min_samples_split\": [2,3], \"min_samples_leaf\": [1,2]}\n",
    "\n",
    "grid_search = GridSearchCV(RFR, param_grid)\n",
    "\n",
    "grid_search.fit(x_train, y_train)\n",
    "\n",
    "x_train, x_test, y_train, y_test = train_test_split(df_x, y, test_size = 0.22, random_state = 2)\n",
    "Final_Model = RandomForestRegressor(n_estimators=100, criterion=\"mse\", min_samples_split=2, min_samples_leaf=1)\n",
    "Final_Model.fit(x_train, y_train)\n",
    "y_preds = Final_Model.predict(x_test)\n",
    "r2_score(y_test, y_preds)"
   ]
  },
  {
   "cell_type": "code",
   "execution_count": 39,
   "metadata": {},
   "outputs": [],
   "source": [
    "# Now let's transfer test_data according to pca for sales prediction\n",
    "\n",
    "test_data_pca = pca.transform(df_test)\n",
    "price_pred = Final_Model.predict(test_data_pca)\n",
    "\n",
    "predict_price = pd.DataFrame(price_pred, columns = [\"Price\"])\n",
    "\n",
    "# Let's save the predicted price to the csv file\n",
    "\n",
    "predict_price.to_csv(\"Predicted Final Price.csv\", index=False)"
   ]
  },
  {
   "cell_type": "code",
   "execution_count": 40,
   "metadata": {},
   "outputs": [
    {
     "data": {
      "text/plain": [
       "['Final_Predicted_Price_Model.pkl']"
      ]
     },
     "execution_count": 40,
     "metadata": {},
     "output_type": "execute_result"
    }
   ],
   "source": [
    "# Saving the Final Model\n",
    "\n",
    "import joblib\n",
    "\n",
    "joblib.dump(Final_Model, \"Final_Predicted_Price_Model.pkl\")"
   ]
  },
  {
   "cell_type": "code",
   "execution_count": null,
   "metadata": {},
   "outputs": [],
   "source": []
  }
 ],
 "metadata": {
  "kernelspec": {
   "display_name": "Python 3",
   "language": "python",
   "name": "python3"
  },
  "language_info": {
   "codemirror_mode": {
    "name": "ipython",
    "version": 3
   },
   "file_extension": ".py",
   "mimetype": "text/x-python",
   "name": "python",
   "nbconvert_exporter": "python",
   "pygments_lexer": "ipython3",
   "version": "3.8.5"
  }
 },
 "nbformat": 4,
 "nbformat_minor": 4
}
