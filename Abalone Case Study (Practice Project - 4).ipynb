{
 "cells": [
  {
   "cell_type": "markdown",
   "metadata": {},
   "source": [
    "# Abalone Case Study (Practice Project - 4)"
   ]
  },
  {
   "cell_type": "code",
   "execution_count": 1,
   "metadata": {},
   "outputs": [],
   "source": [
    "# Importing necessary libraries\n",
    "\n",
    "import numpy as np\n",
    "import pandas as pd\n",
    "import seaborn as sns\n",
    "import matplotlib.pyplot as plt\n",
    "import warnings\n",
    "warnings.filterwarnings(\"ignore\")"
   ]
  },
  {
   "cell_type": "code",
   "execution_count": 2,
   "metadata": {},
   "outputs": [
    {
     "data": {
      "text/html": [
       "<div>\n",
       "<style scoped>\n",
       "    .dataframe tbody tr th:only-of-type {\n",
       "        vertical-align: middle;\n",
       "    }\n",
       "\n",
       "    .dataframe tbody tr th {\n",
       "        vertical-align: top;\n",
       "    }\n",
       "\n",
       "    .dataframe thead th {\n",
       "        text-align: right;\n",
       "    }\n",
       "</style>\n",
       "<table border=\"1\" class=\"dataframe\">\n",
       "  <thead>\n",
       "    <tr style=\"text-align: right;\">\n",
       "      <th></th>\n",
       "      <th>Sex</th>\n",
       "      <th>Length</th>\n",
       "      <th>Diameter</th>\n",
       "      <th>Height</th>\n",
       "      <th>Whole weight</th>\n",
       "      <th>Shucked weight</th>\n",
       "      <th>Viscera weight</th>\n",
       "      <th>Shell weight</th>\n",
       "      <th>Rings</th>\n",
       "    </tr>\n",
       "  </thead>\n",
       "  <tbody>\n",
       "    <tr>\n",
       "      <th>0</th>\n",
       "      <td>M</td>\n",
       "      <td>0.455</td>\n",
       "      <td>0.365</td>\n",
       "      <td>0.095</td>\n",
       "      <td>0.5140</td>\n",
       "      <td>0.2245</td>\n",
       "      <td>0.1010</td>\n",
       "      <td>0.1500</td>\n",
       "      <td>15</td>\n",
       "    </tr>\n",
       "    <tr>\n",
       "      <th>1</th>\n",
       "      <td>M</td>\n",
       "      <td>0.350</td>\n",
       "      <td>0.265</td>\n",
       "      <td>0.090</td>\n",
       "      <td>0.2255</td>\n",
       "      <td>0.0995</td>\n",
       "      <td>0.0485</td>\n",
       "      <td>0.0700</td>\n",
       "      <td>7</td>\n",
       "    </tr>\n",
       "    <tr>\n",
       "      <th>2</th>\n",
       "      <td>F</td>\n",
       "      <td>0.530</td>\n",
       "      <td>0.420</td>\n",
       "      <td>0.135</td>\n",
       "      <td>0.6770</td>\n",
       "      <td>0.2565</td>\n",
       "      <td>0.1415</td>\n",
       "      <td>0.2100</td>\n",
       "      <td>9</td>\n",
       "    </tr>\n",
       "    <tr>\n",
       "      <th>3</th>\n",
       "      <td>M</td>\n",
       "      <td>0.440</td>\n",
       "      <td>0.365</td>\n",
       "      <td>0.125</td>\n",
       "      <td>0.5160</td>\n",
       "      <td>0.2155</td>\n",
       "      <td>0.1140</td>\n",
       "      <td>0.1550</td>\n",
       "      <td>10</td>\n",
       "    </tr>\n",
       "    <tr>\n",
       "      <th>4</th>\n",
       "      <td>I</td>\n",
       "      <td>0.330</td>\n",
       "      <td>0.255</td>\n",
       "      <td>0.080</td>\n",
       "      <td>0.2050</td>\n",
       "      <td>0.0895</td>\n",
       "      <td>0.0395</td>\n",
       "      <td>0.0550</td>\n",
       "      <td>7</td>\n",
       "    </tr>\n",
       "    <tr>\n",
       "      <th>...</th>\n",
       "      <td>...</td>\n",
       "      <td>...</td>\n",
       "      <td>...</td>\n",
       "      <td>...</td>\n",
       "      <td>...</td>\n",
       "      <td>...</td>\n",
       "      <td>...</td>\n",
       "      <td>...</td>\n",
       "      <td>...</td>\n",
       "    </tr>\n",
       "    <tr>\n",
       "      <th>4172</th>\n",
       "      <td>F</td>\n",
       "      <td>0.565</td>\n",
       "      <td>0.450</td>\n",
       "      <td>0.165</td>\n",
       "      <td>0.8870</td>\n",
       "      <td>0.3700</td>\n",
       "      <td>0.2390</td>\n",
       "      <td>0.2490</td>\n",
       "      <td>11</td>\n",
       "    </tr>\n",
       "    <tr>\n",
       "      <th>4173</th>\n",
       "      <td>M</td>\n",
       "      <td>0.590</td>\n",
       "      <td>0.440</td>\n",
       "      <td>0.135</td>\n",
       "      <td>0.9660</td>\n",
       "      <td>0.4390</td>\n",
       "      <td>0.2145</td>\n",
       "      <td>0.2605</td>\n",
       "      <td>10</td>\n",
       "    </tr>\n",
       "    <tr>\n",
       "      <th>4174</th>\n",
       "      <td>M</td>\n",
       "      <td>0.600</td>\n",
       "      <td>0.475</td>\n",
       "      <td>0.205</td>\n",
       "      <td>1.1760</td>\n",
       "      <td>0.5255</td>\n",
       "      <td>0.2875</td>\n",
       "      <td>0.3080</td>\n",
       "      <td>9</td>\n",
       "    </tr>\n",
       "    <tr>\n",
       "      <th>4175</th>\n",
       "      <td>F</td>\n",
       "      <td>0.625</td>\n",
       "      <td>0.485</td>\n",
       "      <td>0.150</td>\n",
       "      <td>1.0945</td>\n",
       "      <td>0.5310</td>\n",
       "      <td>0.2610</td>\n",
       "      <td>0.2960</td>\n",
       "      <td>10</td>\n",
       "    </tr>\n",
       "    <tr>\n",
       "      <th>4176</th>\n",
       "      <td>M</td>\n",
       "      <td>0.710</td>\n",
       "      <td>0.555</td>\n",
       "      <td>0.195</td>\n",
       "      <td>1.9485</td>\n",
       "      <td>0.9455</td>\n",
       "      <td>0.3765</td>\n",
       "      <td>0.4950</td>\n",
       "      <td>12</td>\n",
       "    </tr>\n",
       "  </tbody>\n",
       "</table>\n",
       "<p>4177 rows × 9 columns</p>\n",
       "</div>"
      ],
      "text/plain": [
       "     Sex  Length  Diameter  Height  Whole weight  Shucked weight  \\\n",
       "0      M   0.455     0.365   0.095        0.5140          0.2245   \n",
       "1      M   0.350     0.265   0.090        0.2255          0.0995   \n",
       "2      F   0.530     0.420   0.135        0.6770          0.2565   \n",
       "3      M   0.440     0.365   0.125        0.5160          0.2155   \n",
       "4      I   0.330     0.255   0.080        0.2050          0.0895   \n",
       "...   ..     ...       ...     ...           ...             ...   \n",
       "4172   F   0.565     0.450   0.165        0.8870          0.3700   \n",
       "4173   M   0.590     0.440   0.135        0.9660          0.4390   \n",
       "4174   M   0.600     0.475   0.205        1.1760          0.5255   \n",
       "4175   F   0.625     0.485   0.150        1.0945          0.5310   \n",
       "4176   M   0.710     0.555   0.195        1.9485          0.9455   \n",
       "\n",
       "      Viscera weight  Shell weight  Rings  \n",
       "0             0.1010        0.1500     15  \n",
       "1             0.0485        0.0700      7  \n",
       "2             0.1415        0.2100      9  \n",
       "3             0.1140        0.1550     10  \n",
       "4             0.0395        0.0550      7  \n",
       "...              ...           ...    ...  \n",
       "4172          0.2390        0.2490     11  \n",
       "4173          0.2145        0.2605     10  \n",
       "4174          0.2875        0.3080      9  \n",
       "4175          0.2610        0.2960     10  \n",
       "4176          0.3765        0.4950     12  \n",
       "\n",
       "[4177 rows x 9 columns]"
      ]
     },
     "execution_count": 2,
     "metadata": {},
     "output_type": "execute_result"
    }
   ],
   "source": [
    "# Load the dataset\n",
    "\n",
    "abalone = pd.read_csv(\"abalone.csv\")\n",
    "abalone"
   ]
  },
  {
   "cell_type": "code",
   "execution_count": 3,
   "metadata": {},
   "outputs": [
    {
     "name": "stdout",
     "output_type": "stream",
     "text": [
      "Shape of the dataset --> (4177, 9)\n"
     ]
    }
   ],
   "source": [
    "# Shape of the dataset\n",
    "\n",
    "print(\"Shape of the dataset -->\",abalone.shape)"
   ]
  },
  {
   "cell_type": "markdown",
   "metadata": {},
   "source": [
    "## Quick information about dataset"
   ]
  },
  {
   "cell_type": "code",
   "execution_count": 5,
   "metadata": {},
   "outputs": [
    {
     "name": "stdout",
     "output_type": "stream",
     "text": [
      "<class 'pandas.core.frame.DataFrame'>\n",
      "RangeIndex: 4177 entries, 0 to 4176\n",
      "Data columns (total 9 columns):\n",
      " #   Column          Non-Null Count  Dtype  \n",
      "---  ------          --------------  -----  \n",
      " 0   Sex             4177 non-null   object \n",
      " 1   Length          4177 non-null   float64\n",
      " 2   Diameter        4177 non-null   float64\n",
      " 3   Height          4177 non-null   float64\n",
      " 4   Whole weight    4177 non-null   float64\n",
      " 5   Shucked weight  4177 non-null   float64\n",
      " 6   Viscera weight  4177 non-null   float64\n",
      " 7   Shell weight    4177 non-null   float64\n",
      " 8   Rings           4177 non-null   int64  \n",
      "dtypes: float64(7), int64(1), object(1)\n",
      "memory usage: 293.8+ KB\n"
     ]
    }
   ],
   "source": [
    "# Quick information about dataset\n",
    "\n",
    "abalone.info()"
   ]
  },
  {
   "cell_type": "markdown",
   "metadata": {},
   "source": [
    "\n",
    "No any column found as null.\n",
    "Our Target Column is : Rings"
   ]
  },
  {
   "cell_type": "code",
   "execution_count": 6,
   "metadata": {},
   "outputs": [
    {
     "data": {
      "text/html": [
       "<div>\n",
       "<style scoped>\n",
       "    .dataframe tbody tr th:only-of-type {\n",
       "        vertical-align: middle;\n",
       "    }\n",
       "\n",
       "    .dataframe tbody tr th {\n",
       "        vertical-align: top;\n",
       "    }\n",
       "\n",
       "    .dataframe thead th {\n",
       "        text-align: right;\n",
       "    }\n",
       "</style>\n",
       "<table border=\"1\" class=\"dataframe\">\n",
       "  <thead>\n",
       "    <tr style=\"text-align: right;\">\n",
       "      <th></th>\n",
       "      <th>Length</th>\n",
       "      <th>Diameter</th>\n",
       "      <th>Height</th>\n",
       "      <th>Whole weight</th>\n",
       "      <th>Shucked weight</th>\n",
       "      <th>Viscera weight</th>\n",
       "      <th>Shell weight</th>\n",
       "      <th>Rings</th>\n",
       "    </tr>\n",
       "  </thead>\n",
       "  <tbody>\n",
       "    <tr>\n",
       "      <th>count</th>\n",
       "      <td>4177.000000</td>\n",
       "      <td>4177.000000</td>\n",
       "      <td>4177.000000</td>\n",
       "      <td>4177.000000</td>\n",
       "      <td>4177.000000</td>\n",
       "      <td>4177.000000</td>\n",
       "      <td>4177.000000</td>\n",
       "      <td>4177.000000</td>\n",
       "    </tr>\n",
       "    <tr>\n",
       "      <th>mean</th>\n",
       "      <td>0.523992</td>\n",
       "      <td>0.407881</td>\n",
       "      <td>0.139516</td>\n",
       "      <td>0.828742</td>\n",
       "      <td>0.359367</td>\n",
       "      <td>0.180594</td>\n",
       "      <td>0.238831</td>\n",
       "      <td>9.933684</td>\n",
       "    </tr>\n",
       "    <tr>\n",
       "      <th>std</th>\n",
       "      <td>0.120093</td>\n",
       "      <td>0.099240</td>\n",
       "      <td>0.041827</td>\n",
       "      <td>0.490389</td>\n",
       "      <td>0.221963</td>\n",
       "      <td>0.109614</td>\n",
       "      <td>0.139203</td>\n",
       "      <td>3.224169</td>\n",
       "    </tr>\n",
       "    <tr>\n",
       "      <th>min</th>\n",
       "      <td>0.075000</td>\n",
       "      <td>0.055000</td>\n",
       "      <td>0.000000</td>\n",
       "      <td>0.002000</td>\n",
       "      <td>0.001000</td>\n",
       "      <td>0.000500</td>\n",
       "      <td>0.001500</td>\n",
       "      <td>1.000000</td>\n",
       "    </tr>\n",
       "    <tr>\n",
       "      <th>25%</th>\n",
       "      <td>0.450000</td>\n",
       "      <td>0.350000</td>\n",
       "      <td>0.115000</td>\n",
       "      <td>0.441500</td>\n",
       "      <td>0.186000</td>\n",
       "      <td>0.093500</td>\n",
       "      <td>0.130000</td>\n",
       "      <td>8.000000</td>\n",
       "    </tr>\n",
       "    <tr>\n",
       "      <th>50%</th>\n",
       "      <td>0.545000</td>\n",
       "      <td>0.425000</td>\n",
       "      <td>0.140000</td>\n",
       "      <td>0.799500</td>\n",
       "      <td>0.336000</td>\n",
       "      <td>0.171000</td>\n",
       "      <td>0.234000</td>\n",
       "      <td>9.000000</td>\n",
       "    </tr>\n",
       "    <tr>\n",
       "      <th>75%</th>\n",
       "      <td>0.615000</td>\n",
       "      <td>0.480000</td>\n",
       "      <td>0.165000</td>\n",
       "      <td>1.153000</td>\n",
       "      <td>0.502000</td>\n",
       "      <td>0.253000</td>\n",
       "      <td>0.329000</td>\n",
       "      <td>11.000000</td>\n",
       "    </tr>\n",
       "    <tr>\n",
       "      <th>max</th>\n",
       "      <td>0.815000</td>\n",
       "      <td>0.650000</td>\n",
       "      <td>1.130000</td>\n",
       "      <td>2.825500</td>\n",
       "      <td>1.488000</td>\n",
       "      <td>0.760000</td>\n",
       "      <td>1.005000</td>\n",
       "      <td>29.000000</td>\n",
       "    </tr>\n",
       "  </tbody>\n",
       "</table>\n",
       "</div>"
      ],
      "text/plain": [
       "            Length     Diameter       Height  Whole weight  Shucked weight  \\\n",
       "count  4177.000000  4177.000000  4177.000000   4177.000000     4177.000000   \n",
       "mean      0.523992     0.407881     0.139516      0.828742        0.359367   \n",
       "std       0.120093     0.099240     0.041827      0.490389        0.221963   \n",
       "min       0.075000     0.055000     0.000000      0.002000        0.001000   \n",
       "25%       0.450000     0.350000     0.115000      0.441500        0.186000   \n",
       "50%       0.545000     0.425000     0.140000      0.799500        0.336000   \n",
       "75%       0.615000     0.480000     0.165000      1.153000        0.502000   \n",
       "max       0.815000     0.650000     1.130000      2.825500        1.488000   \n",
       "\n",
       "       Viscera weight  Shell weight        Rings  \n",
       "count     4177.000000   4177.000000  4177.000000  \n",
       "mean         0.180594      0.238831     9.933684  \n",
       "std          0.109614      0.139203     3.224169  \n",
       "min          0.000500      0.001500     1.000000  \n",
       "25%          0.093500      0.130000     8.000000  \n",
       "50%          0.171000      0.234000     9.000000  \n",
       "75%          0.253000      0.329000    11.000000  \n",
       "max          0.760000      1.005000    29.000000  "
      ]
     },
     "execution_count": 6,
     "metadata": {},
     "output_type": "execute_result"
    }
   ],
   "source": [
    "# Describing the dataset\n",
    "\n",
    "abalone.describe()"
   ]
  },
  {
   "cell_type": "markdown",
   "metadata": {},
   "source": [
    "It seems that 'Height' column has '0' value. Let's check how many zeros are available in this column."
   ]
  },
  {
   "cell_type": "code",
   "execution_count": 7,
   "metadata": {
    "scrolled": true
   },
   "outputs": [
    {
     "data": {
      "text/plain": [
       "(array([1257, 3996], dtype=int64),)"
      ]
     },
     "execution_count": 7,
     "metadata": {},
     "output_type": "execute_result"
    }
   ],
   "source": [
    "index = np.where(abalone[\"Height\"] == 0)\n",
    "index"
   ]
  },
  {
   "cell_type": "markdown",
   "metadata": {},
   "source": [
    "There are only 2 values are available in Height column. Let's fillout this."
   ]
  },
  {
   "cell_type": "markdown",
   "metadata": {},
   "source": [
    "##  Dealing with '0' values which present in Height Column"
   ]
  },
  {
   "cell_type": "code",
   "execution_count": 8,
   "metadata": {},
   "outputs": [],
   "source": [
    "abalone[\"Height\"] = abalone[\"Height\"].replace(0, abalone[\"Height\"].mean())"
   ]
  },
  {
   "cell_type": "code",
   "execution_count": 9,
   "metadata": {
    "scrolled": true
   },
   "outputs": [
    {
     "data": {
      "text/plain": [
       "(array([], dtype=int64),)"
      ]
     },
     "execution_count": 9,
     "metadata": {},
     "output_type": "execute_result"
    }
   ],
   "source": [
    "index = np.where(abalone[\"Height\"] == 0)\n",
    "index"
   ]
  },
  {
   "cell_type": "markdown",
   "metadata": {},
   "source": [
    "Now it's clear that all zeros are fixed."
   ]
  },
  {
   "cell_type": "code",
   "execution_count": 10,
   "metadata": {
    "scrolled": true
   },
   "outputs": [
    {
     "data": {
      "text/html": [
       "<div>\n",
       "<style scoped>\n",
       "    .dataframe tbody tr th:only-of-type {\n",
       "        vertical-align: middle;\n",
       "    }\n",
       "\n",
       "    .dataframe tbody tr th {\n",
       "        vertical-align: top;\n",
       "    }\n",
       "\n",
       "    .dataframe thead th {\n",
       "        text-align: right;\n",
       "    }\n",
       "</style>\n",
       "<table border=\"1\" class=\"dataframe\">\n",
       "  <thead>\n",
       "    <tr style=\"text-align: right;\">\n",
       "      <th></th>\n",
       "      <th>Length</th>\n",
       "      <th>Diameter</th>\n",
       "      <th>Height</th>\n",
       "      <th>Whole weight</th>\n",
       "      <th>Shucked weight</th>\n",
       "      <th>Viscera weight</th>\n",
       "      <th>Shell weight</th>\n",
       "      <th>Rings</th>\n",
       "    </tr>\n",
       "  </thead>\n",
       "  <tbody>\n",
       "    <tr>\n",
       "      <th>count</th>\n",
       "      <td>4177.000000</td>\n",
       "      <td>4177.000000</td>\n",
       "      <td>4177.000000</td>\n",
       "      <td>4177.000000</td>\n",
       "      <td>4177.000000</td>\n",
       "      <td>4177.000000</td>\n",
       "      <td>4177.000000</td>\n",
       "      <td>4177.000000</td>\n",
       "    </tr>\n",
       "    <tr>\n",
       "      <th>mean</th>\n",
       "      <td>0.523992</td>\n",
       "      <td>0.407881</td>\n",
       "      <td>0.139583</td>\n",
       "      <td>0.828742</td>\n",
       "      <td>0.359367</td>\n",
       "      <td>0.180594</td>\n",
       "      <td>0.238831</td>\n",
       "      <td>9.933684</td>\n",
       "    </tr>\n",
       "    <tr>\n",
       "      <th>std</th>\n",
       "      <td>0.120093</td>\n",
       "      <td>0.099240</td>\n",
       "      <td>0.041715</td>\n",
       "      <td>0.490389</td>\n",
       "      <td>0.221963</td>\n",
       "      <td>0.109614</td>\n",
       "      <td>0.139203</td>\n",
       "      <td>3.224169</td>\n",
       "    </tr>\n",
       "    <tr>\n",
       "      <th>min</th>\n",
       "      <td>0.075000</td>\n",
       "      <td>0.055000</td>\n",
       "      <td>0.010000</td>\n",
       "      <td>0.002000</td>\n",
       "      <td>0.001000</td>\n",
       "      <td>0.000500</td>\n",
       "      <td>0.001500</td>\n",
       "      <td>1.000000</td>\n",
       "    </tr>\n",
       "    <tr>\n",
       "      <th>25%</th>\n",
       "      <td>0.450000</td>\n",
       "      <td>0.350000</td>\n",
       "      <td>0.115000</td>\n",
       "      <td>0.441500</td>\n",
       "      <td>0.186000</td>\n",
       "      <td>0.093500</td>\n",
       "      <td>0.130000</td>\n",
       "      <td>8.000000</td>\n",
       "    </tr>\n",
       "    <tr>\n",
       "      <th>50%</th>\n",
       "      <td>0.545000</td>\n",
       "      <td>0.425000</td>\n",
       "      <td>0.140000</td>\n",
       "      <td>0.799500</td>\n",
       "      <td>0.336000</td>\n",
       "      <td>0.171000</td>\n",
       "      <td>0.234000</td>\n",
       "      <td>9.000000</td>\n",
       "    </tr>\n",
       "    <tr>\n",
       "      <th>75%</th>\n",
       "      <td>0.615000</td>\n",
       "      <td>0.480000</td>\n",
       "      <td>0.165000</td>\n",
       "      <td>1.153000</td>\n",
       "      <td>0.502000</td>\n",
       "      <td>0.253000</td>\n",
       "      <td>0.329000</td>\n",
       "      <td>11.000000</td>\n",
       "    </tr>\n",
       "    <tr>\n",
       "      <th>max</th>\n",
       "      <td>0.815000</td>\n",
       "      <td>0.650000</td>\n",
       "      <td>1.130000</td>\n",
       "      <td>2.825500</td>\n",
       "      <td>1.488000</td>\n",
       "      <td>0.760000</td>\n",
       "      <td>1.005000</td>\n",
       "      <td>29.000000</td>\n",
       "    </tr>\n",
       "  </tbody>\n",
       "</table>\n",
       "</div>"
      ],
      "text/plain": [
       "            Length     Diameter       Height  Whole weight  Shucked weight  \\\n",
       "count  4177.000000  4177.000000  4177.000000   4177.000000     4177.000000   \n",
       "mean      0.523992     0.407881     0.139583      0.828742        0.359367   \n",
       "std       0.120093     0.099240     0.041715      0.490389        0.221963   \n",
       "min       0.075000     0.055000     0.010000      0.002000        0.001000   \n",
       "25%       0.450000     0.350000     0.115000      0.441500        0.186000   \n",
       "50%       0.545000     0.425000     0.140000      0.799500        0.336000   \n",
       "75%       0.615000     0.480000     0.165000      1.153000        0.502000   \n",
       "max       0.815000     0.650000     1.130000      2.825500        1.488000   \n",
       "\n",
       "       Viscera weight  Shell weight        Rings  \n",
       "count     4177.000000   4177.000000  4177.000000  \n",
       "mean         0.180594      0.238831     9.933684  \n",
       "std          0.109614      0.139203     3.224169  \n",
       "min          0.000500      0.001500     1.000000  \n",
       "25%          0.093500      0.130000     8.000000  \n",
       "50%          0.171000      0.234000     9.000000  \n",
       "75%          0.253000      0.329000    11.000000  \n",
       "max          0.760000      1.005000    29.000000  "
      ]
     },
     "execution_count": 10,
     "metadata": {},
     "output_type": "execute_result"
    }
   ],
   "source": [
    "# Describing the dataset again for more analysis\n",
    "\n",
    "abalone.describe()"
   ]
  },
  {
   "cell_type": "markdown",
   "metadata": {},
   "source": [
    "It seems that column 'Length', 'Diameter' and 'Height' have very less 'min' value, so there can be skewness in downside and column 'Whole weight','Shucked weight'. 'Viscera weight' and 'Shell weight' has maximum 'max' values, so there can be some skewness in upside and column 'Height' has very high 'max' value, so there can be very high skewness."
   ]
  },
  {
   "cell_type": "code",
   "execution_count": 12,
   "metadata": {
    "scrolled": false
   },
   "outputs": [
    {
     "data": {
      "image/png": "[encoded data removed]",
      "text/plain": [
       "<Figure size 432x288 with 1 Axes>"
      ]
     },
     "metadata": {
      "needs_background": "light"
     },
     "output_type": "display_data"
    }
   ],
   "source": [
    "# Let's plot a graph between Rings & Sex\n",
    "\n",
    "sns.barplot(x=\"Sex\", y=\"Rings\", data = abalone)\n",
    "plt.show()"
   ]
  },
  {
   "cell_type": "markdown",
   "metadata": {},
   "source": [
    "## Convert categorical column to numerical column"
   ]
  },
  {
   "cell_type": "code",
   "execution_count": 13,
   "metadata": {},
   "outputs": [
    {
     "data": {
      "text/html": [
       "<div>\n",
       "<style scoped>\n",
       "    .dataframe tbody tr th:only-of-type {\n",
       "        vertical-align: middle;\n",
       "    }\n",
       "\n",
       "    .dataframe tbody tr th {\n",
       "        vertical-align: top;\n",
       "    }\n",
       "\n",
       "    .dataframe thead th {\n",
       "        text-align: right;\n",
       "    }\n",
       "</style>\n",
       "<table border=\"1\" class=\"dataframe\">\n",
       "  <thead>\n",
       "    <tr style=\"text-align: right;\">\n",
       "      <th></th>\n",
       "      <th>Length</th>\n",
       "      <th>Diameter</th>\n",
       "      <th>Height</th>\n",
       "      <th>Whole weight</th>\n",
       "      <th>Shucked weight</th>\n",
       "      <th>Viscera weight</th>\n",
       "      <th>Shell weight</th>\n",
       "      <th>Rings</th>\n",
       "      <th>Sex_I</th>\n",
       "      <th>Sex_M</th>\n",
       "    </tr>\n",
       "  </thead>\n",
       "  <tbody>\n",
       "    <tr>\n",
       "      <th>0</th>\n",
       "      <td>0.455</td>\n",
       "      <td>0.365</td>\n",
       "      <td>0.095</td>\n",
       "      <td>0.5140</td>\n",
       "      <td>0.2245</td>\n",
       "      <td>0.1010</td>\n",
       "      <td>0.1500</td>\n",
       "      <td>15</td>\n",
       "      <td>0</td>\n",
       "      <td>1</td>\n",
       "    </tr>\n",
       "    <tr>\n",
       "      <th>1</th>\n",
       "      <td>0.350</td>\n",
       "      <td>0.265</td>\n",
       "      <td>0.090</td>\n",
       "      <td>0.2255</td>\n",
       "      <td>0.0995</td>\n",
       "      <td>0.0485</td>\n",
       "      <td>0.0700</td>\n",
       "      <td>7</td>\n",
       "      <td>0</td>\n",
       "      <td>1</td>\n",
       "    </tr>\n",
       "    <tr>\n",
       "      <th>2</th>\n",
       "      <td>0.530</td>\n",
       "      <td>0.420</td>\n",
       "      <td>0.135</td>\n",
       "      <td>0.6770</td>\n",
       "      <td>0.2565</td>\n",
       "      <td>0.1415</td>\n",
       "      <td>0.2100</td>\n",
       "      <td>9</td>\n",
       "      <td>0</td>\n",
       "      <td>0</td>\n",
       "    </tr>\n",
       "    <tr>\n",
       "      <th>3</th>\n",
       "      <td>0.440</td>\n",
       "      <td>0.365</td>\n",
       "      <td>0.125</td>\n",
       "      <td>0.5160</td>\n",
       "      <td>0.2155</td>\n",
       "      <td>0.1140</td>\n",
       "      <td>0.1550</td>\n",
       "      <td>10</td>\n",
       "      <td>0</td>\n",
       "      <td>1</td>\n",
       "    </tr>\n",
       "    <tr>\n",
       "      <th>4</th>\n",
       "      <td>0.330</td>\n",
       "      <td>0.255</td>\n",
       "      <td>0.080</td>\n",
       "      <td>0.2050</td>\n",
       "      <td>0.0895</td>\n",
       "      <td>0.0395</td>\n",
       "      <td>0.0550</td>\n",
       "      <td>7</td>\n",
       "      <td>1</td>\n",
       "      <td>0</td>\n",
       "    </tr>\n",
       "    <tr>\n",
       "      <th>...</th>\n",
       "      <td>...</td>\n",
       "      <td>...</td>\n",
       "      <td>...</td>\n",
       "      <td>...</td>\n",
       "      <td>...</td>\n",
       "      <td>...</td>\n",
       "      <td>...</td>\n",
       "      <td>...</td>\n",
       "      <td>...</td>\n",
       "      <td>...</td>\n",
       "    </tr>\n",
       "    <tr>\n",
       "      <th>4172</th>\n",
       "      <td>0.565</td>\n",
       "      <td>0.450</td>\n",
       "      <td>0.165</td>\n",
       "      <td>0.8870</td>\n",
       "      <td>0.3700</td>\n",
       "      <td>0.2390</td>\n",
       "      <td>0.2490</td>\n",
       "      <td>11</td>\n",
       "      <td>0</td>\n",
       "      <td>0</td>\n",
       "    </tr>\n",
       "    <tr>\n",
       "      <th>4173</th>\n",
       "      <td>0.590</td>\n",
       "      <td>0.440</td>\n",
       "      <td>0.135</td>\n",
       "      <td>0.9660</td>\n",
       "      <td>0.4390</td>\n",
       "      <td>0.2145</td>\n",
       "      <td>0.2605</td>\n",
       "      <td>10</td>\n",
       "      <td>0</td>\n",
       "      <td>1</td>\n",
       "    </tr>\n",
       "    <tr>\n",
       "      <th>4174</th>\n",
       "      <td>0.600</td>\n",
       "      <td>0.475</td>\n",
       "      <td>0.205</td>\n",
       "      <td>1.1760</td>\n",
       "      <td>0.5255</td>\n",
       "      <td>0.2875</td>\n",
       "      <td>0.3080</td>\n",
       "      <td>9</td>\n",
       "      <td>0</td>\n",
       "      <td>1</td>\n",
       "    </tr>\n",
       "    <tr>\n",
       "      <th>4175</th>\n",
       "      <td>0.625</td>\n",
       "      <td>0.485</td>\n",
       "      <td>0.150</td>\n",
       "      <td>1.0945</td>\n",
       "      <td>0.5310</td>\n",
       "      <td>0.2610</td>\n",
       "      <td>0.2960</td>\n",
       "      <td>10</td>\n",
       "      <td>0</td>\n",
       "      <td>0</td>\n",
       "    </tr>\n",
       "    <tr>\n",
       "      <th>4176</th>\n",
       "      <td>0.710</td>\n",
       "      <td>0.555</td>\n",
       "      <td>0.195</td>\n",
       "      <td>1.9485</td>\n",
       "      <td>0.9455</td>\n",
       "      <td>0.3765</td>\n",
       "      <td>0.4950</td>\n",
       "      <td>12</td>\n",
       "      <td>0</td>\n",
       "      <td>1</td>\n",
       "    </tr>\n",
       "  </tbody>\n",
       "</table>\n",
       "<p>4177 rows × 10 columns</p>\n",
       "</div>"
      ],
      "text/plain": [
       "      Length  Diameter  Height  Whole weight  Shucked weight  Viscera weight  \\\n",
       "0      0.455     0.365   0.095        0.5140          0.2245          0.1010   \n",
       "1      0.350     0.265   0.090        0.2255          0.0995          0.0485   \n",
       "2      0.530     0.420   0.135        0.6770          0.2565          0.1415   \n",
       "3      0.440     0.365   0.125        0.5160          0.2155          0.1140   \n",
       "4      0.330     0.255   0.080        0.2050          0.0895          0.0395   \n",
       "...      ...       ...     ...           ...             ...             ...   \n",
       "4172   0.565     0.450   0.165        0.8870          0.3700          0.2390   \n",
       "4173   0.590     0.440   0.135        0.9660          0.4390          0.2145   \n",
       "4174   0.600     0.475   0.205        1.1760          0.5255          0.2875   \n",
       "4175   0.625     0.485   0.150        1.0945          0.5310          0.2610   \n",
       "4176   0.710     0.555   0.195        1.9485          0.9455          0.3765   \n",
       "\n",
       "      Shell weight  Rings  Sex_I  Sex_M  \n",
       "0           0.1500     15      0      1  \n",
       "1           0.0700      7      0      1  \n",
       "2           0.2100      9      0      0  \n",
       "3           0.1550     10      0      1  \n",
       "4           0.0550      7      1      0  \n",
       "...            ...    ...    ...    ...  \n",
       "4172        0.2490     11      0      0  \n",
       "4173        0.2605     10      0      1  \n",
       "4174        0.3080      9      0      1  \n",
       "4175        0.2960     10      0      0  \n",
       "4176        0.4950     12      0      1  \n",
       "\n",
       "[4177 rows x 10 columns]"
      ]
     },
     "execution_count": 13,
     "metadata": {},
     "output_type": "execute_result"
    }
   ],
   "source": [
    "final_abalone = pd.get_dummies(abalone,drop_first=True)\n",
    "final_abalone"
   ]
  },
  {
   "cell_type": "markdown",
   "metadata": {},
   "source": [
    "## Outliers checking"
   ]
  },
  {
   "cell_type": "code",
   "execution_count": 15,
   "metadata": {},
   "outputs": [
    {
     "data": {
      "image/png": "[encoded data removed]",
      "text/plain": [
       "<Figure size 1440x1800 with 10 Axes>"
      ]
     },
     "metadata": {},
     "output_type": "display_data"
    }
   ],
   "source": [
    "plt.figure(figsize = (20,25), facecolor = 'white')\n",
    "graphplot = 1\n",
    "for column in final_abalone:\n",
    "    if graphplot <= 12:\n",
    "        ax = plt.subplot(3,4,graphplot)\n",
    "        sns.distplot(final_abalone[column])\n",
    "        plt.xlabel(column,fontsize = 15)\n",
    "    graphplot +=1\n",
    "plt.show()"
   ]
  },
  {
   "cell_type": "markdown",
   "metadata": {},
   "source": [
    "## Checking skewness"
   ]
  },
  {
   "cell_type": "code",
   "execution_count": 16,
   "metadata": {},
   "outputs": [
    {
     "data": {
      "text/plain": [
       "Length           -0.639873\n",
       "Diameter         -0.609198\n",
       "Height            3.167124\n",
       "Whole weight      0.530959\n",
       "Shucked weight    0.719098\n",
       "Viscera weight    0.591852\n",
       "Shell weight      0.620927\n",
       "Rings             1.114102\n",
       "dtype: float64"
      ]
     },
     "execution_count": 16,
     "metadata": {},
     "output_type": "execute_result"
    }
   ],
   "source": [
    "abalone.skew()"
   ]
  },
  {
   "cell_type": "markdown",
   "metadata": {},
   "source": [
    "Let's consider the skewness range between -0.5 to +0.5, Now Let's go for outliers removal and fix this range."
   ]
  },
  {
   "cell_type": "markdown",
   "metadata": {},
   "source": [
    "## Removing Outliers"
   ]
  },
  {
   "cell_type": "code",
   "execution_count": 17,
   "metadata": {},
   "outputs": [],
   "source": [
    "features = [\"Length\",\"Diameter\", \"Height\",\"Whole weight\",\"Shucked weight\",\"Viscera weight\",\"Shell weight\",\"Rings\"]\n",
    "\n",
    "\n",
    "# I am not selecting 'Sex' because it is our target column"
   ]
  },
  {
   "cell_type": "code",
   "execution_count": 18,
   "metadata": {},
   "outputs": [],
   "source": [
    "from sklearn.preprocessing import PowerTransformer"
   ]
  },
  {
   "cell_type": "code",
   "execution_count": 19,
   "metadata": {
    "scrolled": true
   },
   "outputs": [
    {
     "data": {
      "text/html": [
       "<div>\n",
       "<style scoped>\n",
       "    .dataframe tbody tr th:only-of-type {\n",
       "        vertical-align: middle;\n",
       "    }\n",
       "\n",
       "    .dataframe tbody tr th {\n",
       "        vertical-align: top;\n",
       "    }\n",
       "\n",
       "    .dataframe thead th {\n",
       "        text-align: right;\n",
       "    }\n",
       "</style>\n",
       "<table border=\"1\" class=\"dataframe\">\n",
       "  <thead>\n",
       "    <tr style=\"text-align: right;\">\n",
       "      <th></th>\n",
       "      <th>Sex</th>\n",
       "      <th>Length</th>\n",
       "      <th>Diameter</th>\n",
       "      <th>Height</th>\n",
       "      <th>Whole weight</th>\n",
       "      <th>Shucked weight</th>\n",
       "      <th>Viscera weight</th>\n",
       "      <th>Shell weight</th>\n",
       "      <th>Rings</th>\n",
       "    </tr>\n",
       "  </thead>\n",
       "  <tbody>\n",
       "    <tr>\n",
       "      <th>0</th>\n",
       "      <td>M</td>\n",
       "      <td>-0.685502</td>\n",
       "      <td>-0.549860</td>\n",
       "      <td>-1.131487</td>\n",
       "      <td>-0.576766</td>\n",
       "      <td>-0.540989</td>\n",
       "      <td>-0.693283</td>\n",
       "      <td>-0.587809</td>\n",
       "      <td>1.482358</td>\n",
       "    </tr>\n",
       "    <tr>\n",
       "      <th>1</th>\n",
       "      <td>M</td>\n",
       "      <td>-1.396344</td>\n",
       "      <td>-1.387333</td>\n",
       "      <td>-1.272338</td>\n",
       "      <td>-1.351761</td>\n",
       "      <td>-1.311662</td>\n",
       "      <td>-1.332953</td>\n",
       "      <td>-1.332420</td>\n",
       "      <td>-0.949135</td>\n",
       "    </tr>\n",
       "    <tr>\n",
       "      <th>2</th>\n",
       "      <td>F</td>\n",
       "      <td>-0.070774</td>\n",
       "      <td>0.008537</td>\n",
       "      <td>-0.065913</td>\n",
       "      <td>-0.198099</td>\n",
       "      <td>-0.366116</td>\n",
       "      <td>-0.255135</td>\n",
       "      <td>-0.098262</td>\n",
       "      <td>-0.176075</td>\n",
       "    </tr>\n",
       "    <tr>\n",
       "      <th>3</th>\n",
       "      <td>M</td>\n",
       "      <td>-0.797286</td>\n",
       "      <td>-0.549860</td>\n",
       "      <td>-0.322497</td>\n",
       "      <td>-0.571893</td>\n",
       "      <td>-0.591672</td>\n",
       "      <td>-0.547782</td>\n",
       "      <td>-0.544931</td>\n",
       "      <td>0.156908</td>\n",
       "    </tr>\n",
       "    <tr>\n",
       "      <th>4</th>\n",
       "      <td>I</td>\n",
       "      <td>-1.513796</td>\n",
       "      <td>-1.459659</td>\n",
       "      <td>-1.559473</td>\n",
       "      <td>-1.413146</td>\n",
       "      <td>-1.380201</td>\n",
       "      <td>-1.451759</td>\n",
       "      <td>-1.485528</td>\n",
       "      <td>-0.949135</td>\n",
       "    </tr>\n",
       "    <tr>\n",
       "      <th>...</th>\n",
       "      <td>...</td>\n",
       "      <td>...</td>\n",
       "      <td>...</td>\n",
       "      <td>...</td>\n",
       "      <td>...</td>\n",
       "      <td>...</td>\n",
       "      <td>...</td>\n",
       "      <td>...</td>\n",
       "      <td>...</td>\n",
       "    </tr>\n",
       "    <tr>\n",
       "      <th>4172</th>\n",
       "      <td>F</td>\n",
       "      <td>0.249836</td>\n",
       "      <td>0.345636</td>\n",
       "      <td>0.667542</td>\n",
       "      <td>0.241948</td>\n",
       "      <td>0.194158</td>\n",
       "      <td>0.639623</td>\n",
       "      <td>0.193008</td>\n",
       "      <td>0.462368</td>\n",
       "    </tr>\n",
       "    <tr>\n",
       "      <th>4173</th>\n",
       "      <td>M</td>\n",
       "      <td>0.492813</td>\n",
       "      <td>0.230611</td>\n",
       "      <td>-0.065913</td>\n",
       "      <td>0.395706</td>\n",
       "      <td>0.495450</td>\n",
       "      <td>0.433568</td>\n",
       "      <td>0.275215</td>\n",
       "      <td>0.156908</td>\n",
       "    </tr>\n",
       "    <tr>\n",
       "      <th>4174</th>\n",
       "      <td>M</td>\n",
       "      <td>0.593366</td>\n",
       "      <td>0.645191</td>\n",
       "      <td>1.567779</td>\n",
       "      <td>0.777944</td>\n",
       "      <td>0.838137</td>\n",
       "      <td>1.015607</td>\n",
       "      <td>0.598398</td>\n",
       "      <td>-0.176075</td>\n",
       "    </tr>\n",
       "    <tr>\n",
       "      <th>4175</th>\n",
       "      <td>F</td>\n",
       "      <td>0.853375</td>\n",
       "      <td>0.769928</td>\n",
       "      <td>0.307435</td>\n",
       "      <td>0.633874</td>\n",
       "      <td>0.858739</td>\n",
       "      <td>0.815184</td>\n",
       "      <td>0.519145</td>\n",
       "      <td>0.156908</td>\n",
       "    </tr>\n",
       "    <tr>\n",
       "      <th>4176</th>\n",
       "      <td>M</td>\n",
       "      <td>1.834478</td>\n",
       "      <td>1.726289</td>\n",
       "      <td>1.350522</td>\n",
       "      <td>1.937323</td>\n",
       "      <td>2.103648</td>\n",
       "      <td>1.611344</td>\n",
       "      <td>1.658488</td>\n",
       "      <td>0.744607</td>\n",
       "    </tr>\n",
       "  </tbody>\n",
       "</table>\n",
       "<p>4177 rows × 9 columns</p>\n",
       "</div>"
      ],
      "text/plain": [
       "     Sex    Length  Diameter    Height  Whole weight  Shucked weight  \\\n",
       "0      M -0.685502 -0.549860 -1.131487     -0.576766       -0.540989   \n",
       "1      M -1.396344 -1.387333 -1.272338     -1.351761       -1.311662   \n",
       "2      F -0.070774  0.008537 -0.065913     -0.198099       -0.366116   \n",
       "3      M -0.797286 -0.549860 -0.322497     -0.571893       -0.591672   \n",
       "4      I -1.513796 -1.459659 -1.559473     -1.413146       -1.380201   \n",
       "...   ..       ...       ...       ...           ...             ...   \n",
       "4172   F  0.249836  0.345636  0.667542      0.241948        0.194158   \n",
       "4173   M  0.492813  0.230611 -0.065913      0.395706        0.495450   \n",
       "4174   M  0.593366  0.645191  1.567779      0.777944        0.838137   \n",
       "4175   F  0.853375  0.769928  0.307435      0.633874        0.858739   \n",
       "4176   M  1.834478  1.726289  1.350522      1.937323        2.103648   \n",
       "\n",
       "      Viscera weight  Shell weight     Rings  \n",
       "0          -0.693283     -0.587809  1.482358  \n",
       "1          -1.332953     -1.332420 -0.949135  \n",
       "2          -0.255135     -0.098262 -0.176075  \n",
       "3          -0.547782     -0.544931  0.156908  \n",
       "4          -1.451759     -1.485528 -0.949135  \n",
       "...              ...           ...       ...  \n",
       "4172        0.639623      0.193008  0.462368  \n",
       "4173        0.433568      0.275215  0.156908  \n",
       "4174        1.015607      0.598398 -0.176075  \n",
       "4175        0.815184      0.519145  0.156908  \n",
       "4176        1.611344      1.658488  0.744607  \n",
       "\n",
       "[4177 rows x 9 columns]"
      ]
     },
     "execution_count": 19,
     "metadata": {},
     "output_type": "execute_result"
    }
   ],
   "source": [
    "pow_tra = PowerTransformer()\n",
    "\n",
    "abalone[features] = pow_tra.fit_transform(abalone[features].values)\n",
    "\n",
    "abalone"
   ]
  },
  {
   "cell_type": "markdown",
   "metadata": {},
   "source": [
    "## Skewness after removing outliers"
   ]
  },
  {
   "cell_type": "code",
   "execution_count": 20,
   "metadata": {},
   "outputs": [
    {
     "data": {
      "text/plain": [
       "Length           -0.066669\n",
       "Diameter         -0.065977\n",
       "Height           -0.113754\n",
       "Whole weight     -0.003980\n",
       "Shucked weight    0.027351\n",
       "Viscera weight    0.039780\n",
       "Shell weight      0.023390\n",
       "Rings             0.004429\n",
       "dtype: float64"
      ]
     },
     "execution_count": 20,
     "metadata": {},
     "output_type": "execute_result"
    }
   ],
   "source": [
    "abalone.skew()"
   ]
  },
  {
   "cell_type": "markdown",
   "metadata": {},
   "source": [
    "Now it seems that selected features are in the skewness range. And due to this all outliers has been removed."
   ]
  },
  {
   "cell_type": "markdown",
   "metadata": {},
   "source": [
    "All the skewness has been gone"
   ]
  },
  {
   "cell_type": "markdown",
   "metadata": {},
   "source": [
    "## Visualize the correlation between feature and target"
   ]
  },
  {
   "cell_type": "code",
   "execution_count": 21,
   "metadata": {},
   "outputs": [
    {
     "data": {
      "text/plain": [
       "Length            0.609411\n",
       "Diameter          0.627972\n",
       "Height            0.669727\n",
       "Whole weight      0.629344\n",
       "Shucked weight    0.536797\n",
       "Viscera weight    0.602611\n",
       "Shell weight      0.693872\n",
       "dtype: float64"
      ]
     },
     "execution_count": 21,
     "metadata": {},
     "output_type": "execute_result"
    }
   ],
   "source": [
    "abalone.drop(\"Rings\",axis= 1).corrwith(abalone[\"Rings\"])"
   ]
  },
  {
   "cell_type": "code",
   "execution_count": 22,
   "metadata": {},
   "outputs": [
    {
     "data": {
      "text/plain": [
       "<AxesSubplot:title={'center':'Correlation Features vs Target'}>"
      ]
     },
     "execution_count": 22,
     "metadata": {},
     "output_type": "execute_result"
    },
    {
     "data": {
      "image/png": "[encoded data removed]",
      "text/plain": [
       "<Figure size 720x504 with 1 Axes>"
      ]
     },
     "metadata": {
      "needs_background": "light"
     },
     "output_type": "display_data"
    }
   ],
   "source": [
    "abalone.drop(\"Rings\",axis=1).corrwith(abalone[\"Rings\"]).plot(kind='bar',grid=True, figsize = (10,7),\n",
    "                                                            rot=60, title=\"Correlation Features vs Target\", fontsize=10)"
   ]
  },
  {
   "cell_type": "markdown",
   "metadata": {},
   "source": [
    "It seems that all the features are highly correlated to the target column 'Rings'"
   ]
  },
  {
   "cell_type": "markdown",
   "metadata": {},
   "source": [
    "## Visualizing the correlation between features (Multicollinearity)"
   ]
  },
  {
   "cell_type": "code",
   "execution_count": 24,
   "metadata": {},
   "outputs": [
    {
     "data": {
      "text/html": [
       "<div>\n",
       "<style scoped>\n",
       "    .dataframe tbody tr th:only-of-type {\n",
       "        vertical-align: middle;\n",
       "    }\n",
       "\n",
       "    .dataframe tbody tr th {\n",
       "        vertical-align: top;\n",
       "    }\n",
       "\n",
       "    .dataframe thead th {\n",
       "        text-align: right;\n",
       "    }\n",
       "</style>\n",
       "<table border=\"1\" class=\"dataframe\">\n",
       "  <thead>\n",
       "    <tr style=\"text-align: right;\">\n",
       "      <th></th>\n",
       "      <th>Length</th>\n",
       "      <th>Diameter</th>\n",
       "      <th>Height</th>\n",
       "      <th>Whole weight</th>\n",
       "      <th>Shucked weight</th>\n",
       "      <th>Viscera weight</th>\n",
       "      <th>Shell weight</th>\n",
       "      <th>Rings</th>\n",
       "    </tr>\n",
       "  </thead>\n",
       "  <tbody>\n",
       "    <tr>\n",
       "      <th>Length</th>\n",
       "      <td>1.000000</td>\n",
       "      <td>0.982954</td>\n",
       "      <td>0.875689</td>\n",
       "      <td>0.972757</td>\n",
       "      <td>0.956482</td>\n",
       "      <td>0.953238</td>\n",
       "      <td>0.946681</td>\n",
       "      <td>0.609411</td>\n",
       "    </tr>\n",
       "    <tr>\n",
       "      <th>Diameter</th>\n",
       "      <td>0.982954</td>\n",
       "      <td>1.000000</td>\n",
       "      <td>0.882403</td>\n",
       "      <td>0.971244</td>\n",
       "      <td>0.949864</td>\n",
       "      <td>0.948235</td>\n",
       "      <td>0.953241</td>\n",
       "      <td>0.627972</td>\n",
       "    </tr>\n",
       "    <tr>\n",
       "      <th>Height</th>\n",
       "      <td>0.875689</td>\n",
       "      <td>0.882403</td>\n",
       "      <td>1.000000</td>\n",
       "      <td>0.895471</td>\n",
       "      <td>0.859406</td>\n",
       "      <td>0.877242</td>\n",
       "      <td>0.898340</td>\n",
       "      <td>0.669727</td>\n",
       "    </tr>\n",
       "    <tr>\n",
       "      <th>Whole weight</th>\n",
       "      <td>0.972757</td>\n",
       "      <td>0.971244</td>\n",
       "      <td>0.895471</td>\n",
       "      <td>1.000000</td>\n",
       "      <td>0.977466</td>\n",
       "      <td>0.974887</td>\n",
       "      <td>0.968830</td>\n",
       "      <td>0.629344</td>\n",
       "    </tr>\n",
       "    <tr>\n",
       "      <th>Shucked weight</th>\n",
       "      <td>0.956482</td>\n",
       "      <td>0.949864</td>\n",
       "      <td>0.859406</td>\n",
       "      <td>0.977466</td>\n",
       "      <td>1.000000</td>\n",
       "      <td>0.948587</td>\n",
       "      <td>0.917084</td>\n",
       "      <td>0.536797</td>\n",
       "    </tr>\n",
       "    <tr>\n",
       "      <th>Viscera weight</th>\n",
       "      <td>0.953238</td>\n",
       "      <td>0.948235</td>\n",
       "      <td>0.877242</td>\n",
       "      <td>0.974887</td>\n",
       "      <td>0.948587</td>\n",
       "      <td>1.000000</td>\n",
       "      <td>0.935002</td>\n",
       "      <td>0.602611</td>\n",
       "    </tr>\n",
       "    <tr>\n",
       "      <th>Shell weight</th>\n",
       "      <td>0.946681</td>\n",
       "      <td>0.953241</td>\n",
       "      <td>0.898340</td>\n",
       "      <td>0.968830</td>\n",
       "      <td>0.917084</td>\n",
       "      <td>0.935002</td>\n",
       "      <td>1.000000</td>\n",
       "      <td>0.693872</td>\n",
       "    </tr>\n",
       "    <tr>\n",
       "      <th>Rings</th>\n",
       "      <td>0.609411</td>\n",
       "      <td>0.627972</td>\n",
       "      <td>0.669727</td>\n",
       "      <td>0.629344</td>\n",
       "      <td>0.536797</td>\n",
       "      <td>0.602611</td>\n",
       "      <td>0.693872</td>\n",
       "      <td>1.000000</td>\n",
       "    </tr>\n",
       "  </tbody>\n",
       "</table>\n",
       "</div>"
      ],
      "text/plain": [
       "                  Length  Diameter    Height  Whole weight  Shucked weight  \\\n",
       "Length          1.000000  0.982954  0.875689      0.972757        0.956482   \n",
       "Diameter        0.982954  1.000000  0.882403      0.971244        0.949864   \n",
       "Height          0.875689  0.882403  1.000000      0.895471        0.859406   \n",
       "Whole weight    0.972757  0.971244  0.895471      1.000000        0.977466   \n",
       "Shucked weight  0.956482  0.949864  0.859406      0.977466        1.000000   \n",
       "Viscera weight  0.953238  0.948235  0.877242      0.974887        0.948587   \n",
       "Shell weight    0.946681  0.953241  0.898340      0.968830        0.917084   \n",
       "Rings           0.609411  0.627972  0.669727      0.629344        0.536797   \n",
       "\n",
       "                Viscera weight  Shell weight     Rings  \n",
       "Length                0.953238      0.946681  0.609411  \n",
       "Diameter              0.948235      0.953241  0.627972  \n",
       "Height                0.877242      0.898340  0.669727  \n",
       "Whole weight          0.974887      0.968830  0.629344  \n",
       "Shucked weight        0.948587      0.917084  0.536797  \n",
       "Viscera weight        1.000000      0.935002  0.602611  \n",
       "Shell weight          0.935002      1.000000  0.693872  \n",
       "Rings                 0.602611      0.693872  1.000000  "
      ]
     },
     "execution_count": 24,
     "metadata": {},
     "output_type": "execute_result"
    }
   ],
   "source": [
    "cor = abalone.corr()\n",
    "cor"
   ]
  },
  {
   "cell_type": "code",
   "execution_count": 36,
   "metadata": {
    "scrolled": true
   },
   "outputs": [
    {
     "data": {
      "image/png": "[encoded data removed]",
      "text/plain": [
       "<Figure size 864x864 with 2 Axes>"
      ]
     },
     "metadata": {
      "needs_background": "light"
     },
     "output_type": "display_data"
    }
   ],
   "source": [
    "plt.figure(figsize = (12,12))\n",
    "sns.heatmap(cor, cbar=True, square = True, cbar_kws = {\"shrink\": .82},\n",
    "            annot=True, annot_kws={\"size\":10,},fmt=\".2f\",linewidths = .2, cmap='Blues')\n",
    "plt.xlabel(\"Visualizing the correlation between features\", fontsize = 20)\n",
    "plt.show()"
   ]
  },
  {
   "cell_type": "markdown",
   "metadata": {},
   "source": [
    "## Before proceeding to the model let's divide the dataset into input & output"
   ]
  },
  {
   "cell_type": "code",
   "execution_count": 32,
   "metadata": {},
   "outputs": [],
   "source": [
    "x = final_abalone.drop(\"Rings\",axis=1)\n",
    "y = final_abalone[\"Rings\"]"
   ]
  },
  {
   "cell_type": "code",
   "execution_count": 41,
   "metadata": {},
   "outputs": [],
   "source": [
    "# Let's import some necessary libraries\n",
    "\n",
    "from sklearn.preprocessing import StandardScaler\n",
    "from sklearn.model_selection import train_test_split\n",
    "from sklearn.metrics import r2_score, mean_squared_error, mean_absolute_error"
   ]
  },
  {
   "cell_type": "code",
   "execution_count": 44,
   "metadata": {},
   "outputs": [
    {
     "data": {
      "text/plain": [
       "array([[-0.57455813, -0.43214879, -1.06887437, ..., -0.63821689,\n",
       "        -0.68801788,  1.31667716],\n",
       "       [-1.44898585, -1.439929  , -1.18874848, ..., -1.21298732,\n",
       "        -0.68801788,  1.31667716],\n",
       "       [ 0.05003309,  0.12213032, -0.10988145, ..., -0.20713907,\n",
       "        -0.68801788, -0.75948762],\n",
       "       ...,\n",
       "       [ 0.6329849 ,  0.67640943,  1.56835616, ...,  0.49695471,\n",
       "        -0.68801788,  1.31667716],\n",
       "       [ 0.84118198,  0.77718745,  0.2497409 , ...,  0.41073914,\n",
       "        -0.68801788, -0.75948762],\n",
       "       [ 1.54905203,  1.48263359,  1.32860793, ...,  1.84048058,\n",
       "        -0.68801788,  1.31667716]])"
      ]
     },
     "execution_count": 44,
     "metadata": {},
     "output_type": "execute_result"
    }
   ],
   "source": [
    "# Let's do scaling before proceed to the model building\n",
    "\n",
    "scaler = StandardScaler()\n",
    "x_scaled = scaler.fit_transform(x)\n",
    "x_scaled"
   ]
  },
  {
   "cell_type": "markdown",
   "metadata": {},
   "source": [
    "### Let's find best random state"
   ]
  },
  {
   "cell_type": "code",
   "execution_count": 105,
   "metadata": {},
   "outputs": [],
   "source": [
    "def model(model,x_scaled,y):\n",
    "    max_r2_score = 0\n",
    "    max_r_state = 0\n",
    "    for i in range(20,101):\n",
    "        x_train, x_test, y_train, y_test = train_test_split(x_scaled, y, test_size = 0.25, random_state = i)\n",
    "        model.fit(x_train, y_train)\n",
    "        y_pred = model.predict(x_test)\n",
    "        r_scor = r2_score(y_test, y_pred)\n",
    "        print(\"R_2 Score corresponding to \",i,\"is\",r_scor)\n",
    "        if r_scor > max_r2_score:\n",
    "            max_r2_score = r_scor\n",
    "            max_r_state = i\n",
    "    print(\"\\n\",\"=\"*70,\"\\nMaximum R_2 Score corresponding to \",max_r_state,\"  is  \",max_r2_score,sep=\"\")"
   ]
  },
  {
   "cell_type": "markdown",
   "metadata": {},
   "source": [
    "## Model Building Start -->"
   ]
  },
  {
   "cell_type": "code",
   "execution_count": 106,
   "metadata": {},
   "outputs": [
    {
     "name": "stdout",
     "output_type": "stream",
     "text": [
      "R_2 Score corresponding to  20 is 0.3365991588264935\n",
      "R_2 Score corresponding to  21 is 0.29692061321332397\n",
      "R_2 Score corresponding to  22 is 0.17836931711781912\n",
      "R_2 Score corresponding to  23 is 0.23365061390267539\n",
      "R_2 Score corresponding to  24 is 0.33880504768719355\n",
      "R_2 Score corresponding to  25 is 0.16793745113361702\n",
      "R_2 Score corresponding to  26 is 0.36021416796816286\n",
      "R_2 Score corresponding to  27 is 0.30269055514775545\n",
      "R_2 Score corresponding to  28 is 0.2973178904236605\n",
      "R_2 Score corresponding to  29 is 0.31122962862133785\n",
      "R_2 Score corresponding to  30 is 0.3421299110815561\n",
      "R_2 Score corresponding to  31 is 0.38601186543758326\n",
      "R_2 Score corresponding to  32 is 0.3318346961585871\n",
      "R_2 Score corresponding to  33 is 0.37396171842467196\n",
      "R_2 Score corresponding to  34 is 0.32959992337626964\n",
      "R_2 Score corresponding to  35 is 0.2609145855357201\n",
      "R_2 Score corresponding to  36 is 0.33005486058470634\n",
      "R_2 Score corresponding to  37 is 0.31972572222457873\n",
      "R_2 Score corresponding to  38 is 0.28381473833710813\n",
      "R_2 Score corresponding to  39 is 0.1757517985840027\n",
      "R_2 Score corresponding to  40 is 0.2995186223569254\n",
      "R_2 Score corresponding to  41 is 0.3104660936952994\n",
      "R_2 Score corresponding to  42 is 0.28724615798448094\n",
      "R_2 Score corresponding to  43 is 0.2800077658469894\n",
      "R_2 Score corresponding to  44 is 0.308285650171397\n",
      "R_2 Score corresponding to  45 is 0.20819926287623758\n",
      "R_2 Score corresponding to  46 is 0.28205193039159593\n",
      "R_2 Score corresponding to  47 is 0.2773250593032376\n",
      "R_2 Score corresponding to  48 is 0.30333727906963504\n",
      "R_2 Score corresponding to  49 is 0.3126578622619586\n",
      "R_2 Score corresponding to  50 is 0.3376142526857756\n",
      "R_2 Score corresponding to  51 is 0.2544386363290856\n",
      "R_2 Score corresponding to  52 is 0.31295885538348245\n",
      "R_2 Score corresponding to  53 is 0.3298545893964835\n",
      "R_2 Score corresponding to  54 is 0.22746658966512412\n",
      "R_2 Score corresponding to  55 is 0.23776404720393807\n",
      "R_2 Score corresponding to  56 is 0.25636047316624155\n",
      "R_2 Score corresponding to  57 is 0.33626557496319975\n",
      "R_2 Score corresponding to  58 is 0.2897719998436674\n",
      "R_2 Score corresponding to  59 is 0.2699444734506704\n",
      "R_2 Score corresponding to  60 is 0.2206515001375925\n",
      "R_2 Score corresponding to  61 is 0.28752707967905944\n",
      "R_2 Score corresponding to  62 is 0.30725425076258206\n",
      "R_2 Score corresponding to  63 is 0.4050559559914395\n",
      "R_2 Score corresponding to  64 is 0.33240285903168665\n",
      "R_2 Score corresponding to  65 is 0.2785372476025162\n",
      "R_2 Score corresponding to  66 is 0.3274383051841625\n",
      "R_2 Score corresponding to  67 is 0.2716258310423052\n",
      "R_2 Score corresponding to  68 is 0.29216313623304135\n",
      "R_2 Score corresponding to  69 is 0.3019001590152087\n",
      "R_2 Score corresponding to  70 is 0.2891786547147698\n",
      "R_2 Score corresponding to  71 is 0.27969328097095336\n",
      "R_2 Score corresponding to  72 is 0.29929584773495\n",
      "R_2 Score corresponding to  73 is 0.24498074115185664\n",
      "R_2 Score corresponding to  74 is 0.2709693049825077\n",
      "R_2 Score corresponding to  75 is 0.24081525189493558\n",
      "R_2 Score corresponding to  76 is 0.2836798722102072\n",
      "R_2 Score corresponding to  77 is 0.34632451465659475\n",
      "R_2 Score corresponding to  78 is 0.27677227232610047\n",
      "R_2 Score corresponding to  79 is 0.24651828613436144\n",
      "R_2 Score corresponding to  80 is 0.30408242326556045\n",
      "R_2 Score corresponding to  81 is 0.33873403929089774\n",
      "R_2 Score corresponding to  82 is 0.21737157746638258\n",
      "R_2 Score corresponding to  83 is 0.27521504181173295\n",
      "R_2 Score corresponding to  84 is 0.2804266616915221\n",
      "R_2 Score corresponding to  85 is 0.32053931246878187\n",
      "R_2 Score corresponding to  86 is 0.3331724864260478\n",
      "R_2 Score corresponding to  87 is 0.27833821712461293\n",
      "R_2 Score corresponding to  88 is 0.3263652962296524\n",
      "R_2 Score corresponding to  89 is 0.315788850405631\n",
      "R_2 Score corresponding to  90 is 0.2885621311395997\n",
      "R_2 Score corresponding to  91 is 0.2886840810153771\n",
      "R_2 Score corresponding to  92 is 0.2673980653763559\n",
      "R_2 Score corresponding to  93 is 0.2994734427931993\n",
      "R_2 Score corresponding to  94 is 0.2626067872199117\n",
      "R_2 Score corresponding to  95 is 0.287696249155065\n",
      "R_2 Score corresponding to  96 is 0.22804532192366245\n",
      "R_2 Score corresponding to  97 is 0.21940477755785193\n",
      "R_2 Score corresponding to  98 is 0.2977147957696673\n",
      "R_2 Score corresponding to  99 is 0.2758887885632183\n",
      "R_2 Score corresponding to  100 is 0.3108606225818097\n",
      "\n",
      "======================================================================\n",
      "Maximum R_2 Score corresponding to 63  is  0.4050559559914395\n"
     ]
    }
   ],
   "source": [
    "# Let's use Decision Tree Regressor\n",
    "\n",
    "from sklearn.tree import DecisionTreeRegressor\n",
    "\n",
    "DTR = DecisionTreeRegressor()\n",
    "\n",
    "model(DTR,x_scaled, np.log1p(y))"
   ]
  },
  {
   "cell_type": "markdown",
   "metadata": {},
   "source": [
    "#### Decision Tree Regressor is not performing well, Let's check with another regressor"
   ]
  },
  {
   "cell_type": "code",
   "execution_count": 107,
   "metadata": {
    "scrolled": true
   },
   "outputs": [
    {
     "name": "stdout",
     "output_type": "stream",
     "text": [
      "R_2 Score corresponding to  20 is 0.5731885515121353\n",
      "R_2 Score corresponding to  21 is 0.5995533670820288\n",
      "R_2 Score corresponding to  22 is 0.5234539614309259\n",
      "R_2 Score corresponding to  23 is 0.5457925095700351\n",
      "R_2 Score corresponding to  24 is 0.586796322330476\n",
      "R_2 Score corresponding to  25 is 0.48105982619109955\n",
      "R_2 Score corresponding to  26 is 0.6206986041343152\n",
      "R_2 Score corresponding to  27 is 0.5532881505905385\n",
      "R_2 Score corresponding to  28 is 0.6119293216560242\n",
      "R_2 Score corresponding to  29 is 0.6075034853301071\n",
      "R_2 Score corresponding to  30 is 0.6470203210215197\n",
      "R_2 Score corresponding to  31 is 0.5957338665781629\n",
      "R_2 Score corresponding to  32 is 0.5913861057944197\n",
      "R_2 Score corresponding to  33 is 0.6100073986159311\n",
      "R_2 Score corresponding to  34 is 0.5681930000817055\n",
      "R_2 Score corresponding to  35 is 0.5483793910928493\n",
      "R_2 Score corresponding to  36 is 0.6026095903401094\n",
      "R_2 Score corresponding to  37 is 0.6099798068857067\n",
      "R_2 Score corresponding to  38 is 0.6110606182349627\n",
      "R_2 Score corresponding to  39 is 0.5334062869680806\n",
      "R_2 Score corresponding to  40 is 0.5744100004149267\n",
      "R_2 Score corresponding to  41 is 0.5322176444683955\n",
      "R_2 Score corresponding to  42 is 0.6146499065250601\n",
      "R_2 Score corresponding to  43 is 0.6004947701667118\n",
      "R_2 Score corresponding to  44 is 0.6027011723049942\n",
      "R_2 Score corresponding to  45 is 0.5653445255655144\n",
      "R_2 Score corresponding to  46 is 0.5851180482059268\n",
      "R_2 Score corresponding to  47 is 0.5189190772605798\n",
      "R_2 Score corresponding to  48 is 0.6085148683226786\n",
      "R_2 Score corresponding to  49 is 0.6044849438164642\n",
      "R_2 Score corresponding to  50 is 0.5693810466015907\n",
      "R_2 Score corresponding to  51 is 0.5474609237023652\n",
      "R_2 Score corresponding to  52 is 0.6016593141311113\n",
      "R_2 Score corresponding to  53 is 0.6065354202061448\n",
      "R_2 Score corresponding to  54 is 0.5642027481467141\n",
      "R_2 Score corresponding to  55 is 0.5980141604500853\n",
      "R_2 Score corresponding to  56 is 0.5319033401537885\n",
      "R_2 Score corresponding to  57 is 0.5586868236976787\n",
      "R_2 Score corresponding to  58 is 0.5912960631755948\n",
      "R_2 Score corresponding to  59 is 0.5895550805686329\n",
      "R_2 Score corresponding to  60 is 0.5837123821778631\n",
      "R_2 Score corresponding to  61 is 0.5513630607622366\n",
      "R_2 Score corresponding to  62 is 0.6016100584250113\n",
      "R_2 Score corresponding to  63 is 0.5500398732649024\n",
      "R_2 Score corresponding to  64 is 0.6080510085923507\n",
      "R_2 Score corresponding to  65 is 0.5206770547527835\n",
      "R_2 Score corresponding to  66 is 0.5233311805654777\n",
      "R_2 Score corresponding to  67 is 0.5917778649609694\n",
      "R_2 Score corresponding to  68 is 0.585994093174799\n",
      "R_2 Score corresponding to  69 is 0.6008589775402352\n",
      "R_2 Score corresponding to  70 is 0.5571442782939977\n",
      "R_2 Score corresponding to  71 is 0.5886543824481274\n",
      "R_2 Score corresponding to  72 is 0.5900799259923157\n",
      "R_2 Score corresponding to  73 is 0.5584524700650911\n",
      "R_2 Score corresponding to  74 is 0.5811822476592017\n",
      "R_2 Score corresponding to  75 is 0.5662683639104076\n",
      "R_2 Score corresponding to  76 is 0.608663609904776\n",
      "R_2 Score corresponding to  77 is 0.6089360536812642\n",
      "R_2 Score corresponding to  78 is 0.5727218529297847\n",
      "R_2 Score corresponding to  79 is 0.5844118637016305\n",
      "R_2 Score corresponding to  80 is 0.5807054326523179\n",
      "R_2 Score corresponding to  81 is 0.6123582639115358\n",
      "R_2 Score corresponding to  82 is 0.5984211261395282\n",
      "R_2 Score corresponding to  83 is 0.5959997279253476\n",
      "R_2 Score corresponding to  84 is 0.5817869092041725\n",
      "R_2 Score corresponding to  85 is 0.5862676822851678\n",
      "R_2 Score corresponding to  86 is 0.5537634329769534\n",
      "R_2 Score corresponding to  87 is 0.5806245653617172\n",
      "R_2 Score corresponding to  88 is 0.6136008645582913\n",
      "R_2 Score corresponding to  89 is 0.6163624202530752\n",
      "R_2 Score corresponding to  90 is 0.5868909200264933\n",
      "R_2 Score corresponding to  91 is 0.5895557393638146\n",
      "R_2 Score corresponding to  92 is 0.5257722636059227\n",
      "R_2 Score corresponding to  93 is 0.6082538019288866\n",
      "R_2 Score corresponding to  94 is 0.603009141907699\n",
      "R_2 Score corresponding to  95 is 0.6048887753759746\n",
      "R_2 Score corresponding to  96 is 0.5874561187250247\n",
      "R_2 Score corresponding to  97 is 0.5850405158685767\n",
      "R_2 Score corresponding to  98 is 0.5595304319918004\n",
      "R_2 Score corresponding to  99 is 0.5275741315420454\n",
      "R_2 Score corresponding to  100 is 0.6016163022559797\n",
      "\n",
      "======================================================================\n",
      "Maximum R_2 Score corresponding to 30  is  0.6470203210215197\n"
     ]
    }
   ],
   "source": [
    "# Let's use Linear Regression\n",
    "\n",
    "from sklearn.linear_model import LinearRegression\n",
    "\n",
    "LR = LinearRegression()\n",
    "\n",
    "model(LR,x_scaled,np.log1p(y))"
   ]
  },
  {
   "cell_type": "markdown",
   "metadata": {},
   "source": [
    "#### Linear Regression performing better than Decision Tree Regression, Let's check if any model will perform better than this Linear Regression"
   ]
  },
  {
   "cell_type": "code",
   "execution_count": 108,
   "metadata": {
    "scrolled": true
   },
   "outputs": [
    {
     "name": "stdout",
     "output_type": "stream",
     "text": [
      "R_2 Score corresponding to  20 is 0.5699569596084735\n",
      "R_2 Score corresponding to  21 is 0.5889713181768217\n",
      "R_2 Score corresponding to  22 is 0.5523199309977689\n",
      "R_2 Score corresponding to  23 is 0.5747666314558082\n",
      "R_2 Score corresponding to  24 is 0.6185442036550383\n",
      "R_2 Score corresponding to  25 is 0.5335609531958154\n",
      "R_2 Score corresponding to  26 is 0.5959105799156842\n",
      "R_2 Score corresponding to  27 is 0.5889791752150848\n",
      "R_2 Score corresponding to  28 is 0.5961483912741952\n",
      "R_2 Score corresponding to  29 is 0.5881349702331605\n",
      "R_2 Score corresponding to  30 is 0.6296981051252353\n",
      "R_2 Score corresponding to  31 is 0.611936232163509\n",
      "R_2 Score corresponding to  32 is 0.5869228446065362\n",
      "R_2 Score corresponding to  33 is 0.5880326903922927\n",
      "R_2 Score corresponding to  34 is 0.5753839930055114\n",
      "R_2 Score corresponding to  35 is 0.5878935235210356\n",
      "R_2 Score corresponding to  36 is 0.5827655103869823\n",
      "R_2 Score corresponding to  37 is 0.5939236810435682\n",
      "R_2 Score corresponding to  38 is 0.6246787537593474\n",
      "R_2 Score corresponding to  39 is 0.5681117132928677\n",
      "R_2 Score corresponding to  40 is 0.5591139188743459\n",
      "R_2 Score corresponding to  41 is 0.5721455990380435\n",
      "R_2 Score corresponding to  42 is 0.6177182657989284\n",
      "R_2 Score corresponding to  43 is 0.5815341668273659\n",
      "R_2 Score corresponding to  44 is 0.5876184300219731\n",
      "R_2 Score corresponding to  45 is 0.5656902717137208\n",
      "R_2 Score corresponding to  46 is 0.5738784943145122\n",
      "R_2 Score corresponding to  47 is 0.5325604878800215\n",
      "R_2 Score corresponding to  48 is 0.6098372171069844\n",
      "R_2 Score corresponding to  49 is 0.615643439498933\n",
      "R_2 Score corresponding to  50 is 0.586442714042881\n",
      "R_2 Score corresponding to  51 is 0.585861187616306\n",
      "R_2 Score corresponding to  52 is 0.6005040906541308\n",
      "R_2 Score corresponding to  53 is 0.5972260326715709\n",
      "R_2 Score corresponding to  54 is 0.5478985936712091\n",
      "R_2 Score corresponding to  55 is 0.5502196704521012\n",
      "R_2 Score corresponding to  56 is 0.587456760924684\n",
      "R_2 Score corresponding to  57 is 0.6003024332168023\n",
      "R_2 Score corresponding to  58 is 0.6067408826546208\n",
      "R_2 Score corresponding to  59 is 0.5775994000377803\n",
      "R_2 Score corresponding to  60 is 0.5861823952911249\n",
      "R_2 Score corresponding to  61 is 0.5709150729101786\n",
      "R_2 Score corresponding to  62 is 0.614719571580709\n",
      "R_2 Score corresponding to  63 is 0.6030554240249064\n",
      "R_2 Score corresponding to  64 is 0.5817762298369394\n",
      "R_2 Score corresponding to  65 is 0.5607322666217472\n",
      "R_2 Score corresponding to  66 is 0.5851858466830491\n",
      "R_2 Score corresponding to  67 is 0.5935550284484279\n",
      "R_2 Score corresponding to  68 is 0.5377677199942679\n",
      "R_2 Score corresponding to  69 is 0.5802476454963705\n",
      "R_2 Score corresponding to  70 is 0.5759838864908096\n",
      "R_2 Score corresponding to  71 is 0.5506567583697225\n",
      "R_2 Score corresponding to  72 is 0.5876711494455712\n",
      "R_2 Score corresponding to  73 is 0.5549932918993044\n",
      "R_2 Score corresponding to  74 is 0.5635200841430754\n",
      "R_2 Score corresponding to  75 is 0.5577575978251257\n",
      "R_2 Score corresponding to  76 is 0.5821767511564566\n",
      "R_2 Score corresponding to  77 is 0.6344219115413579\n",
      "R_2 Score corresponding to  78 is 0.5815619782852661\n",
      "R_2 Score corresponding to  79 is 0.5829494834022841\n",
      "R_2 Score corresponding to  80 is 0.5763165259280192\n",
      "R_2 Score corresponding to  81 is 0.5934598646126119\n",
      "R_2 Score corresponding to  82 is 0.5859193993898155\n",
      "R_2 Score corresponding to  83 is 0.586730273096328\n",
      "R_2 Score corresponding to  84 is 0.5639334994051131\n",
      "R_2 Score corresponding to  85 is 0.5825207140992757\n",
      "R_2 Score corresponding to  86 is 0.5664530897209101\n",
      "R_2 Score corresponding to  87 is 0.5669191784358945\n",
      "R_2 Score corresponding to  88 is 0.6155225963581271\n",
      "R_2 Score corresponding to  89 is 0.5826923004364298\n",
      "R_2 Score corresponding to  90 is 0.566965000232401\n",
      "R_2 Score corresponding to  91 is 0.5921040899141267\n",
      "R_2 Score corresponding to  92 is 0.5496619213257836\n",
      "R_2 Score corresponding to  93 is 0.5908641816288028\n",
      "R_2 Score corresponding to  94 is 0.604825043121346\n",
      "R_2 Score corresponding to  95 is 0.5865364964718511\n",
      "R_2 Score corresponding to  96 is 0.5665794187682954\n",
      "R_2 Score corresponding to  97 is 0.5862510545044775\n",
      "R_2 Score corresponding to  98 is 0.5671238784697593\n",
      "R_2 Score corresponding to  99 is 0.5776561557298523\n",
      "R_2 Score corresponding to  100 is 0.5953736563727376\n",
      "\n",
      "======================================================================\n",
      "Maximum R_2 Score corresponding to 77  is  0.6344219115413579\n"
     ]
    }
   ],
   "source": [
    "# let's use K-Neighbors Regression\n",
    "\n",
    "from sklearn.neighbors import KNeighborsRegressor\n",
    "\n",
    "KNN = KNeighborsRegressor()\n",
    "\n",
    "model(KNN,x_scaled, np.log1p(y))"
   ]
  },
  {
   "cell_type": "markdown",
   "metadata": {},
   "source": [
    "#### K-Neighbors Regression is performing well but not better than Linear Regression, Let's check Random Forest Now..."
   ]
  },
  {
   "cell_type": "code",
   "execution_count": 109,
   "metadata": {},
   "outputs": [
    {
     "name": "stdout",
     "output_type": "stream",
     "text": [
      "R_2 Score corresponding to  20 is 0.6241465104823972\n",
      "R_2 Score corresponding to  21 is 0.6225783149508893\n",
      "R_2 Score corresponding to  22 is 0.597293023697786\n",
      "R_2 Score corresponding to  23 is 0.6223461531025148\n",
      "R_2 Score corresponding to  24 is 0.6238899000964533\n",
      "R_2 Score corresponding to  25 is 0.5874110873522015\n",
      "R_2 Score corresponding to  26 is 0.641629965285728\n",
      "R_2 Score corresponding to  27 is 0.6345833602123062\n",
      "R_2 Score corresponding to  28 is 0.6475745950164082\n",
      "R_2 Score corresponding to  29 is 0.6336690951987638\n",
      "R_2 Score corresponding to  30 is 0.660698260288088\n",
      "R_2 Score corresponding to  31 is 0.6460131160637421\n",
      "R_2 Score corresponding to  32 is 0.6113644667858921\n",
      "R_2 Score corresponding to  33 is 0.6311411027787208\n",
      "R_2 Score corresponding to  34 is 0.6208525211160741\n",
      "R_2 Score corresponding to  35 is 0.6184749438610435\n",
      "R_2 Score corresponding to  36 is 0.6246812575793985\n",
      "R_2 Score corresponding to  37 is 0.6429316532444588\n",
      "R_2 Score corresponding to  38 is 0.6525465914706123\n",
      "R_2 Score corresponding to  39 is 0.6115375065845335\n",
      "R_2 Score corresponding to  40 is 0.5949303824820655\n",
      "R_2 Score corresponding to  41 is 0.6129719698870157\n",
      "R_2 Score corresponding to  42 is 0.6335730994813465\n",
      "R_2 Score corresponding to  43 is 0.6258782968806871\n",
      "R_2 Score corresponding to  44 is 0.6414611694053521\n",
      "R_2 Score corresponding to  45 is 0.5860655754707031\n",
      "R_2 Score corresponding to  46 is 0.6200245181347762\n",
      "R_2 Score corresponding to  47 is 0.5878711007128173\n",
      "R_2 Score corresponding to  48 is 0.6446095663304441\n",
      "R_2 Score corresponding to  49 is 0.6417768355782013\n",
      "R_2 Score corresponding to  50 is 0.6314624271697772\n",
      "R_2 Score corresponding to  51 is 0.6329092420060087\n",
      "R_2 Score corresponding to  52 is 0.6424675499443091\n",
      "R_2 Score corresponding to  53 is 0.6351030151469998\n",
      "R_2 Score corresponding to  54 is 0.5944907919203111\n",
      "R_2 Score corresponding to  55 is 0.6227599970407326\n",
      "R_2 Score corresponding to  56 is 0.6198382549631916\n",
      "R_2 Score corresponding to  57 is 0.6344861311679246\n",
      "R_2 Score corresponding to  58 is 0.6398548370526742\n",
      "R_2 Score corresponding to  59 is 0.6230460138549564\n",
      "R_2 Score corresponding to  60 is 0.6215641742329211\n",
      "R_2 Score corresponding to  61 is 0.6246798966298244\n",
      "R_2 Score corresponding to  62 is 0.6227882631355276\n",
      "R_2 Score corresponding to  63 is 0.6471796353151658\n",
      "R_2 Score corresponding to  64 is 0.6311438555908365\n",
      "R_2 Score corresponding to  65 is 0.6221615757034622\n",
      "R_2 Score corresponding to  66 is 0.646027075285198\n",
      "R_2 Score corresponding to  67 is 0.6331567053864633\n",
      "R_2 Score corresponding to  68 is 0.6115494453155956\n",
      "R_2 Score corresponding to  69 is 0.6341117792700037\n",
      "R_2 Score corresponding to  70 is 0.6260910017550516\n",
      "R_2 Score corresponding to  71 is 0.602168966198658\n",
      "R_2 Score corresponding to  72 is 0.6317262482589434\n",
      "R_2 Score corresponding to  73 is 0.5985319284463755\n",
      "R_2 Score corresponding to  74 is 0.6110948945731319\n",
      "R_2 Score corresponding to  75 is 0.5960912936087844\n",
      "R_2 Score corresponding to  76 is 0.612555420308311\n",
      "R_2 Score corresponding to  77 is 0.6487257454280255\n",
      "R_2 Score corresponding to  78 is 0.6115796264121656\n",
      "R_2 Score corresponding to  79 is 0.6307474240317033\n",
      "R_2 Score corresponding to  80 is 0.6193794741305053\n",
      "R_2 Score corresponding to  81 is 0.643712678476372\n",
      "R_2 Score corresponding to  82 is 0.643479573103538\n",
      "R_2 Score corresponding to  83 is 0.6221495383812993\n",
      "R_2 Score corresponding to  84 is 0.6096153657073167\n",
      "R_2 Score corresponding to  85 is 0.6350465466766613\n",
      "R_2 Score corresponding to  86 is 0.6147035472573155\n",
      "R_2 Score corresponding to  87 is 0.6098996512958459\n",
      "R_2 Score corresponding to  88 is 0.642803905568567\n",
      "R_2 Score corresponding to  89 is 0.6238660501653597\n",
      "R_2 Score corresponding to  90 is 0.6177272972123105\n",
      "R_2 Score corresponding to  91 is 0.6373609438149885\n",
      "R_2 Score corresponding to  92 is 0.5996589068778905\n",
      "R_2 Score corresponding to  93 is 0.6404079677338184\n",
      "R_2 Score corresponding to  94 is 0.6327602357622795\n",
      "R_2 Score corresponding to  95 is 0.6246289353202878\n",
      "R_2 Score corresponding to  96 is 0.6151418797704209\n",
      "R_2 Score corresponding to  97 is 0.6267821613497815\n",
      "R_2 Score corresponding to  98 is 0.6048189175982936\n",
      "R_2 Score corresponding to  99 is 0.6267922600534084\n",
      "R_2 Score corresponding to  100 is 0.6478046806207216\n",
      "\n",
      "======================================================================\n",
      "Maximum R_2 Score corresponding to 30  is  0.660698260288088\n"
     ]
    }
   ],
   "source": [
    "# Let's use Random Forest Regressor\n",
    "\n",
    "from sklearn.ensemble import RandomForestRegressor\n",
    "\n",
    "RFR = RandomForestRegressor()\n",
    "\n",
    "model(RFR,x_scaled,np.log1p(y))"
   ]
  },
  {
   "cell_type": "markdown",
   "metadata": {},
   "source": [
    "#### Random Forest Regression is looking better than about 3 Models. So, let's use cross_val_score for better score."
   ]
  },
  {
   "cell_type": "markdown",
   "metadata": {},
   "source": [
    "## Cross Validation Scores"
   ]
  },
  {
   "cell_type": "code",
   "execution_count": 110,
   "metadata": {},
   "outputs": [],
   "source": [
    "from sklearn.model_selection import cross_val_score"
   ]
  },
  {
   "cell_type": "code",
   "execution_count": 116,
   "metadata": {},
   "outputs": [
    {
     "name": "stdout",
     "output_type": "stream",
     "text": [
      "Random Forest Regressor :  0.5635847712319636\n",
      "K-Neighhors Regressor   :  0.5264061858864665\n",
      "Decision Tree Regressor : 0.16356120875079638\n",
      "Linear Regression       :  0.5142808260926659\n"
     ]
    }
   ],
   "source": [
    "print(\"Random Forest Regressor : \",cross_val_score(RFR,x_scaled,np.log1p(y),cv=5,scoring='r2').mean())\n",
    "print(\"K-Neighhors Regressor   : \",cross_val_score(KNN,x_scaled,np.log1p(y),cv=5,scoring='r2').mean())\n",
    "print(\"Decision Tree Regressor :\",cross_val_score(DTR,x_scaled,np.log1p(y),cv=5,scoring='r2').mean())\n",
    "print(\"Linear Regression       : \",cross_val_score(LR,x_scaled,np.log1p(y),cv=5,scoring='r2').mean())"
   ]
  },
  {
   "cell_type": "markdown",
   "metadata": {},
   "source": [
    "## Difference after cross_val_score"
   ]
  },
  {
   "cell_type": "markdown",
   "metadata": {},
   "source": [
    "#### Random Forest Regression = 0.6606 - 0.5635 = 0.0971\n",
    "#### K-Neighbors Regression      = 0.6344 - 0.5264 = 0.1080\n",
    "#### Decision Tree Regression    = 0.4050 - 0.1635 = 0.2415\n",
    "#### Linear Regression                 = 0.6470 - 0.5142 = 0.1328\n",
    "\n",
    "#### Now it is clear that Random Forest Regressor having very less difference after cross_val_score. So let's final it & start the hyperparameter tuning with Random Forest Regressor"
   ]
  },
  {
   "cell_type": "markdown",
   "metadata": {},
   "source": [
    "## Hyper Parameter Tuning with Random Forest Regression"
   ]
  },
  {
   "cell_type": "code",
   "execution_count": 117,
   "metadata": {},
   "outputs": [],
   "source": [
    "from sklearn.model_selection import GridSearchCV"
   ]
  },
  {
   "cell_type": "code",
   "execution_count": 128,
   "metadata": {},
   "outputs": [],
   "source": [
    "param_grid = {\"n_estimators\" : [5,6,7],\n",
    "             \"criterion\" : ['mse','mae'],\n",
    "             \"max_depth\" : [17,19],\n",
    "             \"min_samples_split\" : [2,3],\n",
    "             \"min_samples_leaf\" : [7,9]}"
   ]
  },
  {
   "cell_type": "code",
   "execution_count": 129,
   "metadata": {
    "scrolled": true
   },
   "outputs": [
    {
     "data": {
      "text/plain": [
       "{'criterion': 'mae',\n",
       " 'max_depth': 19,\n",
       " 'min_samples_leaf': 7,\n",
       " 'min_samples_split': 2,\n",
       " 'n_estimators': 7}"
      ]
     },
     "execution_count": 129,
     "metadata": {},
     "output_type": "execute_result"
    }
   ],
   "source": [
    "grid_search = GridSearchCV(RFR,param_grid=param_grid)\n",
    "grid_search.fit(x_scaled, np.log1p(y))\n",
    "grid_search.best_params_"
   ]
  },
  {
   "cell_type": "markdown",
   "metadata": {},
   "source": [
    "## Final Model"
   ]
  },
  {
   "cell_type": "code",
   "execution_count": 145,
   "metadata": {},
   "outputs": [],
   "source": [
    "x_train, x_test, y_train, y_test = train_test_split(x_scaled,np.log1p(y),test_size = 0.25, random_state = 30)\n",
    "y_train = np.log1p(y_train)"
   ]
  },
  {
   "cell_type": "code",
   "execution_count": 146,
   "metadata": {},
   "outputs": [
    {
     "data": {
      "text/plain": [
       "0.6753232136051945"
      ]
     },
     "execution_count": 146,
     "metadata": {},
     "output_type": "execute_result"
    }
   ],
   "source": [
    "Abalone_Final_Model = RandomForestRegressor(n_estimators = 100, criterion = 'mse',\n",
    "                                           min_samples_leaf = 5, min_samples_split = 2, max_depth = 19)\n",
    "\n",
    "Abalone_Final_Model.fit(x_train,y_train)\n",
    "y_pred = Abalone_Final_Model.predict(x_test)\n",
    "r_score = r2_score(y_test,np.expm1(y_pred))\n",
    "r_score"
   ]
  },
  {
   "cell_type": "markdown",
   "metadata": {},
   "source": [
    "After Hyper Parameter Tuning, I have to change some parameters because I didn't get better result before, And Now I have better score."
   ]
  },
  {
   "cell_type": "markdown",
   "metadata": {},
   "source": [
    "## Saving The Final Model"
   ]
  },
  {
   "cell_type": "code",
   "execution_count": 147,
   "metadata": {},
   "outputs": [
    {
     "data": {
      "text/plain": [
       "['Abalone Final Model.pkl']"
      ]
     },
     "execution_count": 147,
     "metadata": {},
     "output_type": "execute_result"
    }
   ],
   "source": [
    "import joblib\n",
    "\n",
    "joblib.dump(Abalone_Final_Model,\"Abalone Final Model.pkl\")"
   ]
  },
  {
   "cell_type": "code",
   "execution_count": null,
   "metadata": {},
   "outputs": [],
   "source": []
  }
 ],
 "metadata": {
  "kernelspec": {
   "display_name": "Python 3",
   "language": "python",
   "name": "python3"
  },
  "language_info": {
   "codemirror_mode": {
    "name": "ipython",
    "version": 3
   },
   "file_extension": ".py",
   "mimetype": "text/x-python",
   "name": "python",
   "nbconvert_exporter": "python",
   "pygments_lexer": "ipython3",
   "version": "3.8.5"
  }
 },
 "nbformat": 4,
 "nbformat_minor": 4
}
